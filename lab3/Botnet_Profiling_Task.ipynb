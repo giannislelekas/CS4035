{
 "cells": [
  {
   "cell_type": "code",
   "execution_count": 101,
   "metadata": {},
   "outputs": [],
   "source": [
    "import numpy as np \n",
    "import pandas as pd\n",
    "from matplotlib import pyplot as plt\n",
    "from helper_functions.flow_data_discretization import *\n",
    "\n",
    "data = pd.read_pickle('./data/scenario_10.pkl')\n",
    "data.head()\n",
    "\n",
    "data_nobground = data[data['Label']!='Background']\n",
    "\n",
    "infected_hosts = ['147.32.84.165','147.32.84.191','147.32.84.192','147.32.84.193','147.32.84.204',\n",
    "                  '147.32.84.205','147.32.84.206','147.32.84.207','147.32.84.208','147.32.84.209']"
   ]
  },
  {
   "cell_type": "code",
   "execution_count": 2,
   "metadata": {},
   "outputs": [],
   "source": [
    "data_infected = data_nobground[data_nobground['Src_IP_Addr']==infected_hosts[0]]\n",
    "data_clean = data_nobground[data_nobground['Src_IP_Addr']!=infected_hosts[0]]"
   ]
  },
  {
   "cell_type": "code",
   "execution_count": 3,
   "metadata": {},
   "outputs": [],
   "source": [
    "infected_code = np.load('./data/infected_code.npy', allow_pickle=True)\n",
    "infected_labels = np.ones(len(infected_code), dtype=int)\n",
    "\n",
    "test_code = np.load('data/test_code.npy', allow_pickle=True)\n",
    "test_labels = np.load('data/test_labels.npy', allow_pickle=True)"
   ]
  },
  {
   "cell_type": "code",
   "execution_count": 4,
   "metadata": {},
   "outputs": [
    {
     "data": {
      "text/plain": [
       "<matplotlib.legend.Legend at 0x7f2e31d07860>"
      ]
     },
     "execution_count": 4,
     "metadata": {},
     "output_type": "execute_result"
    },
    {
     "data": {
      "image/png": "[encoded data removed]",
      "text/plain": [
       "<Figure size 1440x720 with 1 Axes>"
      ]
     },
     "metadata": {
      "needs_background": "light"
     },
     "output_type": "display_data"
    }
   ],
   "source": [
    "plt.figure(figsize=(20,10))\n",
    "plt.plot(infected_code, label = 'Infected')\n",
    "plt.plot(test_code, label= 'Test')\n",
    "plt.legend()"
   ]
  },
  {
   "cell_type": "code",
   "execution_count": 40,
   "metadata": {
    "scrolled": true
   },
   "outputs": [],
   "source": [
    "l = len(infected_code)\n",
    "n = 3\n",
    "if l%n==0:\n",
    "    ngrams = np.reshape(infected_code, [l//n, n])\n",
    "else:\n",
    "    ngrams = np.reshape(infected_code[:-(l%n)], [(l-l%n)//n, n])"
   ]
  },
  {
   "cell_type": "code",
   "execution_count": 4,
   "metadata": {},
   "outputs": [],
   "source": [
    "def extract_ngrams(data, n):\n",
    "    l = len(data)\n",
    "    if l%n==0:\n",
    "        ngrams = np.reshape(data, [l//n, n])\n",
    "    else:\n",
    "        ngrams = np.reshape(data[:-(l%n)], [(l-l%n)//n, n])\n",
    "        \n",
    "    return ngrams"
   ]
  },
  {
   "cell_type": "code",
   "execution_count": 103,
   "metadata": {},
   "outputs": [],
   "source": [
    "trigrams = extract_ngrams(infected_code, 3)\n",
    "unique_trigrams, trigrams_counts = np.unique(trigrams, axis=0, return_counts=True)\n",
    "trigrams_prob = trigrams_counts/sum(trigrams_counts)\n",
    "\n",
    "bigrams = extract_ngrams(infected_code, 2)\n",
    "unique_bigrams, bigrams_counts = np.unique(bigrams, axis=0, return_counts=True)"
   ]
  },
  {
   "cell_type": "code",
   "execution_count": 6,
   "metadata": {},
   "outputs": [],
   "source": [
    "prob = np.zeros(len(trigrams))\n",
    "i = 0\n",
    "for ii in trigrams:\n",
    "    b_ind = np.where(np.prod(np.equal(ii[:-1], unique_bigrams), axis=1))\n",
    "    t_ind = np.where(np.prod(np.equal(ii, unique_trigrams), axis=1))\n",
    "#     print(\"Trigram: \", ii)\n",
    "#     print(\"Unique Trigram: \", unique_trigrams[t_ind])\n",
    "#     print(\"Unique Bigrams: \", unique_bigrams[b_ind], \"\\n\")\n",
    "    prob[i] = trigrams_counts[t_ind]/bigrams_counts[b_ind]\n",
    "    \n",
    "    i=i+1\n",
    "    "
   ]
  },
  {
   "cell_type": "code",
   "execution_count": 35,
   "metadata": {},
   "outputs": [
    {
     "data": {
      "text/plain": [
       "Src_IP_Addr\n",
       "10.10.20.233       75\n",
       "10.168.115.232      5\n",
       "10.168.48.160       4\n",
       "10.23.106.55        2\n",
       "10.23.12.43         4\n",
       "10.23.130.74        5\n",
       "10.23.139.192       5\n",
       "10.23.20.92         4\n",
       "10.23.24.236        3\n",
       "10.23.60.88         4\n",
       "10.23.64.58         3\n",
       "10.28.118.2         4\n",
       "10.28.160.211       2\n",
       "10.28.31.72         4\n",
       "10.28.48.34         3\n",
       "109.183.212.229     2\n",
       "109.205.72.182      2\n",
       "109.230.222.33      4\n",
       "114.80.93.71        6\n",
       "117.241.11.209      8\n",
       "119.63.196.103      1\n",
       "119.63.196.12       2\n",
       "119.63.196.45       2\n",
       "119.63.196.49       2\n",
       "119.63.196.52       2\n",
       "119.63.196.55       2\n",
       "119.63.196.82       2\n",
       "119.63.196.83       2\n",
       "119.63.196.84       2\n",
       "119.63.196.90       2\n",
       "                   ..\n",
       "90.178.18.205       3\n",
       "90.178.200.35       2\n",
       "90.179.148.10       4\n",
       "90.182.1.249       12\n",
       "90.182.139.202      2\n",
       "90.183.220.145      3\n",
       "90.183.239.162      2\n",
       "90.183.39.17       14\n",
       "90.40.213.8        25\n",
       "91.103.160.39       4\n",
       "91.103.160.56      33\n",
       "91.202.144.77       1\n",
       "91.82.255.135       2\n",
       "92.123.64.137      12\n",
       "92.123.64.144       6\n",
       "92.123.64.161      12\n",
       "92.123.64.162      18\n",
       "92.123.64.171      25\n",
       "92.123.68.128       5\n",
       "92.123.68.163       5\n",
       "93.152.160.101     53\n",
       "93.205.154.247      2\n",
       "94.112.88.183       6\n",
       "94.113.108.246     10\n",
       "94.199.40.135       2\n",
       "94.199.41.1         2\n",
       "95.103.17.209      13\n",
       "95.108.158.245      1\n",
       "95.211.77.153      18\n",
       "95.27.206.21       12\n",
       "Length: 521, dtype: int64"
      ]
     },
     "execution_count": 35,
     "metadata": {},
     "output_type": "execute_result"
    }
   ],
   "source": [
    "counts = data_clean.groupby(by='Src_IP_Addr').size()\n",
    "counts"
   ]
  },
  {
   "cell_type": "code",
   "execution_count": 83,
   "metadata": {},
   "outputs": [],
   "source": [
    "hosts = np.unique(data_clean['Src_IP_Addr'].values)\n",
    "ordinal_val = [1]\n",
    "feat = ['Prot', 'Packets']\n",
    "n=3\n",
    "\n",
    "pred = np.zeros(len(hosts), dtype=int)\n",
    "i=0\n",
    "for host in hosts:\n",
    "    host_data = data_clean[data_clean['Src_IP_Addr']==host]\n",
    "    if len(host_data)<n:\n",
    "        continue\n",
    "    host_data = host_data[feat].values\n",
    "    host_data[:,1] = discretize_ordinal(host_data[:,1], ordinal_val)\n",
    "    \n",
    "    host_code, _ = extract_code(host_data)\n",
    "    host_ngrams = extract_ngrams(host_code, 3)\n",
    "    host_alarms = []\n",
    "    for ngram in host_ngrams:\n",
    "        if np.sum(np.prod(np.equal(ngram, unique_trigrams), axis=1))==0:\n",
    "            host_alarms.append(ngram)\n",
    "    if len(host_alarms)!=0:\n",
    "        pred[i]=1\n",
    "    \n",
    "    i = i+1"
   ]
  },
  {
   "cell_type": "code",
   "execution_count": 102,
   "metadata": {},
   "outputs": [
    {
     "name": "stdout",
     "output_type": "stream",
     "text": [
      "TP:  7\n",
      "FP:  161\n",
      "FN:  2\n",
      "TN: 351\n",
      "521\n"
     ]
    }
   ],
   "source": [
    "TP = np.sum(np.isin(hosts[pred==1], infected_hosts))\n",
    "FP = np.sum(pred==1) - TP\n",
    "TN = np.sum(np.isin(hosts[pred==0], infected_hosts, invert=True))\n",
    "FN = np.sum(pred==0) - TN\n",
    "print(\"TP: \", TP)\n",
    "print(\"FP: \", FP)\n",
    "print(\"FN: \", FN)\n",
    "print(\"TN:\", TN)\n",
    "print(TP+FP+TN+FN)"
   ]
  },
  {
   "cell_type": "code",
   "execution_count": 104,
   "metadata": {},
   "outputs": [],
   "source": [
    "hosts = np.unique(data_clean['Src_IP_Addr'].values)\n",
    "ordinal_val = [1]\n",
    "feat = ['Prot', 'Packets']\n",
    "n=3\n",
    "\n",
    "pred = np.zeros(len(hosts), dtype=int)\n",
    "i=0\n",
    "for host in hosts:\n",
    "    host_data = data_clean[data_clean['Src_IP_Addr']==host]\n",
    "    if len(host_data)<n:\n",
    "        continue\n",
    "    host_data = host_data[feat].values\n",
    "    host_data[:,1] = discretize_ordinal(host_data[:,1], ordinal_val)\n",
    "    \n",
    "    host_code, _ = extract_code(host_data)\n",
    "    host_ngrams = extract_ngrams(host_code, 3)\n",
    "    host_unique_ngrams, host_count = np.unique(host_ngrams, axis=0, return_counts=True)\n",
    "    host_prob = host_count/np.sum(host_count)\n",
    "    host_alarms = host_prob < min(trigrams_prob)\n",
    "#     host_alarms = []\n",
    "#     for ngram in host_ngrams:\n",
    "#         if np.sum(np.prod(np.equal(ngram, unique_trigrams), axis=1))==0:\n",
    "#             host_alarms.append(ngram)\n",
    "    if len(host_alarms)!=0:\n",
    "        pred[i]=1\n",
    "    \n",
    "    i = i+1"
   ]
  },
  {
   "cell_type": "code",
   "execution_count": 105,
   "metadata": {},
   "outputs": [
    {
     "name": "stdout",
     "output_type": "stream",
     "text": [
      "TP:  9\n",
      "FP:  388\n",
      "FN:  0\n",
      "TN: 124\n",
      "521\n"
     ]
    }
   ],
   "source": [
    "TP = np.sum(np.isin(hosts[pred==1], infected_hosts))\n",
    "FP = np.sum(pred==1) - TP\n",
    "TN = np.sum(np.isin(hosts[pred==0], infected_hosts, invert=True))\n",
    "FN = np.sum(pred==0) - TN\n",
    "print(\"TP: \", TP)\n",
    "print(\"FP: \", FP)\n",
    "print(\"FN: \", FN)\n",
    "print(\"TN:\", TN)\n",
    "print(TP+FP+TN+FN)"
   ]
  },
  {
   "cell_type": "code",
   "execution_count": null,
   "metadata": {},
   "outputs": [],
   "source": []
  }
 ],
 "metadata": {
  "kernelspec": {
   "display_name": "Cyber Data Analytics",
   "language": "python",
   "name": "cda"
  },
  "language_info": {
   "codemirror_mode": {
    "name": "ipython",
    "version": 3
   },
   "file_extension": ".py",
   "mimetype": "text/x-python",
   "name": "python",
   "nbconvert_exporter": "python",
   "pygments_lexer": "ipython3",
   "version": "3.7.3"
  }
 },
 "nbformat": 4,
 "nbformat_minor": 2
}
