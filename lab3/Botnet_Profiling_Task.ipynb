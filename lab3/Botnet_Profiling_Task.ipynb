{
 "cells": [
  {
   "cell_type": "markdown",
   "metadata": {},
   "source": [
    "For the Botnet profiling task, we are going to use n-grams as our sequential method. Our approach is based on the CNG method (https://web.cs.dal.ca/~vlado/papers/pst04.pdf), where two training profiles are extracted corresponding to the two classes `infected` and `normal`. For the extraction of these two profiles we made use the first host from infected and normal hosts (147.32.84.165 and 147.32.84.170) respectively.\n",
    "\n",
    "Next, we test our method on unseen host data, classifying them according to the CNG method. Further information will be given below.\n",
    "\n",
    "The preprocessed file `capture20110818.pcap.netflow.labeled.remastered` has been used to avoid the issue with loading we faced in the Flow discretization task. The file is generated there."
   ]
  },
  {
   "cell_type": "code",
   "execution_count": 1,
   "metadata": {},
   "outputs": [
    {
     "data": {
      "text/plain": [
       "array(['147.32.87.36', '147.32.84.207', '147.32.84.164', '147.32.84.204',\n",
       "       '147.32.84.134', '147.32.84.205', '147.32.84.206', '147.32.84.193',\n",
       "       '147.32.84.208', '147.32.80.9', '147.32.87.11', '147.32.84.192',\n",
       "       '147.32.84.191', '147.32.84.209'], dtype='<U13')"
      ]
     },
     "execution_count": 1,
     "metadata": {},
     "output_type": "execute_result"
    }
   ],
   "source": [
    "import numpy as np \n",
    "import pandas as pd\n",
    "from matplotlib import pyplot as plt\n",
    "from sklearn.utils import shuffle\n",
    "from helper_functions.flow_data_discretization import *\n",
    "from helper_functions.botnet_profiling_task import *\n",
    "\n",
    "infected_hosts = ['147.32.84.165','147.32.84.191','147.32.84.192','147.32.84.193','147.32.84.204',\n",
    "                  '147.32.84.205','147.32.84.206','147.32.84.207','147.32.84.208','147.32.84.209']\n",
    "\n",
    "normal_hosts = ['147.32.84.170', '147.32.84.134', '147.32.84.164', '147.32.87.36', '147.32.80.9', '147.32.87.11']\n",
    "\n",
    "test_hosts = np.append(infected_hosts[1:], normal_hosts[1:])\n",
    "test_hosts = shuffle(test_hosts)\n",
    "test_hosts"
   ]
  },
  {
   "cell_type": "code",
   "execution_count": 2,
   "metadata": {},
   "outputs": [
    {
     "data": {
      "text/html": [
       "<div>\n",
       "<style scoped>\n",
       "    .dataframe tbody tr th:only-of-type {\n",
       "        vertical-align: middle;\n",
       "    }\n",
       "\n",
       "    .dataframe tbody tr th {\n",
       "        vertical-align: top;\n",
       "    }\n",
       "\n",
       "    .dataframe thead th {\n",
       "        text-align: right;\n",
       "    }\n",
       "</style>\n",
       "<table border=\"1\" class=\"dataframe\">\n",
       "  <thead>\n",
       "    <tr style=\"text-align: right;\">\n",
       "      <th></th>\n",
       "      <th>Durat</th>\n",
       "      <th>Prot</th>\n",
       "      <th>Flags</th>\n",
       "      <th>Tos</th>\n",
       "      <th>Packets</th>\n",
       "      <th>Bytes</th>\n",
       "      <th>Flows</th>\n",
       "      <th>Label</th>\n",
       "      <th>Src_IP_Addr</th>\n",
       "      <th>Src_Port</th>\n",
       "      <th>Dst_IP_Addr</th>\n",
       "      <th>Dst_Port</th>\n",
       "      <th>Datetime</th>\n",
       "    </tr>\n",
       "  </thead>\n",
       "  <tbody>\n",
       "    <tr>\n",
       "      <th>0</th>\n",
       "      <td>0.002</td>\n",
       "      <td>TCP</td>\n",
       "      <td>FRPA_</td>\n",
       "      <td>0</td>\n",
       "      <td>4</td>\n",
       "      <td>321</td>\n",
       "      <td>1</td>\n",
       "      <td>Background</td>\n",
       "      <td>147.32.86.166</td>\n",
       "      <td>33426</td>\n",
       "      <td>212.24.150.110</td>\n",
       "      <td>25443</td>\n",
       "      <td>2011-08-18 10:19:13.328</td>\n",
       "    </tr>\n",
       "    <tr>\n",
       "      <th>1</th>\n",
       "      <td>4.995</td>\n",
       "      <td>UDP</td>\n",
       "      <td>INT</td>\n",
       "      <td>0</td>\n",
       "      <td>617</td>\n",
       "      <td>40095</td>\n",
       "      <td>1</td>\n",
       "      <td>Background</td>\n",
       "      <td>82.39.2.249</td>\n",
       "      <td>41915</td>\n",
       "      <td>147.32.84.59</td>\n",
       "      <td>43087</td>\n",
       "      <td>2011-08-18 10:19:13.328</td>\n",
       "    </tr>\n",
       "    <tr>\n",
       "      <th>2</th>\n",
       "      <td>4.996</td>\n",
       "      <td>UDP</td>\n",
       "      <td>INT</td>\n",
       "      <td>0</td>\n",
       "      <td>1290</td>\n",
       "      <td>1909200</td>\n",
       "      <td>1</td>\n",
       "      <td>Background</td>\n",
       "      <td>147.32.84.59</td>\n",
       "      <td>43087</td>\n",
       "      <td>82.39.2.249</td>\n",
       "      <td>41915</td>\n",
       "      <td>2011-08-18 10:19:13.329</td>\n",
       "    </tr>\n",
       "    <tr>\n",
       "      <th>3</th>\n",
       "      <td>0.000</td>\n",
       "      <td>TCP</td>\n",
       "      <td>A_</td>\n",
       "      <td>0</td>\n",
       "      <td>1</td>\n",
       "      <td>66</td>\n",
       "      <td>1</td>\n",
       "      <td>Background</td>\n",
       "      <td>147.32.86.166</td>\n",
       "      <td>42020</td>\n",
       "      <td>147.32.192.34</td>\n",
       "      <td>993</td>\n",
       "      <td>2011-08-18 10:19:13.330</td>\n",
       "    </tr>\n",
       "    <tr>\n",
       "      <th>4</th>\n",
       "      <td>0.000</td>\n",
       "      <td>TCP</td>\n",
       "      <td>FPA_</td>\n",
       "      <td>0</td>\n",
       "      <td>2</td>\n",
       "      <td>169</td>\n",
       "      <td>1</td>\n",
       "      <td>Background</td>\n",
       "      <td>212.24.150.110</td>\n",
       "      <td>25443</td>\n",
       "      <td>147.32.86.166</td>\n",
       "      <td>33426</td>\n",
       "      <td>2011-08-18 10:19:13.330</td>\n",
       "    </tr>\n",
       "  </tbody>\n",
       "</table>\n",
       "</div>"
      ],
      "text/plain": [
       "   Durat Prot  Flags  Tos  Packets    Bytes  Flows       Label  \\\n",
       "0  0.002  TCP  FRPA_    0        4      321      1  Background   \n",
       "1  4.995  UDP    INT    0      617    40095      1  Background   \n",
       "2  4.996  UDP    INT    0     1290  1909200      1  Background   \n",
       "3  0.000  TCP     A_    0        1       66      1  Background   \n",
       "4  0.000  TCP   FPA_    0        2      169      1  Background   \n",
       "\n",
       "      Src_IP_Addr Src_Port     Dst_IP_Addr Dst_Port                 Datetime  \n",
       "0   147.32.86.166    33426  212.24.150.110    25443  2011-08-18 10:19:13.328  \n",
       "1     82.39.2.249    41915    147.32.84.59    43087  2011-08-18 10:19:13.328  \n",
       "2    147.32.84.59    43087     82.39.2.249    41915  2011-08-18 10:19:13.329  \n",
       "3   147.32.86.166    42020   147.32.192.34      993  2011-08-18 10:19:13.330  \n",
       "4  212.24.150.110    25443   147.32.86.166    33426  2011-08-18 10:19:13.330  "
      ]
     },
     "execution_count": 2,
     "metadata": {},
     "output_type": "execute_result"
    }
   ],
   "source": [
    "data = pd.read_csv('./data/capture20110818.pcap.netflow.labeled.remastered')\n",
    "data[['Src_IP_Addr', 'Src_Port']] = data['Src_IP_Addr:Port'].str.split(':', n=1, expand=True)\n",
    "data[['Dst_IP_Addr', 'Dst_Port']] = data['Dst_IP_Addr:Port'].str.split(':', n=1, expand=True)\n",
    "\n",
    "data['Datetime'] = data['#Date_flow'].str.cat(data['start'], sep=' ')\n",
    "\n",
    "data.drop(labels=['#Date_flow', 'start', 'Src_IP_Addr:Port', 'Dst_IP_Addr:Port'], axis=1, inplace=True)\n",
    "data.head()"
   ]
  },
  {
   "cell_type": "markdown",
   "metadata": {},
   "source": [
    "NaNs do occur in features `Src_Port` and `Dst_Port` which will not be further utilized for this task. Hence, no further action is taken."
   ]
  },
  {
   "cell_type": "code",
   "execution_count": 3,
   "metadata": {},
   "outputs": [
    {
     "data": {
      "text/plain": [
       "array([     0,      0,      0,      0,      0,      0,      0,      0,\n",
       "            0, 374017,      0, 375948,      0])"
      ]
     },
     "execution_count": 3,
     "metadata": {},
     "output_type": "execute_result"
    }
   ],
   "source": [
    "nans = data.isna().values\n",
    "np.sum(nans, axis=0)"
   ]
  },
  {
   "cell_type": "markdown",
   "metadata": {},
   "source": [
    "Remove background flows."
   ]
  },
  {
   "cell_type": "code",
   "execution_count": 4,
   "metadata": {},
   "outputs": [
    {
     "name": "stdout",
     "output_type": "stream",
     "text": [
      "Shape:  (645358, 13)\n"
     ]
    },
    {
     "data": {
      "text/html": [
       "<div>\n",
       "<style scoped>\n",
       "    .dataframe tbody tr th:only-of-type {\n",
       "        vertical-align: middle;\n",
       "    }\n",
       "\n",
       "    .dataframe tbody tr th {\n",
       "        vertical-align: top;\n",
       "    }\n",
       "\n",
       "    .dataframe thead th {\n",
       "        text-align: right;\n",
       "    }\n",
       "</style>\n",
       "<table border=\"1\" class=\"dataframe\">\n",
       "  <thead>\n",
       "    <tr style=\"text-align: right;\">\n",
       "      <th></th>\n",
       "      <th>Durat</th>\n",
       "      <th>Prot</th>\n",
       "      <th>Flags</th>\n",
       "      <th>Tos</th>\n",
       "      <th>Packets</th>\n",
       "      <th>Bytes</th>\n",
       "      <th>Flows</th>\n",
       "      <th>Label</th>\n",
       "      <th>Src_IP_Addr</th>\n",
       "      <th>Src_Port</th>\n",
       "      <th>Dst_IP_Addr</th>\n",
       "      <th>Dst_Port</th>\n",
       "      <th>Datetime</th>\n",
       "    </tr>\n",
       "  </thead>\n",
       "  <tbody>\n",
       "    <tr>\n",
       "      <th>20</th>\n",
       "      <td>4.985</td>\n",
       "      <td>TCP</td>\n",
       "      <td>PA_</td>\n",
       "      <td>0</td>\n",
       "      <td>91</td>\n",
       "      <td>86277</td>\n",
       "      <td>1</td>\n",
       "      <td>LEGITIMATE</td>\n",
       "      <td>147.32.80.13</td>\n",
       "      <td>80</td>\n",
       "      <td>147.32.85.88</td>\n",
       "      <td>56949</td>\n",
       "      <td>2011-08-18 10:19:13.347</td>\n",
       "    </tr>\n",
       "    <tr>\n",
       "      <th>51</th>\n",
       "      <td>0.000</td>\n",
       "      <td>TCP</td>\n",
       "      <td>A_</td>\n",
       "      <td>0</td>\n",
       "      <td>1</td>\n",
       "      <td>66</td>\n",
       "      <td>1</td>\n",
       "      <td>LEGITIMATE</td>\n",
       "      <td>147.32.86.110</td>\n",
       "      <td>48102</td>\n",
       "      <td>74.125.232.214</td>\n",
       "      <td>443</td>\n",
       "      <td>2011-08-18 10:19:13.392</td>\n",
       "    </tr>\n",
       "    <tr>\n",
       "      <th>57</th>\n",
       "      <td>4.921</td>\n",
       "      <td>TCP</td>\n",
       "      <td>A_</td>\n",
       "      <td>0</td>\n",
       "      <td>49</td>\n",
       "      <td>3234</td>\n",
       "      <td>1</td>\n",
       "      <td>LEGITIMATE</td>\n",
       "      <td>147.32.85.88</td>\n",
       "      <td>56949</td>\n",
       "      <td>147.32.80.13</td>\n",
       "      <td>80</td>\n",
       "      <td>2011-08-18 10:19:13.411</td>\n",
       "    </tr>\n",
       "    <tr>\n",
       "      <th>73</th>\n",
       "      <td>4.742</td>\n",
       "      <td>TCP</td>\n",
       "      <td>A_</td>\n",
       "      <td>0</td>\n",
       "      <td>118</td>\n",
       "      <td>7080</td>\n",
       "      <td>1</td>\n",
       "      <td>LEGITIMATE</td>\n",
       "      <td>147.32.84.59</td>\n",
       "      <td>2768</td>\n",
       "      <td>74.125.108.208</td>\n",
       "      <td>80</td>\n",
       "      <td>2011-08-18 10:19:13.460</td>\n",
       "    </tr>\n",
       "    <tr>\n",
       "      <th>75</th>\n",
       "      <td>0.000</td>\n",
       "      <td>TCP</td>\n",
       "      <td>A_</td>\n",
       "      <td>0</td>\n",
       "      <td>1</td>\n",
       "      <td>60</td>\n",
       "      <td>1</td>\n",
       "      <td>LEGITIMATE</td>\n",
       "      <td>147.32.84.59</td>\n",
       "      <td>56058</td>\n",
       "      <td>74.125.232.215</td>\n",
       "      <td>443</td>\n",
       "      <td>2011-08-18 10:19:13.486</td>\n",
       "    </tr>\n",
       "  </tbody>\n",
       "</table>\n",
       "</div>"
      ],
      "text/plain": [
       "    Durat Prot Flags  Tos  Packets  Bytes  Flows       Label    Src_IP_Addr  \\\n",
       "20  4.985  TCP   PA_    0       91  86277      1  LEGITIMATE   147.32.80.13   \n",
       "51  0.000  TCP    A_    0        1     66      1  LEGITIMATE  147.32.86.110   \n",
       "57  4.921  TCP    A_    0       49   3234      1  LEGITIMATE   147.32.85.88   \n",
       "73  4.742  TCP    A_    0      118   7080      1  LEGITIMATE   147.32.84.59   \n",
       "75  0.000  TCP    A_    0        1     60      1  LEGITIMATE   147.32.84.59   \n",
       "\n",
       "   Src_Port     Dst_IP_Addr Dst_Port                 Datetime  \n",
       "20       80    147.32.85.88    56949  2011-08-18 10:19:13.347  \n",
       "51    48102  74.125.232.214      443  2011-08-18 10:19:13.392  \n",
       "57    56949    147.32.80.13       80  2011-08-18 10:19:13.411  \n",
       "73     2768  74.125.108.208       80  2011-08-18 10:19:13.460  \n",
       "75    56058  74.125.232.215      443  2011-08-18 10:19:13.486  "
      ]
     },
     "execution_count": 4,
     "metadata": {},
     "output_type": "execute_result"
    }
   ],
   "source": [
    "# remove background \n",
    "data_nobground = data[ data['Label'] != 'Background']\n",
    "print(\"Shape: \", data_nobground.shape)\n",
    "\n",
    "data_nobground.head()"
   ]
  },
  {
   "cell_type": "markdown",
   "metadata": {},
   "source": [
    "Discretize the `Prot` features as an enumeration of its unique values. **NOTE**: only protocols *TCP, UDP* and *ICMP* occur in the non-background data."
   ]
  },
  {
   "cell_type": "code",
   "execution_count": 5,
   "metadata": {},
   "outputs": [
    {
     "name": "stderr",
     "output_type": "stream",
     "text": [
      "/home/ilele/.conda/envs/cda/lib/python3.7/site-packages/ipykernel_launcher.py:7: SettingWithCopyWarning: \n",
      "A value is trying to be set on a copy of a slice from a DataFrame.\n",
      "Try using .loc[row_indexer,col_indexer] = value instead\n",
      "\n",
      "See the caveats in the documentation: http://pandas.pydata.org/pandas-docs/stable/indexing.html#indexing-view-versus-copy\n",
      "  import sys\n"
     ]
    }
   ],
   "source": [
    "# Storing the mapping used for the conversion, in case we want to revert back \n",
    "label_mapping = {}\n",
    "\n",
    "char_cols = ['Prot']\n",
    "\n",
    "for c in char_cols:\n",
    "    data_nobground[c], label_mapping[c] = pd.factorize(data_nobground[c])\n",
    "\n",
    "# Uncomment this line, if you want to see the mapppings for the conversion\n",
    "# label_mapping"
   ]
  },
  {
   "cell_type": "markdown",
   "metadata": {},
   "source": [
    "Discretize feature `Packets`, according to ordinal discretization found in https://ieeexplore.ieee.org/abstract/document/7987293 and add the extracted discrete feature `Disc_Packets` in the dataframe."
   ]
  },
  {
   "cell_type": "code",
   "execution_count": 6,
   "metadata": {},
   "outputs": [
    {
     "name": "stderr",
     "output_type": "stream",
     "text": [
      "/home/ilele/.conda/envs/cda/lib/python3.7/site-packages/ipykernel_launcher.py:4: SettingWithCopyWarning: \n",
      "A value is trying to be set on a copy of a slice from a DataFrame.\n",
      "Try using .loc[row_indexer,col_indexer] = value instead\n",
      "\n",
      "See the caveats in the documentation: http://pandas.pydata.org/pandas-docs/stable/indexing.html#indexing-view-versus-copy\n",
      "  after removing the cwd from sys.path.\n"
     ]
    }
   ],
   "source": [
    "ranks = 2\n",
    "\n",
    "packets = data_nobground['Packets'].values\n",
    "data_nobground['Disc_Packets'] = discretize_ordinal(packets, ranks)"
   ]
  },
  {
   "cell_type": "markdown",
   "metadata": {},
   "source": [
    "This is the training phase of our algorithm. Here, we extract the training profiles corresponding to the infected and the normal classes; the hosts 147.32.84.165 and 147.32.84.170 were used respectively. As host data, we consider the data where the considered host occurs either as host or destination. The features `Prot` and `Disc_Packets` are utilized and corresponding code values are extracted. Next, we apply a sliding window of a given length (in the current case of legnth 2) to extract the corresponding n-grams (sequences of code values). Finally, we extract the training profiles with the n-grams and their respective normalized frequency.\n",
    "\n",
    "Tune the length of the sliding window, by changing `n`. Laplace smoothing has also been tested; you can use it by setting `use_smoothing=True`.\n",
    "\n",
    "For further information on the utilized helper functions please refer to `helper_functions/botnet_profiling_task`."
   ]
  },
  {
   "cell_type": "code",
   "execution_count": 7,
   "metadata": {},
   "outputs": [],
   "source": [
    "n = 2 \n",
    "feat = ['Prot', 'Disc_Packets']\n",
    "use_smoothing = False\n",
    "\n",
    "# Extracting the infected training profile\n",
    "infected_data = data_nobground[np.logical_or(data_nobground['Src_IP_Addr'] == infected_hosts[0], data_nobground['Dst_IP_Addr']==infected_hosts[0])]\n",
    "infected_data = infected_data[feat].values\n",
    "\n",
    "infected_code, _ = extract_code(infected_data)\n",
    "infected_ngrams = extract_ngrams(infected_code, n)\n",
    "unique_infected_ngrams, unique_infected_counts = np.unique(infected_ngrams, axis=0, return_counts=True)\n",
    "if use_smoothing:\n",
    "    max_unigram = np.max(unique_infected_ngrams)\n",
    "    smoothed_infected_ngrams, smoothed_infected_counts = laplace_smoothing(unique_infected_ngrams, unique_infected_counts, max_unigram)\n",
    "    _, infected_prof, infected_sorted_prof = extract_profile(smoothed_infected_ngrams, smoothed_infected_counts)\n",
    "else:\n",
    "    _, infected_prof, infected_sorted_prof = extract_profile(unique_infected_ngrams, unique_infected_counts)\n",
    "\n",
    "# Extracting the normal profile\n",
    "normal_data = data_nobground[np.logical_or(data_nobground['Src_IP_Addr'] == normal_hosts[0], data_nobground['Dst_IP_Addr']==normal_hosts[0])]\n",
    "normal_data = normal_data[feat].values\n",
    "\n",
    "normal_code, _ = extract_code(normal_data)\n",
    "normal_ngrams = extract_ngrams(normal_code, n)\n",
    "unique_normal_ngrams, unique_normal_counts = np.unique(normal_ngrams, axis=0, return_counts=True)\n",
    "if use_smoothing:\n",
    "    smoothed_normal_ngrams, smoothed_normal_counts = laplace_smoothing(unique_normal_ngrams, unique_normal_counts, max_unigram)\n",
    "    _, normal_prof, normal_sorted_prof = extract_profile(smoothed_normal_ngrams, smoothed_normal_counts)\n",
    "else:\n",
    "    _, normal_prof, normal_sorted_prof = extract_profile(unique_normal_ngrams, unique_normal_counts)"
   ]
  },
  {
   "cell_type": "markdown",
   "metadata": {},
   "source": [
    "This is the same visualization offered in the Flow discretization task. It reveals an interesting aspect which will be exploited in the profiling. As seen, code values are much higher for the infected class, hence we expect the respective n-grams to be composed of higher values, comparing to the normal profile's n-grams."
   ]
  },
  {
   "cell_type": "code",
   "execution_count": 8,
   "metadata": {},
   "outputs": [
    {
     "data": {
      "text/plain": [
       "Text(0, 0.5, 'Extracted code')"
      ]
     },
     "execution_count": 8,
     "metadata": {},
     "output_type": "execute_result"
    },
    {
     "data": {
      "image/png": "[encoded data removed]",
      "text/plain": [
       "<Figure size 1440x720 with 1 Axes>"
      ]
     },
     "metadata": {
      "needs_background": "light"
     },
     "output_type": "display_data"
    }
   ],
   "source": [
    "plt.figure(figsize=(20,10))\n",
    "plt.plot(infected_code, color='r', label='infected')\n",
    "plt.plot(normal_code, color='g', label='normal')\n",
    "plt.legend()\n",
    "plt.xlabel(\"Index\")\n",
    "plt.ylabel(\"Extracted code\")"
   ]
  },
  {
   "cell_type": "markdown",
   "metadata": {},
   "source": [
    "Here the profiling-classification of unseen hosts occurs. For the classification of each host, the respective profile is extracted. Then we compute the distance of the extracted host profile to the two training profiles, corresponding to the two classes. As a distance metric we used the distance of the CNG method defined in https://web.cs.dal.ca/~vlado/papers/pst04.pdf. Finally, we classify the host to the closest training profile (1-NearestNeighbour approach). From the profiles we only keep the 2 most frequent n-grams. This simple model as seen below suffices to detect every infected and normal host.\n",
    "\n",
    "We also print the extracted distances for each host. The host 147.32.87.11 is skipped (classified as normal on default) as there are not enough data to extract sequence of the given length."
   ]
  },
  {
   "cell_type": "code",
   "execution_count": 9,
   "metadata": {},
   "outputs": [
    {
     "name": "stdout",
     "output_type": "stream",
     "text": [
      "147.32.87.36 , Normal: 1.544 , Infected: 4.119\n",
      "147.32.84.207 , Normal: 6.067 , Infected: 0.018\n",
      "147.32.84.164 , Normal: 0.782 , Infected: 6.623\n",
      "147.32.84.204 , Normal: 6.464 , Infected: 0.206\n",
      "147.32.84.134 , Normal: 1.346 , Infected: 7.104\n",
      "147.32.84.205 , Normal: 6.585 , Infected: 0.33\n",
      "147.32.84.206 , Normal: 6.177 , Infected: 0.041\n",
      "147.32.84.193 , Normal: 5.882 , Infected: 0.032\n",
      "147.32.84.208 , Normal: 6.532 , Infected: 0.281\n",
      "147.32.80.9 , Normal: 13.046 , Infected: 14.104\n",
      "147.32.84.192 , Normal: 6.364 , Infected: 0.128\n",
      "147.32.84.191 , Normal: 6.373 , Infected: 0.134\n",
      "147.32.84.209 , Normal: 5.9 , Infected: 0.004\n"
     ]
    }
   ],
   "source": [
    "pred = np.zeros(len(test_hosts), dtype=int)\n",
    "i=0\n",
    "for host in test_hosts:\n",
    "    host_data = data_nobground[np.logical_or(data_nobground['Src_IP_Addr'] == host, data_nobground['Dst_IP_Addr']==host)]\n",
    "    if len(host_data)<n:\n",
    "        i = i+1\n",
    "        continue\n",
    "    host_data = host_data[feat].values\n",
    "    \n",
    "    host_code, _ = extract_code(host_data)\n",
    "    host_ngrams = extract_ngrams(host_code, n)\n",
    "    unique_host_ngrams, unique_host_counts = np.unique(host_ngrams, axis=0, return_counts=True)\n",
    "    if use_smoothing:\n",
    "        smoothed_host_ngrams, smoothed_host_counts = laplace_smoothing(unique_host_ngrams, unique_host_counts, max_unigram)\n",
    "        _, host_prof, sorted_host_prof = extract_profile(smoothed_host_ngrams, smoothed_host_counts)\n",
    "    else:\n",
    "        _, host_prof, sorted_host_prof = extract_profile(unique_host_ngrams, unique_host_counts)\n",
    "    \n",
    "    normal_distance = distance(normal_prof, host_prof, normal_sorted_prof, sorted_host_prof, 2)\n",
    "    infected_distance = distance(infected_prof, host_prof, infected_sorted_prof, sorted_host_prof, 2)\n",
    "    \n",
    "    print(host, ', Normal:',  np.round(normal_distance, 3),', Infected:', np.round(infected_distance, 3))\n",
    "    if infected_distance < normal_distance:\n",
    "        \n",
    "        pred[i] = 1\n",
    "\n",
    "    i = i+1"
   ]
  },
  {
   "cell_type": "markdown",
   "metadata": {},
   "source": [
    "As seen in the reported performance metrics our method manages to detect every normal and infected host. Similar performance was measured for increasing the width of the sliding window up to 7; after that gradually the number of FPs increased."
   ]
  },
  {
   "cell_type": "code",
   "execution_count": 10,
   "metadata": {},
   "outputs": [
    {
     "name": "stdout",
     "output_type": "stream",
     "text": [
      "Confusion matrix: \n",
      " [[9 0]\n",
      " [0 5]]\n",
      "Accuracy: 1.000\n",
      "Precision: 1.000\n",
      "Recall: 1.000\n",
      "F1_score: 1.000\n"
     ]
    }
   ],
   "source": [
    "TP = np.sum(np.isin(test_hosts[pred==1], infected_hosts))\n",
    "FP = np.sum(pred==1) - TP\n",
    "TN = np.sum(np.isin(test_hosts[pred==0], infected_hosts, invert=True))\n",
    "FN = np.sum(pred==0) - TN\n",
    "\n",
    "cm = np.array([[TP, FP], [FN, TN]])\n",
    "print('Confusion matrix: \\n', cm)\n",
    "\n",
    "acc, prec, rec, F1 = performance_metrics(cm)\n",
    "\n",
    "print(\"Accuracy: %.3f\" %acc)\n",
    "print(\"Precision: %.3f\" %prec)\n",
    "print(\"Recall: %.3f\" %rec)\n",
    "print(\"F1_score: %.3f\" %F1)"
   ]
  },
  {
   "cell_type": "code",
   "execution_count": null,
   "metadata": {},
   "outputs": [],
   "source": []
  }
 ],
 "metadata": {
  "kernelspec": {
   "display_name": "Cyber Data Analytics",
   "language": "python",
   "name": "cda"
  },
  "language_info": {
   "codemirror_mode": {
    "name": "ipython",
    "version": 3
   },
   "file_extension": ".py",
   "mimetype": "text/x-python",
   "name": "python",
   "nbconvert_exporter": "python",
   "pygments_lexer": "ipython3",
   "version": "3.7.3"
  }
 },
 "nbformat": 4,
 "nbformat_minor": 2
}
