{
 "cells": [
  {
   "cell_type": "code",
   "execution_count": 1,
   "metadata": {},
   "outputs": [
    {
     "data": {
      "text/plain": [
       "array(['147.32.84.209', '147.32.84.192', '147.32.84.205', '147.32.87.11',\n",
       "       '147.32.84.204', '147.32.84.206', '147.32.80.9', '147.32.84.134',\n",
       "       '147.32.84.193', '147.32.84.164', '147.32.84.207', '147.32.87.36',\n",
       "       '147.32.84.191', '147.32.84.208'], dtype='<U13')"
      ]
     },
     "execution_count": 1,
     "metadata": {},
     "output_type": "execute_result"
    }
   ],
   "source": [
    "import numpy as np \n",
    "import pandas as pd\n",
    "from matplotlib import pyplot as plt\n",
    "from sklearn.utils import shuffle\n",
    "from helper_functions.flow_data_discretization import *\n",
    "\n",
    "data = pd.read_pickle('./data/scenario_10.pkl')\n",
    "data.head()\n",
    "\n",
    "data_nobground = data[data['Label']!='Background']\n",
    "\n",
    "infected_hosts = ['147.32.84.165','147.32.84.191','147.32.84.192','147.32.84.193','147.32.84.204',\n",
    "                  '147.32.84.205','147.32.84.206','147.32.84.207','147.32.84.208','147.32.84.209']\n",
    "\n",
    "normal_hosts = ['147.32.84.170', '147.32.84.134', '147.32.84.164', '147.32.87.36', '147.32.80.9', '147.32.87.11']\n",
    "\n",
    "test_hosts = np.append(infected_hosts[1:], normal_hosts[1:])\n",
    "test_hosts = shuffle(test_hosts)\n",
    "test_hosts"
   ]
  },
  {
   "cell_type": "code",
   "execution_count": 2,
   "metadata": {},
   "outputs": [
    {
     "name": "stderr",
     "output_type": "stream",
     "text": [
      "/home/ilele/.conda/envs/cda/lib/python3.7/site-packages/ipykernel_launcher.py:7: SettingWithCopyWarning: \n",
      "A value is trying to be set on a copy of a slice from a DataFrame.\n",
      "Try using .loc[row_indexer,col_indexer] = value instead\n",
      "\n",
      "See the caveats in the documentation: http://pandas.pydata.org/pandas-docs/stable/indexing.html#indexing-view-versus-copy\n",
      "  import sys\n"
     ]
    }
   ],
   "source": [
    "# Storing the mapping used for the conversion, in case we want to revert back \n",
    "label_mapping = {}\n",
    "\n",
    "char_cols = ['Prot']\n",
    "\n",
    "for c in char_cols:\n",
    "    data_nobground[c], label_mapping[c] = pd.factorize(data_nobground[c])\n",
    "\n",
    "# Uncomment this line, if you want to see the mapppings for the conversion\n",
    "# label_mapping"
   ]
  },
  {
   "cell_type": "code",
   "execution_count": 3,
   "metadata": {},
   "outputs": [
    {
     "name": "stderr",
     "output_type": "stream",
     "text": [
      "/home/ilele/.conda/envs/cda/lib/python3.7/site-packages/ipykernel_launcher.py:4: SettingWithCopyWarning: \n",
      "A value is trying to be set on a copy of a slice from a DataFrame.\n",
      "Try using .loc[row_indexer,col_indexer] = value instead\n",
      "\n",
      "See the caveats in the documentation: http://pandas.pydata.org/pandas-docs/stable/indexing.html#indexing-view-versus-copy\n",
      "  after removing the cwd from sys.path.\n"
     ]
    }
   ],
   "source": [
    "ranks = 2\n",
    "\n",
    "packets = data_nobground['Packets'].values\n",
    "data_nobground['Disc_Packets'] = discretize_ordinal(packets, ranks)"
   ]
  },
  {
   "cell_type": "code",
   "execution_count": 4,
   "metadata": {},
   "outputs": [],
   "source": [
    "def extract_ngrams(data, n):\n",
    "    l = len(data)\n",
    "    if l%n==0:\n",
    "        ngrams = np.reshape(data, [l//n, n])\n",
    "    else:\n",
    "        ngrams = np.reshape(data[:-(l%n)], [(l-l%n)//n, n])\n",
    "        \n",
    "    return ngrams"
   ]
  },
  {
   "cell_type": "code",
   "execution_count": 5,
   "metadata": {},
   "outputs": [],
   "source": [
    "import itertools\n",
    "\n",
    "def laplace_smoothing(unique_ngrams, ngrams_counts, max_unigram):\n",
    "    \n",
    "#     unigrams = np.unique(unique_ngrams)\n",
    "    unigrams = np.arange(max_unigram+1)\n",
    "#     print(unigrams)\n",
    "    n = unique_ngrams.shape[1]\n",
    "    \n",
    "    comb = list(itertools.product(unigrams, repeat=n))\n",
    "\n",
    "    smoothed_ngrams = list(unique_ngrams)\n",
    "    smoothed_count = list(ngrams_counts)\n",
    "    for ngram in comb:\n",
    "        exists = np.sum(np.prod(np.equal(ngram, unique_ngrams), axis=1))\n",
    "        \n",
    "        if exists==0:\n",
    "#             print(ngram, exists)\n",
    "            smoothed_ngrams.append(ngram)\n",
    "            smoothed_count.append(1)\n",
    "    smoothed_ngrams = np.array(smoothed_ngrams)\n",
    "    smoothed_count = np.array(smoothed_count)\n",
    "    \n",
    "    return smoothed_ngrams, smoothed_count"
   ]
  },
  {
   "cell_type": "code",
   "execution_count": 27,
   "metadata": {},
   "outputs": [],
   "source": [
    "prob = np.zeros(len(trigrams))\n",
    "i = 0\n",
    "for ii in trigrams:\n",
    "    b_ind = np.where(np.prod(np.equal(ii[:-1], unique_bigrams), axis=1))\n",
    "    t_ind = np.where(np.prod(np.equal(ii, unique_trigrams), axis=1))\n",
    "#     print(\"Trigram: \", ii)\n",
    "#     print(\"Unique Trigram: \", unique_trigrams[t_ind])\n",
    "#     print(\"Unique Bigrams: \", unique_bigrams[b_ind], \"\\n\")\n",
    "    prob[i] = trigrams_counts[t_ind]/bigrams_counts[b_ind]\n",
    "    \n",
    "    i=i+1\n",
    "    "
   ]
  },
  {
   "cell_type": "code",
   "execution_count": 9,
   "metadata": {},
   "outputs": [
    {
     "data": {
      "text/plain": [
       "Src_IP_Addr\n",
       "147.32.96.69     100394\n",
       "147.32.84.59      90560\n",
       "147.32.80.13      36949\n",
       "147.32.84.205     24572\n",
       "147.32.84.206     23169\n",
       "147.32.84.208     22844\n",
       "147.32.84.204     22804\n",
       "147.32.84.207     21861\n",
       "147.32.84.191     21494\n",
       "147.32.84.192     21473\n",
       "dtype: int64"
      ]
     },
     "execution_count": 9,
     "metadata": {},
     "output_type": "execute_result"
    }
   ],
   "source": [
    "counts = data_clean.groupby(by='Src_IP_Addr').size()\n",
    "counts.sort_values(ascending=False).head(10)"
   ]
  },
  {
   "cell_type": "code",
   "execution_count": 6,
   "metadata": {},
   "outputs": [],
   "source": [
    "import operator\n",
    "\n",
    "def extract_profile(ngrams, ngrams_counts):\n",
    "    \n",
    "    ngrams = ngrams.astype(str)\n",
    "    string_cat = lambda x: ''.join(x)\n",
    "    ngrams = np.apply_along_axis(string_cat, 1, ngrams)\n",
    "    \n",
    "    prof = dict(zip(ngrams, ngrams_counts))\n",
    "    prof_norm = dict(zip(ngrams, ngrams_counts/sum(ngrams_counts)))\n",
    "    \n",
    "    sorted_count = sorted(prof_norm.items(), key=operator.itemgetter(0))\n",
    "    \n",
    "    return prof, prof_norm, np.array(sorted_count)\n",
    "\n",
    "# prof, prof_norm, sorted_count = extract_profile(smoothed_infected_ngrams, smoothed_infected_counts)\n",
    "# sorted_count[]"
   ]
  },
  {
   "cell_type": "code",
   "execution_count": 7,
   "metadata": {},
   "outputs": [],
   "source": [
    "n = 2 \n",
    "feat = ['Prot', 'Disc_Packets']\n",
    "use_smoothing = False\n",
    "\n",
    "# Extracting the infected training profile\n",
    "infected_data = data_nobground[np.logical_or(data_nobground['Src_IP_Addr'] == infected_hosts[0], data_nobground['Dst_IP_Addr']==infected_hosts[0])]\n",
    "infected_data = infected_data[feat].values\n",
    "\n",
    "infected_code, _ = extract_code(infected_data)\n",
    "infected_ngrams = extract_ngrams(infected_code, n)\n",
    "unique_infected_ngrams, unique_infected_counts = np.unique(infected_ngrams, axis=0, return_counts=True)\n",
    "if use_smoothing:\n",
    "    max_unigram = np.max(unique_infected_ngrams)\n",
    "    smoothed_infected_ngrams, smoothed_infected_counts = laplace_smoothing(unique_infected_ngrams, unique_infected_counts, max_unigram)\n",
    "    _, infected_prof, infected_sorted_prof = extract_profile(smoothed_infected_ngrams, smoothed_infected_counts)\n",
    "else:\n",
    "    _, infected_prof, infected_sorted_prof = extract_profile(unique_infected_ngrams, unique_infected_counts)\n",
    "\n",
    "# Extracting the normal profile\n",
    "normal_data = data_nobground[np.logical_or(data_nobground['Src_IP_Addr'] == normal_hosts[0], data_nobground['Dst_IP_Addr']==normal_hosts[0])]\n",
    "normal_data = normal_data[feat].values\n",
    "\n",
    "normal_code, _ = extract_code(normal_data)\n",
    "normal_ngrams = extract_ngrams(normal_code, n)\n",
    "unique_normal_ngrams, unique_normal_counts = np.unique(normal_ngrams, axis=0, return_counts=True)\n",
    "if use_smoothing:\n",
    "    smoothed_normal_ngrams, smoothed_normal_counts = laplace_smoothing(unique_normal_ngrams, unique_normal_counts, max_unigram)\n",
    "    _, normal_prof, normal_sorted_prof = extract_profile(smoothed_normal_ngrams, smoothed_normal_counts)\n",
    "else:\n",
    "    _, normal_prof, normal_sorted_prof = extract_profile(unique_normal_ngrams, unique_normal_counts)"
   ]
  },
  {
   "cell_type": "code",
   "execution_count": 17,
   "metadata": {},
   "outputs": [
    {
     "data": {
      "text/plain": [
       "Text(0, 0.5, 'Extracted code')"
      ]
     },
     "execution_count": 17,
     "metadata": {},
     "output_type": "execute_result"
    },
    {
     "data": {
      "image/png": "[encoded data removed]",
      "text/plain": [
       "<Figure size 1440x720 with 1 Axes>"
      ]
     },
     "metadata": {
      "needs_background": "light"
     },
     "output_type": "display_data"
    }
   ],
   "source": [
    "plt.figure(figsize=(20,10))\n",
    "plt.plot(infected_code, color='r', label='infected')\n",
    "plt.plot(normal_code, color='g', label='normal')\n",
    "plt.legend()\n",
    "plt.xlabel(\"Index\")\n",
    "plt.ylabel(\"Extracted code\")"
   ]
  },
  {
   "cell_type": "code",
   "execution_count": 33,
   "metadata": {},
   "outputs": [],
   "source": [
    "def distance(sorted_prof, host_prof):\n",
    "    \n",
    "    dist = 0\n",
    "    for i in range(len(sorted_prof)):\n",
    "        ngram, f = sorted_prof[i]\n",
    "#         print(ngram, f)\n",
    "        if ngram not in host_prof.keys():\n",
    "            continue\n",
    "#         print(f-host_prof[ngram])\n",
    "        dist += ((f-host_prof[ngram]) / ((f+host_prof[ngram])/2))**2\n",
    "    return dist"
   ]
  },
  {
   "cell_type": "code",
   "execution_count": 9,
   "metadata": {},
   "outputs": [],
   "source": [
    "def distance(train_prof, host_prof, sorted_train_prof, sorted_host_prof, N):\n",
    "    \n",
    "    if N>=len(sorted_train_prof):\n",
    "        train_ngrams = sorted_train_prof[:, 0]\n",
    "    else:\n",
    "        train_ngrams = sorted_train_prof[:N, 0]\n",
    "    \n",
    "    if N>=len(sorted_host_prof):\n",
    "        host_ngrams = sorted_host_prof[:, 0]\n",
    "    else:\n",
    "        host_ngrams = sorted_host_prof[:N, 0]\n",
    "    \n",
    "    ngrams = np.append(train_ngrams, host_ngrams)\n",
    "    ngrams = np.unique(ngrams)\n",
    "    \n",
    "    dist = 0\n",
    "    for ngram in ngrams:\n",
    "        if ngram not in train_prof.keys():\n",
    "            f_train = 0\n",
    "        else:\n",
    "            f_train = train_prof[ngram]\n",
    "\n",
    "        if ngram not in host_prof.keys():\n",
    "            f_host = 0\n",
    "        else:\n",
    "            f_host = host_prof[ngram]\n",
    "        dist += ((f_train-f_host) / ((f_train+f_host)/2))**2\n",
    "    return dist"
   ]
  },
  {
   "cell_type": "code",
   "execution_count": 20,
   "metadata": {},
   "outputs": [],
   "source": [
    "# def distance(unique_host_ngrams, prof_ngrams, host_prob, prof_prob):\n",
    "    \n",
    "#     distance,i = 0,0\n",
    "#     for ngram in unique_host_ngrams:\n",
    "#         ind = np.where(np.prod(np.equal(ngram, prof_ngrams), axis=1))\n",
    "#         print(ind)\n",
    "#         distance = distance + ((prof_prob[ind] - host_prob[i]) / ((prof_prob[ind] - host_prob[i])/2))**2 \n",
    "# #         print(distance)\n",
    "#         i = i+1\n",
    "        \n",
    "#     return distance"
   ]
  },
  {
   "cell_type": "code",
   "execution_count": 20,
   "metadata": {},
   "outputs": [],
   "source": [
    "pred = np.zeros(len(test_hosts), dtype=int)\n",
    "i=0\n",
    "for host in test_hosts:\n",
    "    host_data = data_nobground[np.logical_or(data_nobground['Src_IP_Addr'] == host, data_nobground['Dst_IP_Addr']==host)]\n",
    "    if len(host_data)<n:\n",
    "        i = i+1\n",
    "        continue\n",
    "    host_data = host_data[feat].values\n",
    "    \n",
    "    host_code, _ = extract_code(host_data)\n",
    "    host_ngrams = extract_ngrams(host_code, n)\n",
    "    unique_host_ngrams, unique_host_counts = np.unique(host_ngrams, axis=0, return_counts=True)\n",
    "    if use_smoothing:\n",
    "        smoothed_host_ngrams, smoothed_host_counts = laplace_smoothing(unique_host_ngrams, unique_host_counts, max_unigram)\n",
    "        _, host_prof, sorted_host_prof = extract_profile(smoothed_host_ngrams, smoothed_host_counts)\n",
    "    else:\n",
    "        _, host_prof, sorted_host_prof = extract_profile(unique_host_ngrams, unique_host_counts)\n",
    "    \n",
    "    normal_distance = distance(normal_prof, host_prof, normal_sorted_prof, sorted_host_prof, 2)\n",
    "    infected_distance = distance(infected_prof, host_prof, infected_sorted_prof, sorted_host_prof, 2)\n",
    "    \n",
    "#     print(host, normal_distance, infected_distance)\n",
    "    if infected_distance < normal_distance:\n",
    "        \n",
    "        pred[i] = 1\n",
    "\n",
    "    i = i+1"
   ]
  },
  {
   "cell_type": "code",
   "execution_count": 19,
   "metadata": {},
   "outputs": [
    {
     "name": "stdout",
     "output_type": "stream",
     "text": [
      "TP:  9\n",
      "FP:  1\n",
      "FN:  0\n",
      "TN: 4\n",
      "14\n"
     ]
    }
   ],
   "source": [
    "TP = np.sum(np.isin(test_hosts[pred==1], infected_hosts))\n",
    "FP = np.sum(pred==1) - TP\n",
    "TN = np.sum(np.isin(test_hosts[pred==0], infected_hosts, invert=True))\n",
    "FN = np.sum(pred==0) - TN\n",
    "print(\"TP: \", TP)\n",
    "print(\"FP: \", FP)\n",
    "print(\"FN: \", FN)\n",
    "print(\"TN:\", TN)\n",
    "print(TP+FP+TN+FN)"
   ]
  },
  {
   "cell_type": "code",
   "execution_count": 67,
   "metadata": {},
   "outputs": [
    {
     "ename": "KeyboardInterrupt",
     "evalue": "",
     "output_type": "error",
     "traceback": [
      "\u001b[0;31m---------------------------------------------------------------------------\u001b[0m",
      "\u001b[0;31mKeyboardInterrupt\u001b[0m                         Traceback (most recent call last)",
      "\u001b[0;32m<ipython-input-67-31fb711ce135>\u001b[0m in \u001b[0;36m<module>\u001b[0;34m\u001b[0m\n\u001b[1;32m     13\u001b[0m \u001b[0mi\u001b[0m\u001b[0;34m=\u001b[0m\u001b[0;36m0\u001b[0m\u001b[0;34m\u001b[0m\u001b[0;34m\u001b[0m\u001b[0m\n\u001b[1;32m     14\u001b[0m \u001b[0;32mfor\u001b[0m \u001b[0mhost\u001b[0m \u001b[0;32min\u001b[0m \u001b[0mhosts\u001b[0m\u001b[0;34m:\u001b[0m\u001b[0;34m\u001b[0m\u001b[0;34m\u001b[0m\u001b[0m\n\u001b[0;32m---> 15\u001b[0;31m     \u001b[0mhost_data\u001b[0m \u001b[0;34m=\u001b[0m \u001b[0mdata_clean\u001b[0m\u001b[0;34m[\u001b[0m\u001b[0mdata_clean\u001b[0m\u001b[0;34m[\u001b[0m\u001b[0;34m'Src_IP_Addr'\u001b[0m\u001b[0;34m]\u001b[0m\u001b[0;34m==\u001b[0m\u001b[0mhost\u001b[0m\u001b[0;34m]\u001b[0m\u001b[0;34m\u001b[0m\u001b[0;34m\u001b[0m\u001b[0m\n\u001b[0m\u001b[1;32m     16\u001b[0m     \u001b[0;32mif\u001b[0m \u001b[0mlen\u001b[0m\u001b[0;34m(\u001b[0m\u001b[0mhost_data\u001b[0m\u001b[0;34m)\u001b[0m\u001b[0;34m<\u001b[0m\u001b[0mn\u001b[0m\u001b[0;34m:\u001b[0m\u001b[0;34m\u001b[0m\u001b[0;34m\u001b[0m\u001b[0m\n\u001b[1;32m     17\u001b[0m         \u001b[0;32mcontinue\u001b[0m\u001b[0;34m\u001b[0m\u001b[0;34m\u001b[0m\u001b[0m\n",
      "\u001b[0;32m~/.conda/envs/cda/lib/python3.7/site-packages/pandas/core/ops.py\u001b[0m in \u001b[0;36mwrapper\u001b[0;34m(self, other, axis)\u001b[0m\n\u001b[1;32m   1764\u001b[0m \u001b[0;34m\u001b[0m\u001b[0m\n\u001b[1;32m   1765\u001b[0m             \u001b[0;32mwith\u001b[0m \u001b[0mnp\u001b[0m\u001b[0;34m.\u001b[0m\u001b[0merrstate\u001b[0m\u001b[0;34m(\u001b[0m\u001b[0mall\u001b[0m\u001b[0;34m=\u001b[0m\u001b[0;34m'ignore'\u001b[0m\u001b[0;34m)\u001b[0m\u001b[0;34m:\u001b[0m\u001b[0;34m\u001b[0m\u001b[0;34m\u001b[0m\u001b[0m\n\u001b[0;32m-> 1766\u001b[0;31m                 \u001b[0mres\u001b[0m \u001b[0;34m=\u001b[0m \u001b[0mna_op\u001b[0m\u001b[0;34m(\u001b[0m\u001b[0mvalues\u001b[0m\u001b[0;34m,\u001b[0m \u001b[0mother\u001b[0m\u001b[0;34m)\u001b[0m\u001b[0;34m\u001b[0m\u001b[0;34m\u001b[0m\u001b[0m\n\u001b[0m\u001b[1;32m   1767\u001b[0m             \u001b[0;32mif\u001b[0m \u001b[0mis_scalar\u001b[0m\u001b[0;34m(\u001b[0m\u001b[0mres\u001b[0m\u001b[0;34m)\u001b[0m\u001b[0;34m:\u001b[0m\u001b[0;34m\u001b[0m\u001b[0;34m\u001b[0m\u001b[0m\n\u001b[1;32m   1768\u001b[0m                 raise TypeError('Could not compare {typ} type with Series'\n",
      "\u001b[0;32m~/.conda/envs/cda/lib/python3.7/site-packages/pandas/core/ops.py\u001b[0m in \u001b[0;36mna_op\u001b[0;34m(x, y)\u001b[0m\n\u001b[1;32m   1623\u001b[0m \u001b[0;34m\u001b[0m\u001b[0m\n\u001b[1;32m   1624\u001b[0m         \u001b[0;32mif\u001b[0m \u001b[0mis_object_dtype\u001b[0m\u001b[0;34m(\u001b[0m\u001b[0mx\u001b[0m\u001b[0;34m.\u001b[0m\u001b[0mdtype\u001b[0m\u001b[0;34m)\u001b[0m\u001b[0;34m:\u001b[0m\u001b[0;34m\u001b[0m\u001b[0;34m\u001b[0m\u001b[0m\n\u001b[0;32m-> 1625\u001b[0;31m             \u001b[0mresult\u001b[0m \u001b[0;34m=\u001b[0m \u001b[0m_comp_method_OBJECT_ARRAY\u001b[0m\u001b[0;34m(\u001b[0m\u001b[0mop\u001b[0m\u001b[0;34m,\u001b[0m \u001b[0mx\u001b[0m\u001b[0;34m,\u001b[0m \u001b[0my\u001b[0m\u001b[0;34m)\u001b[0m\u001b[0;34m\u001b[0m\u001b[0;34m\u001b[0m\u001b[0m\n\u001b[0m\u001b[1;32m   1626\u001b[0m \u001b[0;34m\u001b[0m\u001b[0m\n\u001b[1;32m   1627\u001b[0m         \u001b[0;32melif\u001b[0m \u001b[0mis_datetimelike_v_numeric\u001b[0m\u001b[0;34m(\u001b[0m\u001b[0mx\u001b[0m\u001b[0;34m,\u001b[0m \u001b[0my\u001b[0m\u001b[0;34m)\u001b[0m\u001b[0;34m:\u001b[0m\u001b[0;34m\u001b[0m\u001b[0;34m\u001b[0m\u001b[0m\n",
      "\u001b[0;32m~/.conda/envs/cda/lib/python3.7/site-packages/pandas/core/ops.py\u001b[0m in \u001b[0;36m_comp_method_OBJECT_ARRAY\u001b[0;34m(op, x, y)\u001b[0m\n\u001b[1;32m   1601\u001b[0m         \u001b[0mresult\u001b[0m \u001b[0;34m=\u001b[0m \u001b[0mlibops\u001b[0m\u001b[0;34m.\u001b[0m\u001b[0mvec_compare\u001b[0m\u001b[0;34m(\u001b[0m\u001b[0mx\u001b[0m\u001b[0;34m,\u001b[0m \u001b[0my\u001b[0m\u001b[0;34m,\u001b[0m \u001b[0mop\u001b[0m\u001b[0;34m)\u001b[0m\u001b[0;34m\u001b[0m\u001b[0;34m\u001b[0m\u001b[0m\n\u001b[1;32m   1602\u001b[0m     \u001b[0;32melse\u001b[0m\u001b[0;34m:\u001b[0m\u001b[0;34m\u001b[0m\u001b[0;34m\u001b[0m\u001b[0m\n\u001b[0;32m-> 1603\u001b[0;31m         \u001b[0mresult\u001b[0m \u001b[0;34m=\u001b[0m \u001b[0mlibops\u001b[0m\u001b[0;34m.\u001b[0m\u001b[0mscalar_compare\u001b[0m\u001b[0;34m(\u001b[0m\u001b[0mx\u001b[0m\u001b[0;34m,\u001b[0m \u001b[0my\u001b[0m\u001b[0;34m,\u001b[0m \u001b[0mop\u001b[0m\u001b[0;34m)\u001b[0m\u001b[0;34m\u001b[0m\u001b[0;34m\u001b[0m\u001b[0m\n\u001b[0m\u001b[1;32m   1604\u001b[0m     \u001b[0;32mreturn\u001b[0m \u001b[0mresult\u001b[0m\u001b[0;34m\u001b[0m\u001b[0;34m\u001b[0m\u001b[0m\n\u001b[1;32m   1605\u001b[0m \u001b[0;34m\u001b[0m\u001b[0m\n",
      "\u001b[0;31mKeyboardInterrupt\u001b[0m: "
     ]
    }
   ],
   "source": [
    "n = 5\n",
    "\n",
    "infected_ngrams = extract_ngrams(infected_code, n)\n",
    "unique_infected_ngrams, unique_infected_counts = np.unique(infected_ngrams, axis=0, return_counts=True)\n",
    "infected_prob = unique_host_counts/sum(unique_infected_counts)\n",
    "smoothed_ngrams, smoothed_count = laplace_smoothing(unique_infected_ngrams, unique_infected_counts)\n",
    "\n",
    "hosts = np.unique(data_clean['Src_IP_Addr'].values)\n",
    "ordinal_val = [1]\n",
    "feat = ['Prot', 'Packets']\n",
    "\n",
    "pred = np.zeros(len(hosts), dtype=int)\n",
    "i=0\n",
    "for host in hosts:\n",
    "    host_data = data_clean[data_clean['Src_IP_Addr']==host]\n",
    "    if len(host_data)<n:\n",
    "        continue\n",
    "    host_data = host_data[feat].values\n",
    "    host_data[:,1] = discretize_ordinal(host_data[:,1], ordinal_val)\n",
    "    \n",
    "    host_code, _ = extract_code(host_data)\n",
    "    host_ngrams = extract_ngrams(host_code, n)\n",
    "    host_unique_ngrams, host_count = np.unique(host_ngrams, axis=0, return_counts=True)\n",
    "    host_prob = host_count/np.sum(host_count)\n",
    "    host_alarms = host_prob < min(infected_prob)\n",
    "    \n",
    "    if np.sum(host_alarms)>0:\n",
    "        pred[i]=1\n",
    "    \n",
    "    i = i+1"
   ]
  },
  {
   "cell_type": "code",
   "execution_count": 305,
   "metadata": {},
   "outputs": [
    {
     "name": "stdout",
     "output_type": "stream",
     "text": [
      "TP:  0\n",
      "FP:  11\n",
      "FN:  9\n",
      "TN: 501\n",
      "521\n"
     ]
    }
   ],
   "source": [
    "TP = np.sum(np.isin(hosts[pred==1], infected_hosts))\n",
    "FP = np.sum(pred==1) - TP\n",
    "TN = np.sum(np.isin(hosts[pred==0], infected_hosts, invert=True))\n",
    "FN = np.sum(pred==0) - TN\n",
    "print(\"TP: \", TP)\n",
    "print(\"FP: \", FP)\n",
    "print(\"FN: \", FN)\n",
    "print(\"TN:\", TN)\n",
    "print(TP+FP+TN+FN)"
   ]
  },
  {
   "cell_type": "code",
   "execution_count": 155,
   "metadata": {},
   "outputs": [],
   "source": [
    "n = 5\n",
    "\n",
    "infected_ngrams = extract_ngrams(infected_code, n)\n",
    "unique_infected_ngrams, unique_infected_counts = np.unique(infected_ngrams, axis=0, return_counts=True)\n",
    "smoothed_ngrams, smoothed_count = laplace_smoothing(unique_infected_ngrams, unique_infected_counts)\n",
    "\n",
    "hosts = np.unique(data_clean['Src_IP_Addr'].values)\n",
    "ordinal_val = [1]\n",
    "feat = ['Prot', 'Packets']\n",
    "\n",
    "pred = np.zeros(len(hosts), dtype=int)\n",
    "i=0\n",
    "for host in hosts:\n",
    "    host_data = data_clean[data_clean['Src_IP_Addr']==host]\n",
    "    if len(host_data)<n:\n",
    "        continue\n",
    "    host_data = host_data[feat].values\n",
    "    host_data[:,1] = discretize_ordinal(host_data[:,1], ordinal_val)\n",
    "    \n",
    "    host_code, _ = extract_code(host_data)\n",
    "    host_ngrams = extract_ngrams(host_code, n)\n",
    "    host_unique_ngrams, host_count = np.unique(host_ngrams, axis=0, return_counts=True)\n",
    "    host_prob = host_count/np.sum(host_count)\n",
    "#     print(\"Prob: \", host_prob, \"\\n\")\n",
    "    host_alarms = host_prob < (min(smoothed_count[smoothed_count>1])/sum(smoothed_count[smoothed_count>1]))\n",
    "\n",
    "    if np.sum(host_alarms)>0:\n",
    "#         print(\"Alarm: \",     host_prob, \"\\n\")\n",
    "        pred[i]=1\n",
    "    \n",
    "    i = i+1"
   ]
  },
  {
   "cell_type": "code",
   "execution_count": 149,
   "metadata": {},
   "outputs": [
    {
     "name": "stdout",
     "output_type": "stream",
     "text": [
      "TP:  0\n",
      "FP:  13\n",
      "FN:  9\n",
      "TN: 499\n",
      "521\n"
     ]
    }
   ],
   "source": [
    "TP = np.sum(np.isin(hosts[pred==1], infected_hosts))\n",
    "FP = np.sum(pred==1) - TP\n",
    "TN = np.sum(np.isin(hosts[pred==0], infected_hosts, invert=True))\n",
    "FN = np.sum(pred==0) - TN\n",
    "print(\"TP: \", TP)\n",
    "print(\"FP: \", FP)\n",
    "print(\"FN: \", FN)\n",
    "print(\"TN:\", TN)\n",
    "print(TP+FP+TN+FN)"
   ]
  },
  {
   "cell_type": "markdown",
   "metadata": {},
   "source": [
    "## HMMs"
   ]
  },
  {
   "cell_type": "code",
   "execution_count": 36,
   "metadata": {},
   "outputs": [
    {
     "name": "stdout",
     "output_type": "stream",
     "text": [
      "-17324.66024185303 -17323.728556142418\n"
     ]
    }
   ],
   "source": [
    "from hmmlearn.hmm import GaussianHMM\n",
    "\n",
    "hmm = GaussianHMM(n_components=2)\n",
    "hmm.fit(trigrams)\n",
    "log_likelihood = hmm.decode(trigrams)[0]\n",
    "ll = hmm.score(trigrams)\n",
    "print(log_likelihood, ll)"
   ]
  },
  {
   "cell_type": "code",
   "execution_count": 37,
   "metadata": {},
   "outputs": [],
   "source": [
    "num_states = np.arange(2,10)\n",
    "ll = []\n",
    "for n in num_states:\n",
    "    hmm = GaussianHMM(n_components=n)\n",
    "    hmm.fit(trigrams)\n",
    "#     ll.append(hmm.decode(trigrams)[0])\n",
    "    ll.append(hmm.score(trigrams))"
   ]
  },
  {
   "cell_type": "code",
   "execution_count": 39,
   "metadata": {},
   "outputs": [
    {
     "data": {
      "text/plain": [
       "[<matplotlib.lines.Line2D at 0x7f915c259d30>]"
      ]
     },
     "execution_count": 39,
     "metadata": {},
     "output_type": "execute_result"
    },
    {
     "data": {
      "image/png": "[encoded data removed]",
      "text/plain": [
       "<Figure size 1080x504 with 1 Axes>"
      ]
     },
     "metadata": {
      "needs_background": "light"
     },
     "output_type": "display_data"
    }
   ],
   "source": [
    "plt.figure(figsize=(15,7))\n",
    "plt.plot(num_states, ll)"
   ]
  },
  {
   "cell_type": "code",
   "execution_count": 99,
   "metadata": {},
   "outputs": [],
   "source": [
    "train_ind = []\n",
    "test_ind = []\n",
    "\n",
    "indices_even = list(range(0, len(trigrams), 2))\n",
    "indices_odd = list(range(1, len(trigrams), 2))\n",
    "train_ind.append(indices_even)\n",
    "train_ind.append(indices_odd)\n",
    "test_ind.append(indices_odd)\n",
    "test_ind.append(indices_even)\n",
    "\n",
    "num_states = np.arange(2,16)\n",
    "num_iter = 5\n",
    "\n",
    "mean = []\n",
    "std = []\n",
    "mean_ll = []\n",
    "std_ll = []\n",
    "for n in num_states:\n",
    "    for it in range(num_iter):\n",
    "        ll = []\n",
    "        for i in range(2):\n",
    "            hmm = GaussianHMM(n_components=n)\n",
    "            hmm.fit(trigrams[train_ind[i]])\n",
    "            ll.append(hmm.score(trigrams[test_ind[i]]))\n",
    "        mean.append(np.mean(ll))\n",
    "        std.append(np.std(ll))\n",
    "    mean_ll.append(np.mean(mean))\n",
    "    std_ll.append(np.std(std))\n",
    "mean_ll = np.array(mean_ll)\n",
    "std_ll = np.array(std_ll)"
   ]
  },
  {
   "cell_type": "code",
   "execution_count": 100,
   "metadata": {},
   "outputs": [
    {
     "data": {
      "text/plain": [
       "Text(0, 0.5, 'Log-likelihood')"
      ]
     },
     "execution_count": 100,
     "metadata": {},
     "output_type": "execute_result"
    },
    {
     "data": {
      "image/png": "[encoded data removed]",
      "text/plain": [
       "<Figure size 1080x504 with 1 Axes>"
      ]
     },
     "metadata": {
      "needs_background": "light"
     },
     "output_type": "display_data"
    }
   ],
   "source": [
    "plt.figure(figsize=(15,7))\n",
    "plt.plot(num_states, mean_ll)\n",
    "plt.fill_between(num_states, mean_ll-std_ll, mean_ll+std_ll, alpha=0.2)\n",
    "plt.xlabel(\"Number of hidden states\")\n",
    "plt.ylabel(\"Log-likelihood\")"
   ]
  },
  {
   "cell_type": "code",
   "execution_count": 95,
   "metadata": {},
   "outputs": [
    {
     "data": {
      "text/plain": [
       "[7021.903097915728,\n",
       " 7022.0462841625085,\n",
       " 7022.046283415905,\n",
       " 7022.046283415905,\n",
       " 7022.04628894302,\n",
       " 7022.0462841625085,\n",
       " 17239.95994969656,\n",
       " 7022.046283415905,\n",
       " 7022.046283415905,\n",
       " 7022.04628894302]"
      ]
     },
     "execution_count": 95,
     "metadata": {},
     "output_type": "execute_result"
    }
   ],
   "source": [
    "l = []\n",
    "hmm = GaussianHMM(n_components=3)\n",
    "for i in range(10):\n",
    "    hmm.fit(trigrams[train_ind[0]])\n",
    "    l.append(hmm.score(trigrams[test_ind[1]]))\n",
    "l\n"
   ]
  },
  {
   "cell_type": "code",
   "execution_count": 116,
   "metadata": {},
   "outputs": [],
   "source": [
    "hosts = np.unique(data_clean['Src_IP_Addr'].values)\n",
    "ordinal_val = [1]\n",
    "feat = ['Prot', 'Packets']\n",
    "n = 10\n",
    "num_states = 4\n",
    "num_iter = 5\n",
    "\n",
    "infected_ngrams = extract_ngrams(infected_code, n)\n",
    "\n",
    "hmm = GaussianHMM(num_states)\n",
    "ll = []\n",
    "for it in range(num_iter):\n",
    "    hmm.fit(infected_ngrams)\n",
    "    ll.append(hmm.score(infected_ngrams))\n",
    "log_likelihood = np.mean(ll)\n",
    "\n",
    "pred = np.zeros(len(hosts), dtype=int)\n",
    "log_l = np.zeros(len(hosts))\n",
    "i=0\n",
    "for host in hosts:\n",
    "    host_data = data_clean[data_clean['Src_IP_Addr']==host]\n",
    "    if len(host_data)<n:\n",
    "        continue\n",
    "    host_data = host_data[feat].values\n",
    "    host_data[:,1] = discretize_ordinal(host_data[:,1], ordinal_val)\n",
    "    \n",
    "    host_code, _ = extract_code(host_data)\n",
    "    host_ngrams = extract_ngrams(host_code, n)\n",
    "    \n",
    "    ll = []\n",
    "    for it in range(num_iter):\n",
    "        ll.append(hmm.score(host_ngrams))\n",
    "    log_l[i] = np.mean(ll)\n",
    "    \n",
    "    i = i+1"
   ]
  },
  {
   "cell_type": "code",
   "execution_count": 117,
   "metadata": {},
   "outputs": [
    {
     "name": "stdout",
     "output_type": "stream",
     "text": [
      "TP:  1\n",
      "FP:  32\n",
      "FN:  8\n",
      "TN: 480\n",
      "521\n"
     ]
    }
   ],
   "source": [
    "pred = abs(log_l - log_likelihood) <= abs(log_likelihood/2)\n",
    "\n",
    "TP = np.sum(np.isin(hosts[pred==1], infected_hosts))\n",
    "FP = np.sum(pred==1) - TP\n",
    "TN = np.sum(np.isin(hosts[pred==0], infected_hosts, invert=True))\n",
    "FN = np.sum(pred==0) - TN\n",
    "print(\"TP: \", TP)\n",
    "print(\"FP: \", FP)\n",
    "print(\"FN: \", FN)\n",
    "print(\"TN:\", TN)\n",
    "print(TP+FP+TN+FN)"
   ]
  },
  {
   "cell_type": "code",
   "execution_count": 127,
   "metadata": {},
   "outputs": [
    {
     "data": {
      "text/plain": [
       "<matplotlib.collections.LineCollection at 0x7f91c561ecc0>"
      ]
     },
     "execution_count": 127,
     "metadata": {},
     "output_type": "execute_result"
    },
    {
     "data": {
      "image/png": "[encoded data removed]",
      "text/plain": [
       "<Figure size 1080x1080 with 1 Axes>"
      ]
     },
     "metadata": {
      "needs_background": "light"
     },
     "output_type": "display_data"
    }
   ],
   "source": [
    "plt.figure(figsize=(15,15))\n",
    "plt.plot(abs(log_l-log_likelihood))\n",
    "plt.hlines(y=abs(log_likelihood)/2,xmin=0, xmax=len(log_l), color='r')"
   ]
  },
  {
   "cell_type": "code",
   "execution_count": 145,
   "metadata": {},
   "outputs": [
    {
     "data": {
      "text/plain": [
       "[<matplotlib.lines.Line2D at 0x7f91c53b0588>]"
      ]
     },
     "execution_count": 145,
     "metadata": {},
     "output_type": "execute_result"
    },
    {
     "data": {
      "image/png": "[encoded data removed]",
      "text/plain": [
       "<Figure size 1080x360 with 1 Axes>"
      ]
     },
     "metadata": {
      "needs_background": "light"
     },
     "output_type": "display_data"
    }
   ],
   "source": [
    "plt.figure(figsize=(15,5))\n",
    "t = np.isin(hosts, infected_hosts).astype(int)\n",
    "plt.plot(range(len(t)), t)"
   ]
  },
  {
   "cell_type": "code",
   "execution_count": 142,
   "metadata": {},
   "outputs": [
    {
     "data": {
      "text/plain": [
       "array([0, 0, 0, 0, 0, 0, 0, 0, 0, 0, 0, 0, 0, 0, 0, 0, 0, 0, 0, 0, 0, 0,\n",
       "       0, 0, 0, 0, 0, 0, 0, 0, 0, 0, 0, 0, 0, 0, 0, 0, 0, 0, 0, 0, 0, 0,\n",
       "       0, 0, 0, 0, 0, 0, 0, 0, 0, 0, 0, 0, 0, 0, 0, 0, 0, 0, 0, 0, 0, 0,\n",
       "       0, 0, 0, 0, 0, 0, 0, 0, 0, 0, 1, 1, 1, 0, 0, 1, 1, 1, 1, 1, 1, 0,\n",
       "       0, 0, 0, 0, 0, 0, 0, 0, 0, 0, 0, 0, 0, 0, 0, 0, 0, 0, 0, 0, 0, 0,\n",
       "       0, 0, 0, 0, 0, 0, 0, 0, 0, 0, 0, 0, 0, 0, 0, 0, 0, 0, 0, 0, 0, 0,\n",
       "       0, 0, 0, 0, 0, 0, 0, 0, 0, 0, 0, 0, 0, 0, 0, 0, 0, 0, 0, 0, 0, 0,\n",
       "       0, 0, 0, 0, 0, 0, 0, 0, 0, 0, 0, 0, 0, 0, 0, 0, 0, 0, 0, 0, 0, 0,\n",
       "       0, 0, 0, 0, 0, 0, 0, 0, 0, 0, 0, 0, 0, 0, 0, 0, 0, 0, 0, 0, 0, 0,\n",
       "       0, 0, 0, 0, 0, 0, 0, 0, 0, 0, 0, 0, 0, 0, 0, 0, 0, 0, 0, 0, 0, 0,\n",
       "       0, 0, 0, 0, 0, 0, 0, 0, 0, 0, 0, 0, 0, 0, 0, 0, 0, 0, 0, 0, 0, 0,\n",
       "       0, 0, 0, 0, 0, 0, 0, 0, 0, 0, 0, 0, 0, 0, 0, 0, 0, 0, 0, 0, 0, 0,\n",
       "       0, 0, 0, 0, 0, 0, 0, 0, 0, 0, 0, 0, 0, 0, 0, 0, 0, 0, 0, 0, 0, 0,\n",
       "       0, 0, 0, 0, 0, 0, 0, 0, 0, 0, 0, 0, 0, 0, 0, 0, 0, 0, 0, 0, 0, 0,\n",
       "       0, 0, 0, 0, 0, 0, 0, 0, 0, 0, 0, 0, 0, 0, 0, 0, 0, 0, 0, 0, 0, 0,\n",
       "       0, 0, 0, 0, 0, 0, 0, 0, 0, 0, 0, 0, 0, 0, 0, 0, 0, 0, 0, 0, 0, 0,\n",
       "       0, 0, 0, 0, 0, 0, 0, 0, 0, 0, 0, 0, 0, 0, 0, 0, 0, 0, 0, 0, 0, 0,\n",
       "       0, 0, 0, 0, 0, 0, 0, 0, 0, 0, 0, 0, 0, 0, 0, 0, 0, 0, 0, 0, 0, 0,\n",
       "       0, 0, 0, 0, 0, 0, 0, 0, 0, 0, 0, 0, 0, 0, 0, 0, 0, 0, 0, 0, 0, 0,\n",
       "       0, 0, 0, 0, 0, 0, 0, 0, 0, 0, 0, 0, 0, 0, 0, 0, 0, 0, 0, 0, 0, 0,\n",
       "       0, 0, 0, 0, 0, 0, 0, 0, 0, 0, 0, 0, 0, 0, 0, 0, 0, 0, 0, 0, 0, 0,\n",
       "       0, 0, 0, 0, 0, 0, 0, 0, 0, 0, 0, 0, 0, 0, 0, 0, 0, 0, 0, 0, 0, 0,\n",
       "       0, 0, 0, 0, 0, 0, 0, 0, 0, 0, 0, 0, 0, 0, 0, 0, 0, 0, 0, 0, 0, 0,\n",
       "       0, 0, 0, 0, 0, 0, 0, 0, 0, 0, 0, 0, 0, 0, 0])"
      ]
     },
     "execution_count": 142,
     "metadata": {},
     "output_type": "execute_result"
    }
   ],
   "source": [
    "t"
   ]
  },
  {
   "cell_type": "code",
   "execution_count": null,
   "metadata": {},
   "outputs": [],
   "source": []
  }
 ],
 "metadata": {
  "kernelspec": {
   "display_name": "Cyber Data Analytics",
   "language": "python",
   "name": "cda"
  },
  "language_info": {
   "codemirror_mode": {
    "name": "ipython",
    "version": 3
   },
   "file_extension": ".py",
   "mimetype": "text/x-python",
   "name": "python",
   "nbconvert_exporter": "python",
   "pygments_lexer": "ipython3",
   "version": "3.7.3"
  }
 },
 "nbformat": 4,
 "nbformat_minor": 2
}
