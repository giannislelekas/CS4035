{
 "cells": [
  {
   "cell_type": "markdown",
   "metadata": {},
   "source": [
    "For this task we used CTU scenario 43 (https://mcfp.felk.cvut.cz/publicDatasets/CTU-Malware-Capture-Botnet-43/)"
   ]
  },
  {
   "cell_type": "code",
   "execution_count": 1,
   "metadata": {
    "scrolled": true
   },
   "outputs": [],
   "source": [
    "import pandas as pd \n",
    "import matplotlib.pyplot as plt \n",
    "import numpy as np\n",
    "import time\n",
    "from helper_functions.sketching import *\n",
    "\n",
    "data = pd.read_csv('./data/capture20110811.pcap.netflow.labeled', sep ='\\s+')\n",
    "data.head()\n",
    "\n",
    "infected_host = '147.32.84.165'"
   ]
  },
  {
   "cell_type": "markdown",
   "metadata": {},
   "source": [
    "Some preprocessing; separating features `Src_IP_Addr:Port` and `Dst_IP_Addr:Port` into separate features for tuilized IP addresses and ports. Additioanally, discarding of some not-used features (e.g. `->` is discarded as we only considering unidirectional netflows)."
   ]
  },
  {
   "cell_type": "code",
   "execution_count": 2,
   "metadata": {},
   "outputs": [
    {
     "data": {
      "text/html": [
       "<div>\n",
       "<style scoped>\n",
       "    .dataframe tbody tr th:only-of-type {\n",
       "        vertical-align: middle;\n",
       "    }\n",
       "\n",
       "    .dataframe tbody tr th {\n",
       "        vertical-align: top;\n",
       "    }\n",
       "\n",
       "    .dataframe thead th {\n",
       "        text-align: right;\n",
       "    }\n",
       "</style>\n",
       "<table border=\"1\" class=\"dataframe\">\n",
       "  <thead>\n",
       "    <tr style=\"text-align: right;\">\n",
       "      <th></th>\n",
       "      <th>#Date_flow</th>\n",
       "      <th>start</th>\n",
       "      <th>Durat</th>\n",
       "      <th>Prot</th>\n",
       "      <th>Flags</th>\n",
       "      <th>Tos</th>\n",
       "      <th>Packets</th>\n",
       "      <th>Bytes</th>\n",
       "      <th>Flows</th>\n",
       "      <th>Src_IP_Addr</th>\n",
       "      <th>Src_Port</th>\n",
       "      <th>Dst_IP_Addr</th>\n",
       "      <th>Dst_Port</th>\n",
       "      <th>Label</th>\n",
       "    </tr>\n",
       "  </thead>\n",
       "  <tbody>\n",
       "    <tr>\n",
       "      <th>0</th>\n",
       "      <td>2011-08-11</td>\n",
       "      <td>10:10:00.003</td>\n",
       "      <td>0.967</td>\n",
       "      <td>UDP</td>\n",
       "      <td>INT</td>\n",
       "      <td>0</td>\n",
       "      <td>2</td>\n",
       "      <td>135</td>\n",
       "      <td>1</td>\n",
       "      <td>89.31.8.11</td>\n",
       "      <td>23929</td>\n",
       "      <td>147.32.84.229</td>\n",
       "      <td>13363</td>\n",
       "      <td>Background</td>\n",
       "    </tr>\n",
       "    <tr>\n",
       "      <th>1</th>\n",
       "      <td>2011-08-11</td>\n",
       "      <td>10:10:00.003</td>\n",
       "      <td>0.967</td>\n",
       "      <td>UDP</td>\n",
       "      <td>INT</td>\n",
       "      <td>0</td>\n",
       "      <td>2</td>\n",
       "      <td>276</td>\n",
       "      <td>1</td>\n",
       "      <td>147.32.84.229</td>\n",
       "      <td>13363</td>\n",
       "      <td>89.31.8.11</td>\n",
       "      <td>23929</td>\n",
       "      <td>Background</td>\n",
       "    </tr>\n",
       "    <tr>\n",
       "      <th>2</th>\n",
       "      <td>2011-08-11</td>\n",
       "      <td>10:10:00.006</td>\n",
       "      <td>0.000</td>\n",
       "      <td>UDP</td>\n",
       "      <td>INT</td>\n",
       "      <td>0</td>\n",
       "      <td>1</td>\n",
       "      <td>62</td>\n",
       "      <td>1</td>\n",
       "      <td>208.88.186.6</td>\n",
       "      <td>34042</td>\n",
       "      <td>147.32.84.229</td>\n",
       "      <td>13363</td>\n",
       "      <td>Background</td>\n",
       "    </tr>\n",
       "    <tr>\n",
       "      <th>3</th>\n",
       "      <td>2011-08-11</td>\n",
       "      <td>10:10:00.008</td>\n",
       "      <td>0.000</td>\n",
       "      <td>UDP</td>\n",
       "      <td>INT</td>\n",
       "      <td>0</td>\n",
       "      <td>1</td>\n",
       "      <td>78</td>\n",
       "      <td>1</td>\n",
       "      <td>92.118.218.77</td>\n",
       "      <td>55246</td>\n",
       "      <td>147.32.84.229</td>\n",
       "      <td>13363</td>\n",
       "      <td>Background</td>\n",
       "    </tr>\n",
       "    <tr>\n",
       "      <th>4</th>\n",
       "      <td>2011-08-11</td>\n",
       "      <td>10:10:00.009</td>\n",
       "      <td>0.000</td>\n",
       "      <td>UDP</td>\n",
       "      <td>INT</td>\n",
       "      <td>0</td>\n",
       "      <td>1</td>\n",
       "      <td>72</td>\n",
       "      <td>1</td>\n",
       "      <td>182.185.139.181</td>\n",
       "      <td>10223</td>\n",
       "      <td>147.32.84.229</td>\n",
       "      <td>13363</td>\n",
       "      <td>Background</td>\n",
       "    </tr>\n",
       "  </tbody>\n",
       "</table>\n",
       "</div>"
      ],
      "text/plain": [
       "   #Date_flow         start  Durat Prot Flags  Tos  Packets  Bytes  Flows  \\\n",
       "0  2011-08-11  10:10:00.003  0.967  UDP   INT    0        2    135      1   \n",
       "1  2011-08-11  10:10:00.003  0.967  UDP   INT    0        2    276      1   \n",
       "2  2011-08-11  10:10:00.006  0.000  UDP   INT    0        1     62      1   \n",
       "3  2011-08-11  10:10:00.008  0.000  UDP   INT    0        1     78      1   \n",
       "4  2011-08-11  10:10:00.009  0.000  UDP   INT    0        1     72      1   \n",
       "\n",
       "       Src_IP_Addr Src_Port    Dst_IP_Addr Dst_Port       Label  \n",
       "0       89.31.8.11    23929  147.32.84.229    13363  Background  \n",
       "1    147.32.84.229    13363     89.31.8.11    23929  Background  \n",
       "2     208.88.186.6    34042  147.32.84.229    13363  Background  \n",
       "3    92.118.218.77    55246  147.32.84.229    13363  Background  \n",
       "4  182.185.139.181    10223  147.32.84.229    13363  Background  "
      ]
     },
     "execution_count": 2,
     "metadata": {},
     "output_type": "execute_result"
    }
   ],
   "source": [
    "data[['Src_IP_Addr', 'Src_Port']] = data['Src_IP_Addr:Port'].str.split(':', n=1, expand=True)\n",
    "data[['Dst_IP_Addr', 'Dst_Port']] = data['Dst_IP_Addr:Port'].str.split(':', n=1, expand=True)\n",
    "\n",
    "data['Label'] = data['Label(LEGITIMATE:Botnet:Background)']\n",
    "\n",
    "data = data.drop(labels=['->', 'Label(LEGITIMATE:Botnet:Background)', 'Src_IP_Addr:Port', 'Dst_IP_Addr:Port'], axis=1)\n",
    "\n",
    "data.head()"
   ]
  },
  {
   "cell_type": "markdown",
   "metadata": {},
   "source": [
    "NaNs do occur in features `Src_Port` and `Dst_Port` which will not be further utilized for this taks. Hence, no further action is taken."
   ]
  },
  {
   "cell_type": "code",
   "execution_count": 3,
   "metadata": {},
   "outputs": [
    {
     "data": {
      "text/plain": [
       "array([    0,     0,     0,     0,     0,     0,     0,     0,     0,\n",
       "           0, 62154,     0, 63817,     0])"
      ]
     },
     "execution_count": 3,
     "metadata": {},
     "output_type": "execute_result"
    }
   ],
   "source": [
    "nans = data.isna().values\n",
    "np.sum(nans, axis=0)"
   ]
  },
  {
   "cell_type": "markdown",
   "metadata": {},
   "source": [
    "The infected host documented in the dataset (https://mcfp.felk.cvut.cz/publicDatasets/CTU-Malware-Capture-Botnet-43/) is 147.32.84.165. We want now to examine the hosts, that host connects with; we are thus going to consider netflows where this host appears either as source or destination."
   ]
  },
  {
   "cell_type": "code",
   "execution_count": 4,
   "metadata": {},
   "outputs": [
    {
     "name": "stdout",
     "output_type": "stream",
     "text": [
      "Length:  54433\n"
     ]
    },
    {
     "data": {
      "text/plain": [
       "IP_Addr\n",
       "193.23.181.44      0.118347\n",
       "174.128.246.102    0.075340\n",
       "174.37.196.55      0.068102\n",
       "173.236.31.226     0.062646\n",
       "184.154.89.154     0.061433\n",
       "67.19.72.206       0.059229\n",
       "46.4.36.120        0.057869\n",
       "72.20.15.61        0.057153\n",
       "147.32.80.9        0.028898\n",
       "212.117.171.138    0.017765\n",
       "dtype: float64"
      ]
     },
     "execution_count": 4,
     "metadata": {},
     "output_type": "execute_result"
    }
   ],
   "source": [
    "comm_hosts = []\n",
    "\n",
    "hosts = data[data['Src_IP_Addr']==infected_host]['Dst_IP_Addr'].values\n",
    "comm_hosts.append(hosts)\n",
    "\n",
    "hosts = data[data['Dst_IP_Addr']==infected_host]['Src_IP_Addr'].values\n",
    "comm_hosts.append(hosts)\n",
    "comm_hosts = [x for sublist in comm_hosts for x in sublist]\n",
    "total_count = len(comm_hosts)\n",
    "print(\"Length: \", total_count)\n",
    "\n",
    "ground_truth = pd.DataFrame(comm_hosts, columns=['IP_Addr'])\n",
    "ground_truth = ground_truth.groupby('IP_Addr').size()\n",
    "ground_truth = ground_truth/total_count\n",
    "ground_truth = ground_truth.sort_values(ascending=False)\n",
    "unique_comm_hosts = np.array(ground_truth.index)\n",
    "\n",
    "ground_truth.head(10)"
   ]
  },
  {
   "cell_type": "markdown",
   "metadata": {},
   "source": [
    "Here we have an \"interactive visualizer\". You can adjust `topN` and the counts of the topN most frequent hosts will be visualized. Here we present the distribution for `topN=10`."
   ]
  },
  {
   "cell_type": "code",
   "execution_count": 5,
   "metadata": {},
   "outputs": [
    {
     "data": {
      "text/plain": [
       "Text(0, 0.5, 'Frequency')"
      ]
     },
     "execution_count": 5,
     "metadata": {},
     "output_type": "execute_result"
    },
    {
     "data": {
      "image/png": "[encoded data removed]",
      "text/plain": [
       "<Figure size 1080x504 with 1 Axes>"
      ]
     },
     "metadata": {
      "needs_background": "light"
     },
     "output_type": "display_data"
    }
   ],
   "source": [
    "import seaborn as sns\n",
    "\n",
    "topN=10\n",
    "\n",
    "plt.figure(figsize=(15,7))\n",
    "plt.bar(range(topN), ground_truth.head(topN).values)\n",
    "plt.xticks(range(topN), ground_truth.head(topN).index, rotation=45)\n",
    "\n",
    "plt.xlabel('Host')\n",
    "plt.ylabel('Frequency')"
   ]
  },
  {
   "cell_type": "markdown",
   "metadata": {},
   "source": [
    "Here COUNT-MIN sketch is performed for various values of depths and widths. For more information about the used helper functions please refer to `helper_functions/sketching.py`.\n",
    "\n",
    "Extracted results are stored into dictionaries; for each combination of depth-width the IPs with the respective counts are stored in `dic`, the respective execution time in `dur_dic`. The dictionary `enum` is just an enumeration of the tested combinations, for easier access of the aforementioned dictionaries."
   ]
  },
  {
   "cell_type": "code",
   "execution_count": 6,
   "metadata": {},
   "outputs": [
    {
     "name": "stdout",
     "output_type": "stream",
     "text": [
      "Total duration in seconds:  13.837860107421875\n"
     ]
    }
   ],
   "source": [
    "depths = np.array([5, 10, 20, 50], dtype=int)\n",
    "widths = np.array([10, 100, 1000])\n",
    "\n",
    "enum = {}\n",
    "dic = {}\n",
    "dur_dic = {}\n",
    "\n",
    "i = 0\n",
    "for d in depths:\n",
    "    for w in widths:\n",
    "        # Start timer\n",
    "        start_time = time.time()\n",
    "        \n",
    "        cm, seeds = construct_cm(comm_hosts, d, w)\n",
    "        cm = cm/total_count\n",
    "        estim_count = estimate_counts(unique_comm_hosts, cm, seeds)\n",
    "        sorted_ind = np.flip(np.argsort(estim_count))\n",
    "        \n",
    "        # Stop timer and extract duration\n",
    "        dur = time.time() - start_time\n",
    "        \n",
    "        # Pass the results into dictionaries\n",
    "        enum[i] = f'd_{d}-w_{w}'\n",
    "        dic[f'd_{d}-w_{w}'] = {'IP_Addr':unique_comm_hosts[sorted_ind], 'Frequency':estim_count[sorted_ind]}\n",
    "        dur_dic[f'd_{d}-w_{w}'] = dur\n",
    "        \n",
    "        i = i+1\n",
    "        \n",
    "\n",
    "print(\"Total duration in seconds: \", np.sum(list(dur_dic.values())))"
   ]
  },
  {
   "cell_type": "markdown",
   "metadata": {},
   "source": [
    "Now in order to compare the results we repeat our ground truth here, that is the top-10 IPs with their repsective counts."
   ]
  },
  {
   "cell_type": "code",
   "execution_count": 7,
   "metadata": {},
   "outputs": [
    {
     "data": {
      "text/plain": [
       "IP_Addr\n",
       "193.23.181.44      0.118347\n",
       "174.128.246.102    0.075340\n",
       "174.37.196.55      0.068102\n",
       "173.236.31.226     0.062646\n",
       "184.154.89.154     0.061433\n",
       "67.19.72.206       0.059229\n",
       "46.4.36.120        0.057869\n",
       "72.20.15.61        0.057153\n",
       "147.32.80.9        0.028898\n",
       "212.117.171.138    0.017765\n",
       "dtype: float64"
      ]
     },
     "execution_count": 7,
     "metadata": {},
     "output_type": "execute_result"
    }
   ],
   "source": [
    "ground_truth.head(10)"
   ]
  },
  {
   "cell_type": "markdown",
   "metadata": {},
   "source": [
    "For `depth=5` and `width=1000` we see that the play correctly identifies the top-10 IPs with the correct order, with minor divergences of the computed counts, from the actual ones. This is of course attributed to the low value of depth and consequently the few hash functions utilized."
   ]
  },
  {
   "cell_type": "code",
   "execution_count": 8,
   "metadata": {},
   "outputs": [
    {
     "data": {
      "text/html": [
       "<div>\n",
       "<style scoped>\n",
       "    .dataframe tbody tr th:only-of-type {\n",
       "        vertical-align: middle;\n",
       "    }\n",
       "\n",
       "    .dataframe tbody tr th {\n",
       "        vertical-align: top;\n",
       "    }\n",
       "\n",
       "    .dataframe thead th {\n",
       "        text-align: right;\n",
       "    }\n",
       "</style>\n",
       "<table border=\"1\" class=\"dataframe\">\n",
       "  <thead>\n",
       "    <tr style=\"text-align: right;\">\n",
       "      <th></th>\n",
       "      <th>Frequency</th>\n",
       "    </tr>\n",
       "    <tr>\n",
       "      <th>IP_Addr</th>\n",
       "      <th></th>\n",
       "    </tr>\n",
       "  </thead>\n",
       "  <tbody>\n",
       "    <tr>\n",
       "      <th>193.23.181.44</th>\n",
       "      <td>0.118421</td>\n",
       "    </tr>\n",
       "    <tr>\n",
       "      <th>174.128.246.102</th>\n",
       "      <td>0.075340</td>\n",
       "    </tr>\n",
       "    <tr>\n",
       "      <th>174.37.196.55</th>\n",
       "      <td>0.068102</td>\n",
       "    </tr>\n",
       "    <tr>\n",
       "      <th>173.236.31.226</th>\n",
       "      <td>0.062646</td>\n",
       "    </tr>\n",
       "    <tr>\n",
       "      <th>184.154.89.154</th>\n",
       "      <td>0.061470</td>\n",
       "    </tr>\n",
       "    <tr>\n",
       "      <th>67.19.72.206</th>\n",
       "      <td>0.059229</td>\n",
       "    </tr>\n",
       "    <tr>\n",
       "      <th>46.4.36.120</th>\n",
       "      <td>0.057869</td>\n",
       "    </tr>\n",
       "    <tr>\n",
       "      <th>72.20.15.61</th>\n",
       "      <td>0.057153</td>\n",
       "    </tr>\n",
       "    <tr>\n",
       "      <th>147.32.80.9</th>\n",
       "      <td>0.028898</td>\n",
       "    </tr>\n",
       "    <tr>\n",
       "      <th>212.117.171.138</th>\n",
       "      <td>0.017765</td>\n",
       "    </tr>\n",
       "  </tbody>\n",
       "</table>\n",
       "</div>"
      ],
      "text/plain": [
       "                 Frequency\n",
       "IP_Addr                   \n",
       "193.23.181.44     0.118421\n",
       "174.128.246.102   0.075340\n",
       "174.37.196.55     0.068102\n",
       "173.236.31.226    0.062646\n",
       "184.154.89.154    0.061470\n",
       "67.19.72.206      0.059229\n",
       "46.4.36.120       0.057869\n",
       "72.20.15.61       0.057153\n",
       "147.32.80.9       0.028898\n",
       "212.117.171.138   0.017765"
      ]
     },
     "execution_count": 8,
     "metadata": {},
     "output_type": "execute_result"
    }
   ],
   "source": [
    "df = pd.DataFrame(data=dic[enum[2]])\n",
    "df.set_index('IP_Addr', inplace=True)\n",
    "df.head(10)"
   ]
  },
  {
   "cell_type": "markdown",
   "metadata": {},
   "source": [
    "By increasing now the `depth=10` and `width=1000` we extract the correct top-10 IPs with their respective counts!"
   ]
  },
  {
   "cell_type": "code",
   "execution_count": 9,
   "metadata": {},
   "outputs": [
    {
     "data": {
      "text/html": [
       "<div>\n",
       "<style scoped>\n",
       "    .dataframe tbody tr th:only-of-type {\n",
       "        vertical-align: middle;\n",
       "    }\n",
       "\n",
       "    .dataframe tbody tr th {\n",
       "        vertical-align: top;\n",
       "    }\n",
       "\n",
       "    .dataframe thead th {\n",
       "        text-align: right;\n",
       "    }\n",
       "</style>\n",
       "<table border=\"1\" class=\"dataframe\">\n",
       "  <thead>\n",
       "    <tr style=\"text-align: right;\">\n",
       "      <th></th>\n",
       "      <th>Frequency</th>\n",
       "    </tr>\n",
       "    <tr>\n",
       "      <th>IP_Addr</th>\n",
       "      <th></th>\n",
       "    </tr>\n",
       "  </thead>\n",
       "  <tbody>\n",
       "    <tr>\n",
       "      <th>193.23.181.44</th>\n",
       "      <td>0.118347</td>\n",
       "    </tr>\n",
       "    <tr>\n",
       "      <th>174.128.246.102</th>\n",
       "      <td>0.075340</td>\n",
       "    </tr>\n",
       "    <tr>\n",
       "      <th>174.37.196.55</th>\n",
       "      <td>0.068102</td>\n",
       "    </tr>\n",
       "    <tr>\n",
       "      <th>173.236.31.226</th>\n",
       "      <td>0.062646</td>\n",
       "    </tr>\n",
       "    <tr>\n",
       "      <th>184.154.89.154</th>\n",
       "      <td>0.061433</td>\n",
       "    </tr>\n",
       "    <tr>\n",
       "      <th>67.19.72.206</th>\n",
       "      <td>0.059229</td>\n",
       "    </tr>\n",
       "    <tr>\n",
       "      <th>46.4.36.120</th>\n",
       "      <td>0.057869</td>\n",
       "    </tr>\n",
       "    <tr>\n",
       "      <th>72.20.15.61</th>\n",
       "      <td>0.057153</td>\n",
       "    </tr>\n",
       "    <tr>\n",
       "      <th>147.32.80.9</th>\n",
       "      <td>0.028898</td>\n",
       "    </tr>\n",
       "    <tr>\n",
       "      <th>212.117.171.138</th>\n",
       "      <td>0.017765</td>\n",
       "    </tr>\n",
       "  </tbody>\n",
       "</table>\n",
       "</div>"
      ],
      "text/plain": [
       "                 Frequency\n",
       "IP_Addr                   \n",
       "193.23.181.44     0.118347\n",
       "174.128.246.102   0.075340\n",
       "174.37.196.55     0.068102\n",
       "173.236.31.226    0.062646\n",
       "184.154.89.154    0.061433\n",
       "67.19.72.206      0.059229\n",
       "46.4.36.120       0.057869\n",
       "72.20.15.61       0.057153\n",
       "147.32.80.9       0.028898\n",
       "212.117.171.138   0.017765"
      ]
     },
     "execution_count": 9,
     "metadata": {},
     "output_type": "execute_result"
    }
   ],
   "source": [
    "df = pd.DataFrame(data=dic[enum[5]])\n",
    "df.set_index('IP_Addr', inplace=True)\n",
    "df.head(10)"
   ]
  },
  {
   "cell_type": "markdown",
   "metadata": {},
   "source": [
    "If we decrease the width, hash functions map mulitple IPs to the same cells, thus leading to overlapping counts. This may be seen from the following example where `depth=5` and `width=10`; IPs are not correctly identified, although there are still some of the actual top-10 in the extracted top."
   ]
  },
  {
   "cell_type": "code",
   "execution_count": 10,
   "metadata": {},
   "outputs": [
    {
     "data": {
      "text/html": [
       "<div>\n",
       "<style scoped>\n",
       "    .dataframe tbody tr th:only-of-type {\n",
       "        vertical-align: middle;\n",
       "    }\n",
       "\n",
       "    .dataframe tbody tr th {\n",
       "        vertical-align: top;\n",
       "    }\n",
       "\n",
       "    .dataframe thead th {\n",
       "        text-align: right;\n",
       "    }\n",
       "</style>\n",
       "<table border=\"1\" class=\"dataframe\">\n",
       "  <thead>\n",
       "    <tr style=\"text-align: right;\">\n",
       "      <th></th>\n",
       "      <th>Frequency</th>\n",
       "    </tr>\n",
       "    <tr>\n",
       "      <th>IP_Addr</th>\n",
       "      <th></th>\n",
       "    </tr>\n",
       "  </thead>\n",
       "  <tbody>\n",
       "    <tr>\n",
       "      <th>193.23.181.44</th>\n",
       "      <td>0.151673</td>\n",
       "    </tr>\n",
       "    <tr>\n",
       "      <th>175.100.132.205</th>\n",
       "      <td>0.151673</td>\n",
       "    </tr>\n",
       "    <tr>\n",
       "      <th>173.241.240.6</th>\n",
       "      <td>0.151673</td>\n",
       "    </tr>\n",
       "    <tr>\n",
       "      <th>61.17.216.2</th>\n",
       "      <td>0.128305</td>\n",
       "    </tr>\n",
       "    <tr>\n",
       "      <th>79.132.77.22</th>\n",
       "      <td>0.127055</td>\n",
       "    </tr>\n",
       "    <tr>\n",
       "      <th>203.84.189.77</th>\n",
       "      <td>0.117888</td>\n",
       "    </tr>\n",
       "    <tr>\n",
       "      <th>80.72.0.17</th>\n",
       "      <td>0.117888</td>\n",
       "    </tr>\n",
       "    <tr>\n",
       "      <th>122.1.235.147</th>\n",
       "      <td>0.116731</td>\n",
       "    </tr>\n",
       "    <tr>\n",
       "      <th>174.128.246.102</th>\n",
       "      <td>0.110631</td>\n",
       "    </tr>\n",
       "    <tr>\n",
       "      <th>65.55.92.184</th>\n",
       "      <td>0.110631</td>\n",
       "    </tr>\n",
       "  </tbody>\n",
       "</table>\n",
       "</div>"
      ],
      "text/plain": [
       "                 Frequency\n",
       "IP_Addr                   \n",
       "193.23.181.44     0.151673\n",
       "175.100.132.205   0.151673\n",
       "173.241.240.6     0.151673\n",
       "61.17.216.2       0.128305\n",
       "79.132.77.22      0.127055\n",
       "203.84.189.77     0.117888\n",
       "80.72.0.17        0.117888\n",
       "122.1.235.147     0.116731\n",
       "174.128.246.102   0.110631\n",
       "65.55.92.184      0.110631"
      ]
     },
     "execution_count": 10,
     "metadata": {},
     "output_type": "execute_result"
    }
   ],
   "source": [
    "df = pd.DataFrame(data=dic[enum[0]])\n",
    "df.set_index('IP_Addr', inplace=True)\n",
    "df.head(10)"
   ]
  },
  {
   "cell_type": "markdown",
   "metadata": {},
   "source": [
    "Here we evaluate the sketches played; we extract recall values, that is how many IPs of the top-10 ground-truth are found in the extracted top-10 play. Additionally, we compute the divergence of frequencies computed; for each IP of ground-truth top-10 occuring also at the top-10 play we compute the absolute difference of the frequencies; in case the IP is missing from the top-10 play only the respective ground-truth frequency is added.\n",
    "\n",
    "For `widths=10,100` all IPs are correctly identified. As more hash functions are used an doverlap is reduced, the frequency distance also drops, with `depth=50` and `width=1000`, we have a perfect of IPs and corresponding frequencies."
   ]
  },
  {
   "cell_type": "code",
   "execution_count": 11,
   "metadata": {},
   "outputs": [
    {
     "name": "stdout",
     "output_type": "stream",
     "text": [
      "Recall values:  [0.2 1.  1.  0.6 1.  1.  0.9 1.  1.  1.  1.  1. ]\n",
      "Divergence:  [4.81711462e-01 9.03863465e-03 1.10227252e-04 3.69095953e-01\n",
      " 7.53219554e-03 0.00000000e+00 2.51667187e-01 6.77897599e-03\n",
      " 3.67424173e-05 2.22824390e-01 5.08882479e-03 0.00000000e+00]\n"
     ]
    }
   ],
   "source": [
    "n = len(dic)\n",
    "rec = np.zeros(n)\n",
    "dis = np.zeros(n)\n",
    "for i in range(len(dic)):\n",
    "    df = pd.DataFrame(data=dic[enum[i]])\n",
    "    df.set_index('IP_Addr', inplace=True)\n",
    "    \n",
    "    rec[i], dis[i] = evaluate(ground_truth.head(10), df.head(10))\n",
    "    \n",
    "print(\"Recall values: \", rec)\n",
    "print(\"Divergence: \", dis)"
   ]
  },
  {
   "cell_type": "markdown",
   "metadata": {},
   "source": [
    "Finally a visualization for the execution time versus `depth` and `width`. In the following visualization rows correspond to depth values and columns to width values."
   ]
  },
  {
   "cell_type": "code",
   "execution_count": 12,
   "metadata": {},
   "outputs": [
    {
     "data": {
      "text/plain": [
       "<matplotlib.axes._subplots.AxesSubplot at 0x7fea73756d30>"
      ]
     },
     "execution_count": 12,
     "metadata": {},
     "output_type": "execute_result"
    },
    {
     "data": {
      "image/png": "[encoded data removed]",
      "text/plain": [
       "<Figure size 504x504 with 2 Axes>"
      ]
     },
     "metadata": {
      "needs_background": "light"
     },
     "output_type": "display_data"
    }
   ],
   "source": [
    "dur = np.reshape(list(dur_dic.values()), [4,3])\n",
    "dur = np.round(dur, 4)\n",
    "\n",
    "fig, ax = plt.subplots(figsize=(7,7))\n",
    "sns.heatmap(dur, annot=True, xticklabels=widths, yticklabels=depths, ax=ax)"
   ]
  },
  {
   "cell_type": "code",
   "execution_count": 14,
   "metadata": {},
   "outputs": [
    {
     "data": {
      "text/plain": [
       "[0.3576698303222656,\n",
       " 0.28050899505615234,\n",
       " 0.27751684188842773,\n",
       " 0.6679384708404541,\n",
       " 0.5877940654754639,\n",
       " 0.5938451290130615,\n",
       " 1.1026182174682617,\n",
       " 1.0365455150604248,\n",
       " 1.0651025772094727,\n",
       " 2.593719005584717,\n",
       " 2.620759963989258,\n",
       " 2.653841495513916]"
      ]
     },
     "execution_count": 14,
     "metadata": {},
     "output_type": "execute_result"
    }
   ],
   "source": [
    "list(dur_dic.values())"
   ]
  },
  {
   "cell_type": "code",
   "execution_count": null,
   "metadata": {},
   "outputs": [],
   "source": []
  }
 ],
 "metadata": {
  "kernelspec": {
   "display_name": "Cyber Data Analytics",
   "language": "python",
   "name": "cda"
  },
  "language_info": {
   "codemirror_mode": {
    "name": "ipython",
    "version": 3
   },
   "file_extension": ".py",
   "mimetype": "text/x-python",
   "name": "python",
   "nbconvert_exporter": "python",
   "pygments_lexer": "ipython3",
   "version": "3.7.3"
  }
 },
 "nbformat": 4,
 "nbformat_minor": 2
}
