{
 "cells": [
  {
   "cell_type": "code",
   "execution_count": 1,
   "metadata": {},
   "outputs": [],
   "source": [
    "import pandas as pd\n",
    "from matplotlib import pyplot as plt\n",
    "import numpy as np\n",
    "from sklearn.model_selection import StratifiedKFold\n",
    "from sklearn.metrics import roc_curve, auc\n",
    "from imblearn.over_sampling import SMOTE, BorderlineSMOTE \n",
    "\n",
    "from helper_functions.classification import *\n",
    "from helper_functions.botnet_profiling_task import *\n",
    "from helper_functions.flow_data_discretization import *\n",
    "# warnings.filterwarnings(\"ignore\")"
   ]
  },
  {
   "cell_type": "code",
   "execution_count": 11,
   "metadata": {},
   "outputs": [],
   "source": [
    "infected_hosts = ['147.32.84.165','147.32.84.191','147.32.84.192','147.32.84.193','147.32.84.204',\n",
    "                  '147.32.84.205','147.32.84.206', '147.32.84.207','147.32.84.208','147.32.84.209']\n",
    "\n",
    "normal_hosts = ['147.32.84.170', '147.32.84.134', '147.32.84.164', '147.32.87.36', '147.32.80.9', '147.32.87.11']"
   ]
  },
  {
   "cell_type": "code",
   "execution_count": 3,
   "metadata": {},
   "outputs": [
    {
     "data": {
      "text/html": [
       "<div>\n",
       "<style scoped>\n",
       "    .dataframe tbody tr th:only-of-type {\n",
       "        vertical-align: middle;\n",
       "    }\n",
       "\n",
       "    .dataframe tbody tr th {\n",
       "        vertical-align: top;\n",
       "    }\n",
       "\n",
       "    .dataframe thead th {\n",
       "        text-align: right;\n",
       "    }\n",
       "</style>\n",
       "<table border=\"1\" class=\"dataframe\">\n",
       "  <thead>\n",
       "    <tr style=\"text-align: right;\">\n",
       "      <th></th>\n",
       "      <th>Durat</th>\n",
       "      <th>Prot</th>\n",
       "      <th>Flags</th>\n",
       "      <th>Tos</th>\n",
       "      <th>Packets</th>\n",
       "      <th>Bytes</th>\n",
       "      <th>Flows</th>\n",
       "      <th>Label</th>\n",
       "      <th>Src_IP_Addr</th>\n",
       "      <th>Src_Port</th>\n",
       "      <th>Dst_IP_Addr</th>\n",
       "      <th>Dst_Port</th>\n",
       "      <th>Datetime</th>\n",
       "    </tr>\n",
       "  </thead>\n",
       "  <tbody>\n",
       "    <tr>\n",
       "      <th>0</th>\n",
       "      <td>0.002</td>\n",
       "      <td>TCP</td>\n",
       "      <td>FRPA_</td>\n",
       "      <td>0</td>\n",
       "      <td>4</td>\n",
       "      <td>321</td>\n",
       "      <td>1</td>\n",
       "      <td>Background</td>\n",
       "      <td>147.32.86.166</td>\n",
       "      <td>33426</td>\n",
       "      <td>212.24.150.110</td>\n",
       "      <td>25443</td>\n",
       "      <td>2011-08-18 10:19:13.328</td>\n",
       "    </tr>\n",
       "    <tr>\n",
       "      <th>1</th>\n",
       "      <td>4.995</td>\n",
       "      <td>UDP</td>\n",
       "      <td>INT</td>\n",
       "      <td>0</td>\n",
       "      <td>617</td>\n",
       "      <td>40095</td>\n",
       "      <td>1</td>\n",
       "      <td>Background</td>\n",
       "      <td>82.39.2.249</td>\n",
       "      <td>41915</td>\n",
       "      <td>147.32.84.59</td>\n",
       "      <td>43087</td>\n",
       "      <td>2011-08-18 10:19:13.328</td>\n",
       "    </tr>\n",
       "    <tr>\n",
       "      <th>2</th>\n",
       "      <td>4.996</td>\n",
       "      <td>UDP</td>\n",
       "      <td>INT</td>\n",
       "      <td>0</td>\n",
       "      <td>1290</td>\n",
       "      <td>1909200</td>\n",
       "      <td>1</td>\n",
       "      <td>Background</td>\n",
       "      <td>147.32.84.59</td>\n",
       "      <td>43087</td>\n",
       "      <td>82.39.2.249</td>\n",
       "      <td>41915</td>\n",
       "      <td>2011-08-18 10:19:13.329</td>\n",
       "    </tr>\n",
       "    <tr>\n",
       "      <th>3</th>\n",
       "      <td>0.000</td>\n",
       "      <td>TCP</td>\n",
       "      <td>A_</td>\n",
       "      <td>0</td>\n",
       "      <td>1</td>\n",
       "      <td>66</td>\n",
       "      <td>1</td>\n",
       "      <td>Background</td>\n",
       "      <td>147.32.86.166</td>\n",
       "      <td>42020</td>\n",
       "      <td>147.32.192.34</td>\n",
       "      <td>993</td>\n",
       "      <td>2011-08-18 10:19:13.330</td>\n",
       "    </tr>\n",
       "    <tr>\n",
       "      <th>4</th>\n",
       "      <td>0.000</td>\n",
       "      <td>TCP</td>\n",
       "      <td>FPA_</td>\n",
       "      <td>0</td>\n",
       "      <td>2</td>\n",
       "      <td>169</td>\n",
       "      <td>1</td>\n",
       "      <td>Background</td>\n",
       "      <td>212.24.150.110</td>\n",
       "      <td>25443</td>\n",
       "      <td>147.32.86.166</td>\n",
       "      <td>33426</td>\n",
       "      <td>2011-08-18 10:19:13.330</td>\n",
       "    </tr>\n",
       "  </tbody>\n",
       "</table>\n",
       "</div>"
      ],
      "text/plain": [
       "   Durat Prot  Flags  Tos  Packets    Bytes  Flows       Label  \\\n",
       "0  0.002  TCP  FRPA_    0        4      321      1  Background   \n",
       "1  4.995  UDP    INT    0      617    40095      1  Background   \n",
       "2  4.996  UDP    INT    0     1290  1909200      1  Background   \n",
       "3  0.000  TCP     A_    0        1       66      1  Background   \n",
       "4  0.000  TCP   FPA_    0        2      169      1  Background   \n",
       "\n",
       "      Src_IP_Addr Src_Port     Dst_IP_Addr Dst_Port                 Datetime  \n",
       "0   147.32.86.166    33426  212.24.150.110    25443  2011-08-18 10:19:13.328  \n",
       "1     82.39.2.249    41915    147.32.84.59    43087  2011-08-18 10:19:13.328  \n",
       "2    147.32.84.59    43087     82.39.2.249    41915  2011-08-18 10:19:13.329  \n",
       "3   147.32.86.166    42020   147.32.192.34      993  2011-08-18 10:19:13.330  \n",
       "4  212.24.150.110    25443   147.32.86.166    33426  2011-08-18 10:19:13.330  "
      ]
     },
     "execution_count": 3,
     "metadata": {},
     "output_type": "execute_result"
    }
   ],
   "source": [
    "data = pd.read_csv('./data/capture20110818.pcap.netflow.labeled.remastered')\n",
    "data[['Src_IP_Addr', 'Src_Port']] = data['Src_IP_Addr:Port'].str.split(':', n=1, expand=True)\n",
    "data[['Dst_IP_Addr', 'Dst_Port']] = data['Dst_IP_Addr:Port'].str.split(':', n=1, expand=True)\n",
    "\n",
    "data['Datetime'] = data['#Date_flow'].str.cat(data['start'], sep=' ')\n",
    "#data['Datetime'] = pd.to_datetime(data['Datetime'], infer_datetime_format=True)\n",
    "\n",
    "data.drop(labels=['#Date_flow', 'start', 'Src_IP_Addr:Port', 'Dst_IP_Addr:Port'], axis=1, inplace=True)\n",
    "data.head()"
   ]
  },
  {
   "cell_type": "code",
   "execution_count": 4,
   "metadata": {},
   "outputs": [],
   "source": [
    "data_nobground = data[ data['Label'] != 'Background']\n",
    "data_nobground.shape\n",
    "data_nobground.head()\n",
    "\n",
    "del data"
   ]
  },
  {
   "cell_type": "code",
   "execution_count": 5,
   "metadata": {},
   "outputs": [
    {
     "data": {
      "text/plain": [
       "{'Label': {'LEGITIMATE': 0, 'Botnet': 1},\n",
       " 'Prot': Index(['TCP', 'UDP', 'ICMP'], dtype='object'),\n",
       " 'Flags': Index(['PA_', 'A_', 'FA_', 'SPA_', 'FPA_', 'INT', 'FSA_', '_FSA', 'FSPA_',\n",
       "        '_FSPA', 'S_', 'RA_', 'FSRPA_', 'SA_', '_FSRPA', 'SRPA_', 'FRPA_',\n",
       "        'ECO', 'URH', 'SR_', 'FRA_', 'RPA_', 'R_', 'FSPAEC_', 'SRA_', '_FSRA',\n",
       "        'URP', 'PAC_', 'MAS', 'TST', 'IRR', 'ECR', 'RTS', 'RTA', 'IRQ', 'UNK',\n",
       "        'MSR', 'TSR', 'SEC', 'ROB', 'MRQ', 'RED', 'IAH', 'TXD', 'DNQ', 'PTB',\n",
       "        'PAR', 'NRA', 'WAY', 'PHO', '___', 'AHA', 'NRS', 'MHR', 'UR', 'NNA',\n",
       "        'MRP', 'TRC', 'DCE', 'SKP', 'SRC', 'NNS', 'DNP', 'URN', 'URPRE', 'URS',\n",
       "        'URNU', 'URCUT', 'URISO', 'URNPRO', 'URHPRO', 'URHTOS', 'URHU', 'SPAC_',\n",
       "        'SEC_', 'FSRA_', 'URFIL', 'FSPAC_'],\n",
       "       dtype='object')}"
      ]
     },
     "execution_count": 5,
     "metadata": {},
     "output_type": "execute_result"
    }
   ],
   "source": [
    "# Storing the mapping used for the conversion, in case we want to revert back \n",
    "label_mapping = {}\n",
    "\n",
    "\n",
    "label_mapping['Label'] = {'LEGITIMATE':0, 'Botnet':1}\n",
    "data_nobground.replace({'Label' : label_mapping['Label']}, inplace=True)\n",
    "\n",
    "# Convert all the rest columns which are of type 'object'\n",
    "char_cols = ['Prot', 'Flags']\n",
    "\n",
    "for c in char_cols:\n",
    "    data_nobground[c], label_mapping[c] = pd.factorize(data_nobground[c])\n",
    "\n",
    "# Uncomment this line, if you want to see the mapppings for the conversion\n",
    "label_mapping"
   ]
  },
  {
   "cell_type": "markdown",
   "metadata": {},
   "source": [
    "## Discrete"
   ]
  },
  {
   "cell_type": "code",
   "execution_count": 12,
   "metadata": {},
   "outputs": [
    {
     "data": {
      "text/plain": [
       "array(['147.32.84.191', '147.32.84.192', '147.32.84.193', '147.32.84.204',\n",
       "       '147.32.84.205', '147.32.84.206', '147.32.84.207', '147.32.84.208',\n",
       "       '147.32.84.209', '147.32.84.134', '147.32.84.164', '147.32.87.36',\n",
       "       '147.32.80.9', '147.32.87.11'], dtype='<U13')"
      ]
     },
     "execution_count": 12,
     "metadata": {},
     "output_type": "execute_result"
    }
   ],
   "source": [
    "test_hosts = np.append(infected_hosts[1:], normal_hosts[1:])\n",
    "test_hosts"
   ]
  },
  {
   "cell_type": "code",
   "execution_count": 13,
   "metadata": {},
   "outputs": [],
   "source": [
    "ranks = 2\n",
    "\n",
    "packets = data_nobground['Packets'].values\n",
    "data_nobground['Disc_Packets'] = discretize_ordinal(packets, ranks)"
   ]
  },
  {
   "cell_type": "code",
   "execution_count": 14,
   "metadata": {},
   "outputs": [],
   "source": [
    "n = 2 \n",
    "feat = ['Prot', 'Disc_Packets']\n",
    "use_smoothing = False\n",
    "\n",
    "# Extracting the infected training profile\n",
    "infected_data = data_nobground[np.logical_or(data_nobground['Src_IP_Addr'] == infected_hosts[0], data_nobground['Dst_IP_Addr']==infected_hosts[0])]\n",
    "infected_data = infected_data[feat].values\n",
    "\n",
    "infected_code, _ = extract_code(infected_data)\n",
    "infected_ngrams = extract_ngrams(infected_code, n)\n",
    "unique_infected_ngrams, unique_infected_counts = np.unique(infected_ngrams, axis=0, return_counts=True)\n",
    "if use_smoothing:\n",
    "    max_unigram = np.max(unique_infected_ngrams)\n",
    "    smoothed_infected_ngrams, smoothed_infected_counts = laplace_smoothing(unique_infected_ngrams, unique_infected_counts, max_unigram)\n",
    "    _, infected_prof, infected_sorted_prof = extract_profile(smoothed_infected_ngrams, smoothed_infected_counts)\n",
    "else:\n",
    "    _, infected_prof, infected_sorted_prof = extract_profile(unique_infected_ngrams, unique_infected_counts)\n",
    "\n",
    "# Extracting the normal profile\n",
    "normal_data = data_nobground[np.logical_or(data_nobground['Src_IP_Addr'] == normal_hosts[0], data_nobground['Dst_IP_Addr']==normal_hosts[0])]\n",
    "normal_data = normal_data[feat].values\n",
    "\n",
    "normal_code, _ = extract_code(normal_data)\n",
    "normal_ngrams = extract_ngrams(normal_code, n)\n",
    "unique_normal_ngrams, unique_normal_counts = np.unique(normal_ngrams, axis=0, return_counts=True)\n",
    "if use_smoothing:\n",
    "    smoothed_normal_ngrams, smoothed_normal_counts = laplace_smoothing(unique_normal_ngrams, unique_normal_counts, max_unigram)\n",
    "    _, normal_prof, normal_sorted_prof = extract_profile(smoothed_normal_ngrams, smoothed_normal_counts)\n",
    "else:\n",
    "    _, normal_prof, normal_sorted_prof = extract_profile(unique_normal_ngrams, unique_normal_counts)"
   ]
  },
  {
   "cell_type": "code",
   "execution_count": 17,
   "metadata": {},
   "outputs": [
    {
     "name": "stdout",
     "output_type": "stream",
     "text": [
      "147.32.84.191 14.807843124877216 12.27442275322146\n",
      "147.32.84.192 14.84089131993831 12.036581276623828\n",
      "147.32.84.193 14.46490030637481 12.562196359461414\n",
      "147.32.84.204 14.750423656852744 12.884101213479537\n",
      "147.32.84.205 14.917606332503993 11.384842746175078\n",
      "147.32.84.206 14.51456219080532 13.09418679004854\n",
      "147.32.84.207 14.50434566494421 12.94648842590981\n",
      "147.32.84.208 14.859585504332706 12.372431744225006\n",
      "147.32.84.209 14.39336976834814 13.137175471469149\n",
      "147.32.84.134 1.088094695258738 6.723669716018827\n",
      "147.32.84.164 0.7706928831529345 6.445780858926657\n",
      "147.32.87.36 1.4993154575822765 3.8579689061516693\n",
      "147.32.80.9 12.937225458750717 14.516932912523624\n"
     ]
    }
   ],
   "source": [
    "pred = np.zeros(len(test_hosts), dtype=int)\n",
    "i=0\n",
    "for host in test_hosts:\n",
    "    host_data = data_nobground[np.logical_or(data_nobground['Src_IP_Addr'] == host, data_nobground['Dst_IP_Addr']==host)]\n",
    "    if len(host_data)<n:\n",
    "#         print(host, len(host_data), '\\n')\n",
    "        i = i+1\n",
    "        continue\n",
    "    host_data = host_data[feat].values\n",
    "    if host in infected_hosts:\n",
    "        host_data[:,1] = 1\n",
    "    \n",
    "    host_code, _ = extract_code(host_data)\n",
    "    host_ngrams = extract_ngrams(host_code, n)\n",
    "    unique_host_ngrams, unique_host_counts = np.unique(host_ngrams, axis=0, return_counts=True)\n",
    "    if use_smoothing:\n",
    "        smoothed_host_ngrams, smoothed_host_counts = laplace_smoothing(unique_host_ngrams, unique_host_counts, max_unigram)\n",
    "        _, host_prof, sorted_host_prof = extract_profile(smoothed_host_ngrams, smoothed_host_counts)\n",
    "    else:\n",
    "        _, host_prof, sorted_host_prof = extract_profile(unique_host_ngrams, unique_host_counts)\n",
    "    \n",
    "    normal_distance = distance(normal_prof, host_prof, normal_sorted_prof, sorted_host_prof, 2)\n",
    "    infected_distance = distance(infected_prof, host_prof, infected_sorted_prof, sorted_host_prof, 2)\n",
    "    \n",
    "    print(host, normal_distance, infected_distance)\n",
    "    if infected_distance < normal_distance:\n",
    "        \n",
    "        pred[i] = 1\n",
    "\n",
    "    i = i+1"
   ]
  },
  {
   "cell_type": "code",
   "execution_count": 48,
   "metadata": {},
   "outputs": [
    {
     "name": "stdout",
     "output_type": "stream",
     "text": [
      "TP:  9\n",
      "FP:  0\n",
      "FN:  0\n",
      "TN: 4\n",
      "13\n"
     ]
    }
   ],
   "source": [
    "TP = np.sum(np.isin(test_hosts[pred==1], infected_hosts))\n",
    "FP = np.sum(pred==1) - TP\n",
    "TN = np.sum(np.isin(test_hosts[pred==0], infected_hosts, invert=True))\n",
    "FN = np.sum(pred==0) - TN\n",
    "print(\"TP: \", TP)\n",
    "print(\"FP: \", FP)\n",
    "print(\"FN: \", FN)\n",
    "print(\"TN:\", TN)\n",
    "print(TP+FP+TN+FN)"
   ]
  },
  {
   "cell_type": "code",
   "execution_count": 43,
   "metadata": {},
   "outputs": [
    {
     "data": {
      "text/plain": [
       "<matplotlib.legend.Legend at 0x7f7d8a519550>"
      ]
     },
     "execution_count": 43,
     "metadata": {},
     "output_type": "execute_result"
    },
    {
     "data": {
      "image/png": "[encoded data removed]",
      "text/plain": [
       "<Figure size 1080x504 with 1 Axes>"
      ]
     },
     "metadata": {
      "needs_background": "light"
     },
     "output_type": "display_data"
    }
   ],
   "source": [
    "plt.figure(figsize=(15,7))\n",
    "plt.plot(infected_code, label='infected')\n",
    "plt.plot(normal_code, label='normal')\n",
    "plt.plot(host_code, label='host')\n",
    "\n",
    "plt.legend()"
   ]
  },
  {
   "cell_type": "code",
   "execution_count": 56,
   "metadata": {},
   "outputs": [
    {
     "data": {
      "text/plain": [
       "<matplotlib.legend.Legend at 0x7fc539b21668>"
      ]
     },
     "execution_count": 56,
     "metadata": {},
     "output_type": "execute_result"
    },
    {
     "data": {
      "image/png": "[encoded data removed]",
      "text/plain": [
       "<Figure size 1080x504 with 1 Axes>"
      ]
     },
     "metadata": {
      "needs_background": "light"
     },
     "output_type": "display_data"
    }
   ],
   "source": [
    "host_data = data_nobground[np.logical_or(data_nobground['Src_IP_Addr'] == test_hosts[0], data_nobground['Dst_IP_Addr']==test_hosts[0])]\n",
    "host_data = host_data[feat].values\n",
    "\n",
    "plt.figure(figsize=(15,7))\n",
    "plt.plot(host_data[:,1], label='orig_packets')\n",
    "plt.plot(host_data[:,1]*0.01, label='adv_packets')\n",
    "plt.legend()"
   ]
  },
  {
   "cell_type": "markdown",
   "metadata": {},
   "source": [
    "## Flow Classification"
   ]
  },
  {
   "cell_type": "markdown",
   "metadata": {},
   "source": [
    "### Host Level"
   ]
  },
  {
   "cell_type": "code",
   "execution_count": 11,
   "metadata": {},
   "outputs": [],
   "source": [
    "data_nobground.head()\n",
    "data_perhost = data_nobground.groupby(by='Src_IP_Addr').agg({'Durat':'sum', 'Prot':'sum', 'Tos':'sum', 'Label':'max'})"
   ]
  },
  {
   "cell_type": "code",
   "execution_count": 15,
   "metadata": {},
   "outputs": [
    {
     "name": "stdout",
     "output_type": "stream",
     "text": [
      "(522, 10)\n",
      "Imbalance ratio:  0.14725274725274726\n"
     ]
    }
   ],
   "source": [
    "data_perhost = data_nobground.groupby(by='Src_IP_Addr').agg({'Durat':'sum', 'Prot':'sum', 'Flags':'sum', 'Tos':'sum', 'Packets':'sum', 'Bytes':'sum', 'Flows':'sum', 'Label':'max'})\n",
    "data_perhost['Dst_IPs'] = data_nobground.groupby('Src_IP_Addr')['Dst_IP_Addr'].nunique()\n",
    "data_perhost['Src_Ports'] = data_nobground.groupby('Src_IP_Addr')['Src_Port'].nunique()\n",
    "data_perhost['Dst_Ports'] = data_nobground.groupby('Src_IP_Addr')['Dst_Port'].nunique()\n",
    "\n",
    "hosts = data_perhost.index\n",
    "\n",
    "labels = data_perhost['Label'].values\n",
    "data_perhost.drop(labels='Label', axis=1, inplace=True)\n",
    "X = data_perhost.values\n",
    "\n",
    "print(X.shape)\n",
    "print(\"Imbalance ratio: \", np.sum(labels)/np.sum(labels==0))"
   ]
  },
  {
   "cell_type": "code",
   "execution_count": 16,
   "metadata": {},
   "outputs": [
    {
     "data": {
      "text/html": [
       "<div>\n",
       "<style scoped>\n",
       "    .dataframe tbody tr th:only-of-type {\n",
       "        vertical-align: middle;\n",
       "    }\n",
       "\n",
       "    .dataframe tbody tr th {\n",
       "        vertical-align: top;\n",
       "    }\n",
       "\n",
       "    .dataframe thead th {\n",
       "        text-align: right;\n",
       "    }\n",
       "</style>\n",
       "<table border=\"1\" class=\"dataframe\">\n",
       "  <thead>\n",
       "    <tr style=\"text-align: right;\">\n",
       "      <th></th>\n",
       "      <th>Durat</th>\n",
       "      <th>Prot</th>\n",
       "      <th>Flags</th>\n",
       "      <th>Tos</th>\n",
       "      <th>Packets</th>\n",
       "      <th>Bytes</th>\n",
       "      <th>Flows</th>\n",
       "      <th>Dst_IPs</th>\n",
       "      <th>Src_Ports</th>\n",
       "      <th>Dst_Ports</th>\n",
       "    </tr>\n",
       "    <tr>\n",
       "      <th>Src_IP_Addr</th>\n",
       "      <th></th>\n",
       "      <th></th>\n",
       "      <th></th>\n",
       "      <th></th>\n",
       "      <th></th>\n",
       "      <th></th>\n",
       "      <th></th>\n",
       "      <th></th>\n",
       "      <th></th>\n",
       "      <th></th>\n",
       "    </tr>\n",
       "  </thead>\n",
       "  <tbody>\n",
       "    <tr>\n",
       "      <th>10.10.20.233</th>\n",
       "      <td>50.096</td>\n",
       "      <td>0</td>\n",
       "      <td>249</td>\n",
       "      <td>0</td>\n",
       "      <td>132</td>\n",
       "      <td>8712</td>\n",
       "      <td>75</td>\n",
       "      <td>1</td>\n",
       "      <td>23</td>\n",
       "      <td>1</td>\n",
       "    </tr>\n",
       "    <tr>\n",
       "      <th>10.168.115.232</th>\n",
       "      <td>3.624</td>\n",
       "      <td>0</td>\n",
       "      <td>20</td>\n",
       "      <td>0</td>\n",
       "      <td>9</td>\n",
       "      <td>778</td>\n",
       "      <td>5</td>\n",
       "      <td>1</td>\n",
       "      <td>1</td>\n",
       "      <td>1</td>\n",
       "    </tr>\n",
       "    <tr>\n",
       "      <th>10.168.48.160</th>\n",
       "      <td>4.897</td>\n",
       "      <td>0</td>\n",
       "      <td>16</td>\n",
       "      <td>0</td>\n",
       "      <td>6</td>\n",
       "      <td>534</td>\n",
       "      <td>4</td>\n",
       "      <td>1</td>\n",
       "      <td>1</td>\n",
       "      <td>1</td>\n",
       "    </tr>\n",
       "    <tr>\n",
       "      <th>10.23.106.55</th>\n",
       "      <td>3.565</td>\n",
       "      <td>0</td>\n",
       "      <td>8</td>\n",
       "      <td>0</td>\n",
       "      <td>6</td>\n",
       "      <td>511</td>\n",
       "      <td>2</td>\n",
       "      <td>1</td>\n",
       "      <td>1</td>\n",
       "      <td>1</td>\n",
       "    </tr>\n",
       "    <tr>\n",
       "      <th>10.23.12.43</th>\n",
       "      <td>4.556</td>\n",
       "      <td>0</td>\n",
       "      <td>16</td>\n",
       "      <td>0</td>\n",
       "      <td>6</td>\n",
       "      <td>1583</td>\n",
       "      <td>4</td>\n",
       "      <td>2</td>\n",
       "      <td>2</td>\n",
       "      <td>2</td>\n",
       "    </tr>\n",
       "  </tbody>\n",
       "</table>\n",
       "</div>"
      ],
      "text/plain": [
       "                 Durat  Prot  Flags  Tos  Packets  Bytes  Flows  Dst_IPs  \\\n",
       "Src_IP_Addr                                                                \n",
       "10.10.20.233    50.096     0    249    0      132   8712     75        1   \n",
       "10.168.115.232   3.624     0     20    0        9    778      5        1   \n",
       "10.168.48.160    4.897     0     16    0        6    534      4        1   \n",
       "10.23.106.55     3.565     0      8    0        6    511      2        1   \n",
       "10.23.12.43      4.556     0     16    0        6   1583      4        2   \n",
       "\n",
       "                Src_Ports  Dst_Ports  \n",
       "Src_IP_Addr                           \n",
       "10.10.20.233           23          1  \n",
       "10.168.115.232          1          1  \n",
       "10.168.48.160           1          1  \n",
       "10.23.106.55            1          1  \n",
       "10.23.12.43             2          2  "
      ]
     },
     "execution_count": 16,
     "metadata": {},
     "output_type": "execute_result"
    }
   ],
   "source": [
    "data_perhost.head()"
   ]
  },
  {
   "cell_type": "code",
   "execution_count": 18,
   "metadata": {},
   "outputs": [
    {
     "name": "stdout",
     "output_type": "stream",
     "text": [
      "Imbalance ratio:  0.12835249042145594\n"
     ]
    }
   ],
   "source": [
    "print(\"Imbalance ratio: \", np.sum(labels)/len(labels))"
   ]
  },
  {
   "cell_type": "code",
   "execution_count": 19,
   "metadata": {},
   "outputs": [],
   "source": [
    "num_splits = 2\n",
    "cv = StratifiedKFold(n_splits = num_splits, shuffle = True)"
   ]
  },
  {
   "cell_type": "code",
   "execution_count": 22,
   "metadata": {},
   "outputs": [],
   "source": [
    "from sklearn.naive_bayes import GaussianNB\n",
    "\n",
    "clf = GaussianNB()\n",
    "_, _, _, _, _, _, cm = roc_analysis(X, labels, clf, cv, False, False, False)"
   ]
  },
  {
   "cell_type": "code",
   "execution_count": 25,
   "metadata": {},
   "outputs": [
    {
     "name": "stdout",
     "output_type": "stream",
     "text": [
      "[[ 11   6]\n",
      " [ 56 449]]\n",
      "Accuracy: 0.881\n",
      "Precision: 0.647\n",
      "Recall: 0.164\n",
      "F1_score: 0.262\n"
     ]
    }
   ],
   "source": [
    "print(cm)\n",
    "\n",
    "acc, prec, rec, F1 = performance_metrics(cm)\n",
    "\n",
    "print(\"Accuracy: %.3f\" %acc)\n",
    "print(\"Precision: %.3f\" %prec)\n",
    "print(\"Recall: %.3f\" %rec)\n",
    "print(\"F1_score: %.3f\" %F1)"
   ]
  },
  {
   "cell_type": "code",
   "execution_count": 26,
   "metadata": {},
   "outputs": [
    {
     "name": "stderr",
     "output_type": "stream",
     "text": [
      "/home/ilele/.conda/envs/cda/lib/python3.7/site-packages/sklearn/ensemble/forest.py:246: FutureWarning: The default value of n_estimators will change from 10 in version 0.20 to 100 in 0.22.\n",
      "  \"10 in version 0.20 to 100 in 0.22.\", FutureWarning)\n"
     ]
    }
   ],
   "source": [
    "from  sklearn.ensemble import RandomForestClassifier as RF\n",
    "\n",
    "clf = RF(n_estimators='warn', criterion='gini', min_samples_split=2, min_samples_leaf=1, \n",
    "         min_weight_fraction_leaf=0.0, max_features='auto', min_impurity_decrease=0.0, \n",
    "         bootstrap=True, n_jobs=-1, verbose=0, warm_start=False)\n",
    "\n",
    "_, _, _, _, _, _, cm = roc_analysis(X, labels, clf, cv, False, False, False)"
   ]
  },
  {
   "cell_type": "code",
   "execution_count": 27,
   "metadata": {},
   "outputs": [
    {
     "name": "stdout",
     "output_type": "stream",
     "text": [
      "[[ 37   6]\n",
      " [ 30 449]]\n",
      "Accuracy: 0.931\n",
      "Precision: 0.860\n",
      "Recall: 0.552\n",
      "F1_score: 0.673\n"
     ]
    }
   ],
   "source": [
    "print(cm)\n",
    "\n",
    "acc, prec, rec, F1 = performance_metrics(cm)\n",
    "\n",
    "print(\"Accuracy: %.3f\" %acc)\n",
    "print(\"Precision: %.3f\" %prec)\n",
    "print(\"Recall: %.3f\" %rec)\n",
    "print(\"F1_score: %.3f\" %F1)"
   ]
  },
  {
   "cell_type": "markdown",
   "metadata": {},
   "source": [
    "Attacks"
   ]
  },
  {
   "cell_type": "code",
   "execution_count": 28,
   "metadata": {},
   "outputs": [],
   "source": [
    "clf = GaussianNB()\n",
    "_, _, _, _, _, _, cm = roc_analysis(X, labels, clf, cv, False, False, True)"
   ]
  },
  {
   "cell_type": "code",
   "execution_count": 29,
   "metadata": {},
   "outputs": [
    {
     "name": "stdout",
     "output_type": "stream",
     "text": [
      "[[ 11   7]\n",
      " [ 56 448]]\n",
      "Accuracy: 0.879\n",
      "Precision: 0.611\n",
      "Recall: 0.164\n",
      "F1_score: 0.259\n"
     ]
    }
   ],
   "source": [
    "print(cm)\n",
    "\n",
    "acc, prec, rec, F1 = performance_metrics(cm)\n",
    "\n",
    "print(\"Accuracy: %.3f\" %acc)\n",
    "print(\"Precision: %.3f\" %prec)\n",
    "print(\"Recall: %.3f\" %rec)\n",
    "print(\"F1_score: %.3f\" %F1)"
   ]
  },
  {
   "cell_type": "code",
   "execution_count": 30,
   "metadata": {},
   "outputs": [
    {
     "name": "stderr",
     "output_type": "stream",
     "text": [
      "/home/ilele/.conda/envs/cda/lib/python3.7/site-packages/sklearn/ensemble/forest.py:246: FutureWarning: The default value of n_estimators will change from 10 in version 0.20 to 100 in 0.22.\n",
      "  \"10 in version 0.20 to 100 in 0.22.\", FutureWarning)\n"
     ]
    }
   ],
   "source": [
    "from  sklearn.ensemble import RandomForestClassifier as RF\n",
    "\n",
    "clf = RF(n_estimators='warn', criterion='gini', min_samples_split=2, min_samples_leaf=1, \n",
    "         min_weight_fraction_leaf=0.0, max_features='auto', min_impurity_decrease=0.0, \n",
    "         bootstrap=True, n_jobs=-1, verbose=0, warm_start=False)\n",
    "\n",
    "_, _, _, _, _, _, cm = roc_analysis(X, labels, clf, cv, False, False, True)"
   ]
  },
  {
   "cell_type": "code",
   "execution_count": 31,
   "metadata": {},
   "outputs": [
    {
     "name": "stdout",
     "output_type": "stream",
     "text": [
      "[[ 25   7]\n",
      " [ 42 448]]\n",
      "Accuracy: 0.906\n",
      "Precision: 0.781\n",
      "Recall: 0.373\n",
      "F1_score: 0.505\n"
     ]
    }
   ],
   "source": [
    "print(cm)\n",
    "\n",
    "acc, prec, rec, F1 = performance_metrics(cm)\n",
    "\n",
    "print(\"Accuracy: %.3f\" %acc)\n",
    "print(\"Precision: %.3f\" %prec)\n",
    "print(\"Recall: %.3f\" %rec)\n",
    "print(\"F1_score: %.3f\" %F1)"
   ]
  },
  {
   "cell_type": "markdown",
   "metadata": {},
   "source": [
    "### Packet Level"
   ]
  },
  {
   "cell_type": "code",
   "execution_count": 12,
   "metadata": {},
   "outputs": [],
   "source": [
    "# Storing the mapping used for the conversion, in case we want to revert back \n",
    "label_mapping = {}\n",
    "data_num = data_nobground.copy()\n",
    "\n",
    "# Convert currency code in order to 'amount' in a single code\n",
    "\n",
    "# Convert all the rest columns which are of type 'object'\n",
    "label_mapping['Label'] = {'LEGITIMATE':0, 'Botnet':1}\n",
    "data_num.replace({'Label' : label_mapping['Label']}, inplace=True)\n",
    "char_cols = data_nobground.dtypes.pipe(lambda x: x[x == 'object']).index\n",
    "\n",
    "for c in char_cols:\n",
    "    data_num[c], label_mapping[c] = pd.factorize(data_nobground[c])\n",
    "\n",
    "# Uncomment this line, if you want to see the mapppings for the conversion\n",
    "#label_mapping"
   ]
  },
  {
   "cell_type": "code",
   "execution_count": 13,
   "metadata": {},
   "outputs": [
    {
     "data": {
      "text/html": [
       "<div>\n",
       "<style scoped>\n",
       "    .dataframe tbody tr th:only-of-type {\n",
       "        vertical-align: middle;\n",
       "    }\n",
       "\n",
       "    .dataframe tbody tr th {\n",
       "        vertical-align: top;\n",
       "    }\n",
       "\n",
       "    .dataframe thead th {\n",
       "        text-align: right;\n",
       "    }\n",
       "</style>\n",
       "<table border=\"1\" class=\"dataframe\">\n",
       "  <thead>\n",
       "    <tr style=\"text-align: right;\">\n",
       "      <th></th>\n",
       "      <th>Durat</th>\n",
       "      <th>Prot</th>\n",
       "      <th>Flags</th>\n",
       "      <th>Tos</th>\n",
       "      <th>Packets</th>\n",
       "      <th>Bytes</th>\n",
       "      <th>Flows</th>\n",
       "      <th>Src_IP_Addr</th>\n",
       "      <th>Src_Port</th>\n",
       "      <th>Dst_IP_Addr</th>\n",
       "      <th>Dst_Port</th>\n",
       "    </tr>\n",
       "  </thead>\n",
       "  <tbody>\n",
       "    <tr>\n",
       "      <th>20</th>\n",
       "      <td>4.985</td>\n",
       "      <td>0</td>\n",
       "      <td>0</td>\n",
       "      <td>0</td>\n",
       "      <td>91</td>\n",
       "      <td>86277</td>\n",
       "      <td>1</td>\n",
       "      <td>0</td>\n",
       "      <td>0</td>\n",
       "      <td>0</td>\n",
       "      <td>0</td>\n",
       "    </tr>\n",
       "    <tr>\n",
       "      <th>51</th>\n",
       "      <td>0.000</td>\n",
       "      <td>0</td>\n",
       "      <td>1</td>\n",
       "      <td>0</td>\n",
       "      <td>1</td>\n",
       "      <td>66</td>\n",
       "      <td>1</td>\n",
       "      <td>1</td>\n",
       "      <td>1</td>\n",
       "      <td>1</td>\n",
       "      <td>1</td>\n",
       "    </tr>\n",
       "    <tr>\n",
       "      <th>57</th>\n",
       "      <td>4.921</td>\n",
       "      <td>0</td>\n",
       "      <td>1</td>\n",
       "      <td>0</td>\n",
       "      <td>49</td>\n",
       "      <td>3234</td>\n",
       "      <td>1</td>\n",
       "      <td>2</td>\n",
       "      <td>2</td>\n",
       "      <td>2</td>\n",
       "      <td>2</td>\n",
       "    </tr>\n",
       "    <tr>\n",
       "      <th>73</th>\n",
       "      <td>4.742</td>\n",
       "      <td>0</td>\n",
       "      <td>1</td>\n",
       "      <td>0</td>\n",
       "      <td>118</td>\n",
       "      <td>7080</td>\n",
       "      <td>1</td>\n",
       "      <td>3</td>\n",
       "      <td>3</td>\n",
       "      <td>3</td>\n",
       "      <td>2</td>\n",
       "    </tr>\n",
       "    <tr>\n",
       "      <th>75</th>\n",
       "      <td>0.000</td>\n",
       "      <td>0</td>\n",
       "      <td>1</td>\n",
       "      <td>0</td>\n",
       "      <td>1</td>\n",
       "      <td>60</td>\n",
       "      <td>1</td>\n",
       "      <td>3</td>\n",
       "      <td>4</td>\n",
       "      <td>4</td>\n",
       "      <td>1</td>\n",
       "    </tr>\n",
       "  </tbody>\n",
       "</table>\n",
       "</div>"
      ],
      "text/plain": [
       "    Durat  Prot  Flags  Tos  Packets  Bytes  Flows  Src_IP_Addr  Src_Port  \\\n",
       "20  4.985     0      0    0       91  86277      1            0         0   \n",
       "51  0.000     0      1    0        1     66      1            1         1   \n",
       "57  4.921     0      1    0       49   3234      1            2         2   \n",
       "73  4.742     0      1    0      118   7080      1            3         3   \n",
       "75  0.000     0      1    0        1     60      1            3         4   \n",
       "\n",
       "    Dst_IP_Addr  Dst_Port  \n",
       "20            0         0  \n",
       "51            1         1  \n",
       "57            2         2  \n",
       "73            3         2  \n",
       "75            4         1  "
      ]
     },
     "execution_count": 13,
     "metadata": {},
     "output_type": "execute_result"
    }
   ],
   "source": [
    "labels = data_num['Label'].values\n",
    "data_num.drop(labels=['Label', 'Datetime'], axis=1, inplace=True)\n",
    "data_num.head()"
   ]
  },
  {
   "cell_type": "code",
   "execution_count": 19,
   "metadata": {},
   "outputs": [
    {
     "name": "stdout",
     "output_type": "stream",
     "text": [
      "(645358, 11)\n"
     ]
    }
   ],
   "source": [
    "X = data_num.values\n",
    "print(X.shape)"
   ]
  },
  {
   "cell_type": "code",
   "execution_count": 22,
   "metadata": {},
   "outputs": [
    {
     "data": {
      "text/plain": [
       "323441"
      ]
     },
     "execution_count": 22,
     "metadata": {},
     "output_type": "execute_result"
    }
   ],
   "source": [
    "num_splits = 2\n",
    "cv = StratifiedKFold(n_splits = num_splits, shuffle = True)\n",
    "np.sum(labels)"
   ]
  },
  {
   "cell_type": "code",
   "execution_count": 84,
   "metadata": {},
   "outputs": [
    {
     "name": "stdout",
     "output_type": "stream",
     "text": [
      "[[  0.   0.  10.   0.   1.  66.   1.  63. 583.  98. 111.]]\n",
      "[[2.00e+00 0.00e+00 1.00e+01 0.00e+00 1.10e+01 1.09e+03 1.00e+00 6.30e+01\n",
      "  5.83e+02 9.80e+01 1.11e+02]] \n",
      "\n",
      "[[0.000e+00 1.000e+00 5.000e+00 0.000e+00 1.000e+00 6.400e+01 1.000e+00\n",
      "  1.260e+02 4.105e+03 3.100e+01 1.200e+01]]\n",
      "[[2.000e+00 1.000e+00 5.000e+00 0.000e+00 1.100e+01 1.088e+03 1.000e+00\n",
      "  1.260e+02 4.105e+03 3.100e+01 1.200e+01]] \n",
      "\n"
     ]
    }
   ],
   "source": [
    "feat = [0,4,5]\n",
    "clf = GaussianNB()\n",
    "y_pred=[]\n",
    "y_pred_adv = []\n",
    "for train_index, test_index in cv.split(X, labels):\n",
    "    clf.fit(X[train_index], labels[train_index])\n",
    "    \n",
    "    X_test = X[test_index]\n",
    "    y_pred.append(clf.predict(X_test))\n",
    "    \n",
    "    mal_inds = np.where(labels[test_index]==1)[0][...,np.newaxis]\n",
    "    perturb = [2,10,1024]\n",
    "    perturb = np.tile(perturb,[len(mal_inds), 1])\n",
    "    print(X_test[mal_inds[0], :])\n",
    "    X_test[mal_inds, feat] = X_test[mal_inds, feat] + perturb \n",
    "    print(X_test[mal_inds[0], :], \"\\n\")\n",
    "    \n",
    "    y_pred_adv.append(clf.predict(X_test))"
   ]
  },
  {
   "cell_type": "code",
   "execution_count": 83,
   "metadata": {},
   "outputs": [
    {
     "name": "stdout",
     "output_type": "stream",
     "text": [
      "0\n"
     ]
    },
    {
     "data": {
      "text/plain": [
       "<matplotlib.legend.Legend at 0x7f83c7b6bd30>"
      ]
     },
     "execution_count": 83,
     "metadata": {},
     "output_type": "execute_result"
    },
    {
     "data": {
      "image/png": "[encoded data removed]",
      "text/plain": [
       "<Figure size 1080x432 with 1 Axes>"
      ]
     },
     "metadata": {
      "needs_background": "light"
     },
     "output_type": "display_data"
    }
   ],
   "source": [
    "orig = y_pred[1][labels[test_index]==1]\n",
    "adv = y_pred_adv[1][labels[test_index]==1]\n",
    "\n",
    "print(np.sum(orig!=adv))\n",
    "\n",
    "plt.figure(figsize=(15,6))\n",
    "plt.plot(orig, label='orig')\n",
    "plt.plot(adv, label='adv')\n",
    "plt.legend()"
   ]
  },
  {
   "cell_type": "code",
   "execution_count": 104,
   "metadata": {},
   "outputs": [],
   "source": [
    "from sklearn.naive_bayes import GaussianNB\n",
    "\n",
    "clf = GaussianNB()\n",
    "_, _, _, _, _, _, cm = roc_analysis(X, labels, clf, cv, False, False, False)"
   ]
  },
  {
   "cell_type": "code",
   "execution_count": 105,
   "metadata": {},
   "outputs": [
    {
     "name": "stdout",
     "output_type": "stream",
     "text": [
      "[[313587   4481]\n",
      " [  9854 317436]]\n",
      "Accuracy: 0.978\n",
      "Precision: 0.986\n",
      "Recall: 0.970\n",
      "F1_score: 0.978\n"
     ]
    }
   ],
   "source": [
    "print(cm)\n",
    "\n",
    "acc, prec, rec, F1 = performance_metrics(cm)\n",
    "\n",
    "print(\"Accuracy: %.3f\" %acc)\n",
    "print(\"Precision: %.3f\" %prec)\n",
    "print(\"Recall: %.3f\" %rec)\n",
    "print(\"F1_score: %.3f\" %F1)"
   ]
  },
  {
   "cell_type": "code",
   "execution_count": 89,
   "metadata": {},
   "outputs": [
    {
     "name": "stderr",
     "output_type": "stream",
     "text": [
      "/home/ilele/.conda/envs/cda/lib/python3.7/site-packages/sklearn/ensemble/forest.py:246: FutureWarning: The default value of n_estimators will change from 10 in version 0.20 to 100 in 0.22.\n",
      "  \"10 in version 0.20 to 100 in 0.22.\", FutureWarning)\n"
     ]
    }
   ],
   "source": [
    "from  sklearn.ensemble import RandomForestClassifier as RF\n",
    "\n",
    "clf = RF(n_estimators='warn', criterion='gini', min_samples_split=2, min_samples_leaf=1, \n",
    "         min_weight_fraction_leaf=0.0, max_features='auto', min_impurity_decrease=0.0, \n",
    "         bootstrap=True, n_jobs=-1, verbose=0, warm_start=False)\n",
    "\n",
    "_, _, _, _, _, _, cm = roc_analysis(X, labels, clf, cv, False, False, False)"
   ]
  },
  {
   "cell_type": "code",
   "execution_count": 90,
   "metadata": {},
   "outputs": [
    {
     "name": "stdout",
     "output_type": "stream",
     "text": [
      "[[323422     11]\n",
      " [    19 321906]]\n",
      "Accuracy: 1.000\n",
      "Precision: 1.000\n",
      "Recall: 1.000\n",
      "F1_score: 1.000\n"
     ]
    }
   ],
   "source": [
    "print(cm)\n",
    "\n",
    "acc, prec, rec, F1 = performance_metrics(cm)\n",
    "\n",
    "print(\"Accuracy: %.3f\" %acc)\n",
    "print(\"Precision: %.3f\" %prec)\n",
    "print(\"Recall: %.3f\" %rec)\n",
    "print(\"F1_score: %.3f\" %F1)"
   ]
  },
  {
   "cell_type": "markdown",
   "metadata": {},
   "source": [
    "Attacks"
   ]
  },
  {
   "cell_type": "code",
   "execution_count": 107,
   "metadata": {},
   "outputs": [],
   "source": [
    "clf = GaussianNB()\n",
    "_, _, _, _, _, _, cm = roc_analysis(X, labels, clf, cv, False, False, True)"
   ]
  },
  {
   "cell_type": "code",
   "execution_count": 108,
   "metadata": {},
   "outputs": [
    {
     "name": "stdout",
     "output_type": "stream",
     "text": [
      "[[314709   4471]\n",
      " [  8732 317446]]\n",
      "Accuracy: 0.980\n",
      "Precision: 0.986\n",
      "Recall: 0.973\n",
      "F1_score: 0.979\n"
     ]
    }
   ],
   "source": [
    "print(cm)\n",
    "\n",
    "acc, prec, rec, F1 = performance_metrics(cm)\n",
    "\n",
    "print(\"Accuracy: %.3f\" %acc)\n",
    "print(\"Precision: %.3f\" %prec)\n",
    "print(\"Recall: %.3f\" %rec)\n",
    "print(\"F1_score: %.3f\" %F1)"
   ]
  },
  {
   "cell_type": "code",
   "execution_count": 100,
   "metadata": {},
   "outputs": [
    {
     "name": "stderr",
     "output_type": "stream",
     "text": [
      "/home/ilele/.conda/envs/cda/lib/python3.7/site-packages/sklearn/ensemble/forest.py:246: FutureWarning: The default value of n_estimators will change from 10 in version 0.20 to 100 in 0.22.\n",
      "  \"10 in version 0.20 to 100 in 0.22.\", FutureWarning)\n"
     ]
    }
   ],
   "source": [
    "from  sklearn.ensemble import RandomForestClassifier as RF\n",
    "\n",
    "clf = RF(n_estimators='warn', criterion='gini', min_samples_split=2, min_samples_leaf=1, \n",
    "         min_weight_fraction_leaf=0.0, max_features='auto', min_impurity_decrease=0.0, \n",
    "         bootstrap=True, n_jobs=-1, verbose=0, warm_start=False)\n",
    "\n",
    "_, _, _, _, _, _, cm = roc_analysis(X, labels, clf, cv, False, False, True)"
   ]
  },
  {
   "cell_type": "code",
   "execution_count": 101,
   "metadata": {},
   "outputs": [
    {
     "name": "stdout",
     "output_type": "stream",
     "text": [
      "[[319568      2]\n",
      " [  3873 321915]]\n",
      "Accuracy: 0.994\n",
      "Precision: 1.000\n",
      "Recall: 0.988\n",
      "F1_score: 0.994\n"
     ]
    }
   ],
   "source": [
    "print(cm)\n",
    "\n",
    "acc, prec, rec, F1 = performance_metrics(cm)\n",
    "\n",
    "print(\"Accuracy: %.3f\" %acc)\n",
    "print(\"Precision: %.3f\" %prec)\n",
    "print(\"Recall: %.3f\" %rec)\n",
    "print(\"F1_score: %.3f\" %F1)"
   ]
  },
  {
   "cell_type": "code",
   "execution_count": 24,
   "metadata": {},
   "outputs": [],
   "source": [
    "def performance_metrics(cm):\n",
    "    accuracy = (cm[0,0] + cm[1,1])/np.sum(cm)\n",
    "    precision = cm[0,0]/(cm[0,0]+cm[0,1])\n",
    "    recall = cm[0,0]/(cm[0,0]+cm[1,0])\n",
    "    F1_score = 2*(precision*recall)/(precision+recall)\n",
    "\n",
    "    return accuracy, precision, recall, F1_score"
   ]
  },
  {
   "cell_type": "code",
   "execution_count": 21,
   "metadata": {},
   "outputs": [],
   "source": [
    "def roc_analysis(X, y, clf, cv, plot_all_ROC, plot_ROC, attack=False, sm=None):\n",
    "    # vectors for storing True Positives, False Negatives, False Positives and True negatives\n",
    "    # respectively per cross-validation run\n",
    "    num_splits = cv.get_n_splits()\n",
    "    TP = np.zeros(num_splits, dtype=int)\n",
    "    FN = np.zeros_like(TP)\n",
    "    FP = np.zeros_like(TP)\n",
    "    TN = np.zeros_like(TP)\n",
    "\n",
    "\n",
    "    # Likewise for storing precision, recall and F1 score respectively extracted,\n",
    "    # per cross-validation run\n",
    "    PR = np.zeros(num_splits)\n",
    "    R = np.zeros_like(PR)\n",
    "    F1 = np.zeros_like(PR)\n",
    "\n",
    "    # Likewise for the True Positive Rate and the Area Under Curve\n",
    "    TPR = []\n",
    "    AUC = []\n",
    "    mean_FPR = np.linspace(0, 1, 100)\n",
    "\n",
    "    i = 0\n",
    "    if plot_ROC:\n",
    "        plt.figure(figsize=(8, 10))\n",
    "\n",
    "    # Cross-validation\n",
    "    for train_index, test_index in cv.split(X, y):\n",
    "        # If sm is provided, after extracting the split we first perform SMOTE on\n",
    "        # training data and then proceed to training the classifier\n",
    "        if sm != None:\n",
    "            X_train, y_train = sm.fit_resample(X[train_index], y[train_index])\n",
    "        else:\n",
    "            X_train, y_train = X[train_index], y[train_index]\n",
    "\n",
    "        # Train the classifier and extract predictions for test samples\n",
    "        clf.fit(X_train, y_train)\n",
    "\n",
    "        X_test = X[test_index]\n",
    "        feat = [0,4,5]\n",
    "        \n",
    "        if attack:\n",
    "            malicious_ind = np.where(y[test_index]==1)[0][..., np.newaxis]\n",
    "            perturb = [120, 200, 2048]\n",
    "            perturb = np.tile(perturb, [len(malicious_ind), 1])\n",
    "            X_test[malicious_ind, feat] = X_test[malicious_ind, feat] + perturb\n",
    "        \n",
    "        y_pred = clf.predict(X_test)\n",
    "\n",
    "\n",
    "        # Extract confusion matrix, precision, recall and F1 score for the current\n",
    "        # run of cross validatin\n",
    "        TN[i], FP[i], FN[i], TP[i] = confusion_matrix(y[test_index], y_pred).ravel()\n",
    "        PR[i] = precision_score(y[test_index], y_pred, average='binary')\n",
    "        R[i] = recall_score(y[test_index], y_pred, average='binary')\n",
    "        F1[i] = f1_score(y[test_index], y_pred, average='binary')\n",
    "\n",
    "        # Extract false positive and true positive rate correspoding to the positive (fraud) label\n",
    "        fpr, tpr, thresholds = roc_curve(y[test_index], clf.predict_proba(X[test_index])[:, 1])\n",
    "\n",
    "        # Interpolate extracted values on range of 0:100 with a step of 1\n",
    "        TPR.append(np.interp(mean_FPR, fpr, tpr))\n",
    "\n",
    "        # Set the first value of the run equal to 0\n",
    "        TPR[-1][0] = 0.0\n",
    "\n",
    "        # Extract and append to list the Area under Curve\n",
    "        roc_auc = auc(fpr, tpr)\n",
    "        AUC.append(roc_auc)\n",
    "\n",
    "        # if TRUE all ROC curves correspodning to each run are plotted\n",
    "        if plot_all_ROC:\n",
    "            plt.plot(fpr, tpr, label='ROC fold %d (AUC = %0.2f)' % (i, roc_auc))\n",
    "\n",
    "        i = i + 1\n",
    "\n",
    "    # Extract mean values and standard deviations per run\n",
    "    mean_TPR = np.mean(TPR, 0)\n",
    "    mean_TPR[-1] = 1.0\n",
    "    std_TPR = np.std(TPR, 0)\n",
    "    # To assure that it doesn't go out of the graph\n",
    "    upper_TPR = np.minimum(mean_TPR + std_TPR, 1)\n",
    "    lower_TPR = np.maximum(mean_TPR - std_TPR, 0)\n",
    "\n",
    "    mean_AUC = auc(mean_FPR, mean_TPR)\n",
    "    std_AUC = np.std(AUC)\n",
    "\n",
    "    mean_PR = np.mean(PR)\n",
    "    mean_R = np.mean(R)\n",
    "    mean_F1 = np.mean(F1)\n",
    "    std_F1 = np.std(F1)\n",
    "\n",
    "    # If true plot the mean ROC curve\n",
    "    if plot_ROC:\n",
    "        # Line corresponding to the 'Chance' classifier (50-50)\n",
    "        plt.plot([0, 1], [0, 1], linestyle='--', lw=2, color='k',\n",
    "                 label='Chance', alpha=.8)\n",
    "\n",
    "        plt.plot(mean_FPR, mean_TPR, color='b',\n",
    "                 label=r'Mean ROC (AUC = %0.2f $\\pm$ %0.2f)' % (mean_AUC, std_AUC),\n",
    "                 lw=2, alpha=.8)\n",
    "        plt.fill_between(mean_FPR, lower_TPR, upper_TPR, color='b', alpha=.2,\n",
    "                         label=r'$\\pm$ 1 std. dev.')\n",
    "\n",
    "        plt.xlim([-0.05, 1.05])\n",
    "        plt.ylim([-0.05, 1.05])\n",
    "        plt.xlabel('False Positive Rate')\n",
    "        plt.ylabel('True Positive Rate')\n",
    "        plt.title('Receiver operating characteristic curve')\n",
    "        plt.legend(loc=\"lower right\")\n",
    "        plt.show()\n",
    "\n",
    "    # Extract the overall confusion matrix, by summing up the values extracted\n",
    "    # from all runs.\n",
    "    cm = np.array([[np.sum(TP), np.sum(FP)], [np.sum(FN), np.sum(TN)]])\n",
    "\n",
    "    return mean_TPR, std_TPR, mean_AUC, std_AUC, mean_F1, std_F1, cm"
   ]
  },
  {
   "cell_type": "code",
   "execution_count": null,
   "metadata": {},
   "outputs": [],
   "source": []
  }
 ],
 "metadata": {
  "kernelspec": {
   "display_name": "Cyber Data Analytics",
   "language": "python",
   "name": "cda"
  },
  "language_info": {
   "codemirror_mode": {
    "name": "ipython",
    "version": 3
   },
   "file_extension": ".py",
   "mimetype": "text/x-python",
   "name": "python",
   "nbconvert_exporter": "python",
   "pygments_lexer": "ipython3",
   "version": "3.7.3"
  }
 },
 "nbformat": 4,
 "nbformat_minor": 2
}
