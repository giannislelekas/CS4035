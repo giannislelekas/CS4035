{
 "cells": [
  {
   "cell_type": "code",
   "execution_count": 13,
   "metadata": {},
   "outputs": [],
   "source": [
    "%matplotlib inline\n",
    "import pandas as pd \n",
    "import numpy as np \n",
    "from sklearn.utils.multiclass import unique_labels\n",
    "import matplotlib.pyplot as plt\n",
    "from sklearn.metrics import confusion_matrix\n",
    "from sklearn.metrics import roc_curve, auc, confusion_matrix, precision_score, recall_score, f1_score\n",
    "import seaborn as sns\n",
    "from sklearn.model_selection import StratifiedKFold\n",
    "from sklearn.impute import SimpleImputer\n",
    "from imblearn.over_sampling import SMOTE, BorderlineSMOTE\n",
    "from sklearn.preprocessing import StandardScaler as StandardScale\n",
    "from collections import Counter"
   ]
  },
  {
   "cell_type": "code",
   "execution_count": 14,
   "metadata": {
    "scrolled": true
   },
   "outputs": [
    {
     "data": {
      "text/html": [
       "<div>\n",
       "<style scoped>\n",
       "    .dataframe tbody tr th:only-of-type {\n",
       "        vertical-align: middle;\n",
       "    }\n",
       "\n",
       "    .dataframe tbody tr th {\n",
       "        vertical-align: top;\n",
       "    }\n",
       "\n",
       "    .dataframe thead th {\n",
       "        text-align: right;\n",
       "    }\n",
       "</style>\n",
       "<table border=\"1\" class=\"dataframe\">\n",
       "  <thead>\n",
       "    <tr style=\"text-align: right;\">\n",
       "      <th></th>\n",
       "      <th>#Date_flow</th>\n",
       "      <th>start</th>\n",
       "      <th>Durat</th>\n",
       "      <th>Prot</th>\n",
       "      <th>Src_IP_Addr:Port</th>\n",
       "      <th>-&gt;</th>\n",
       "      <th>Dst_IP_Addr:Port</th>\n",
       "      <th>Flags</th>\n",
       "      <th>Tos</th>\n",
       "      <th>Packets</th>\n",
       "      <th>Bytes</th>\n",
       "      <th>Flows</th>\n",
       "      <th>Label(LEGITIMATE:Botnet:Background)</th>\n",
       "    </tr>\n",
       "  </thead>\n",
       "  <tbody>\n",
       "    <tr>\n",
       "      <th>0</th>\n",
       "      <td>2011-08-11</td>\n",
       "      <td>10:10:00.003</td>\n",
       "      <td>0.967</td>\n",
       "      <td>UDP</td>\n",
       "      <td>89.31.8.11:23929</td>\n",
       "      <td>-&gt;</td>\n",
       "      <td>147.32.84.229:13363</td>\n",
       "      <td>INT</td>\n",
       "      <td>0</td>\n",
       "      <td>2</td>\n",
       "      <td>135</td>\n",
       "      <td>1</td>\n",
       "      <td>Background</td>\n",
       "    </tr>\n",
       "    <tr>\n",
       "      <th>1</th>\n",
       "      <td>2011-08-11</td>\n",
       "      <td>10:10:00.003</td>\n",
       "      <td>0.967</td>\n",
       "      <td>UDP</td>\n",
       "      <td>147.32.84.229:13363</td>\n",
       "      <td>-&gt;</td>\n",
       "      <td>89.31.8.11:23929</td>\n",
       "      <td>INT</td>\n",
       "      <td>0</td>\n",
       "      <td>2</td>\n",
       "      <td>276</td>\n",
       "      <td>1</td>\n",
       "      <td>Background</td>\n",
       "    </tr>\n",
       "    <tr>\n",
       "      <th>2</th>\n",
       "      <td>2011-08-11</td>\n",
       "      <td>10:10:00.006</td>\n",
       "      <td>0.000</td>\n",
       "      <td>UDP</td>\n",
       "      <td>208.88.186.6:34042</td>\n",
       "      <td>-&gt;</td>\n",
       "      <td>147.32.84.229:13363</td>\n",
       "      <td>INT</td>\n",
       "      <td>0</td>\n",
       "      <td>1</td>\n",
       "      <td>62</td>\n",
       "      <td>1</td>\n",
       "      <td>Background</td>\n",
       "    </tr>\n",
       "    <tr>\n",
       "      <th>3</th>\n",
       "      <td>2011-08-11</td>\n",
       "      <td>10:10:00.008</td>\n",
       "      <td>0.000</td>\n",
       "      <td>UDP</td>\n",
       "      <td>92.118.218.77:55246</td>\n",
       "      <td>-&gt;</td>\n",
       "      <td>147.32.84.229:13363</td>\n",
       "      <td>INT</td>\n",
       "      <td>0</td>\n",
       "      <td>1</td>\n",
       "      <td>78</td>\n",
       "      <td>1</td>\n",
       "      <td>Background</td>\n",
       "    </tr>\n",
       "    <tr>\n",
       "      <th>4</th>\n",
       "      <td>2011-08-11</td>\n",
       "      <td>10:10:00.009</td>\n",
       "      <td>0.000</td>\n",
       "      <td>UDP</td>\n",
       "      <td>182.185.139.181:10223</td>\n",
       "      <td>-&gt;</td>\n",
       "      <td>147.32.84.229:13363</td>\n",
       "      <td>INT</td>\n",
       "      <td>0</td>\n",
       "      <td>1</td>\n",
       "      <td>72</td>\n",
       "      <td>1</td>\n",
       "      <td>Background</td>\n",
       "    </tr>\n",
       "  </tbody>\n",
       "</table>\n",
       "</div>"
      ],
      "text/plain": [
       "   #Date_flow         start  Durat Prot       Src_IP_Addr:Port  ->  \\\n",
       "0  2011-08-11  10:10:00.003  0.967  UDP       89.31.8.11:23929  ->   \n",
       "1  2011-08-11  10:10:00.003  0.967  UDP    147.32.84.229:13363  ->   \n",
       "2  2011-08-11  10:10:00.006  0.000  UDP     208.88.186.6:34042  ->   \n",
       "3  2011-08-11  10:10:00.008  0.000  UDP    92.118.218.77:55246  ->   \n",
       "4  2011-08-11  10:10:00.009  0.000  UDP  182.185.139.181:10223  ->   \n",
       "\n",
       "      Dst_IP_Addr:Port Flags  Tos  Packets  Bytes  Flows  \\\n",
       "0  147.32.84.229:13363   INT    0        2    135      1   \n",
       "1     89.31.8.11:23929   INT    0        2    276      1   \n",
       "2  147.32.84.229:13363   INT    0        1     62      1   \n",
       "3  147.32.84.229:13363   INT    0        1     78      1   \n",
       "4  147.32.84.229:13363   INT    0        1     72      1   \n",
       "\n",
       "  Label(LEGITIMATE:Botnet:Background)  \n",
       "0                          Background  \n",
       "1                          Background  \n",
       "2                          Background  \n",
       "3                          Background  \n",
       "4                          Background  "
      ]
     },
     "execution_count": 14,
     "metadata": {},
     "output_type": "execute_result"
    }
   ],
   "source": [
    "data = pd.read_csv('./data/capture20110811.pcap.netflow.labeled', sep ='\\s+')\n",
    "data.head()"
   ]
  },
  {
   "cell_type": "code",
   "execution_count": 15,
   "metadata": {
    "scrolled": true
   },
   "outputs": [
    {
     "data": {
      "text/html": [
       "<div>\n",
       "<style scoped>\n",
       "    .dataframe tbody tr th:only-of-type {\n",
       "        vertical-align: middle;\n",
       "    }\n",
       "\n",
       "    .dataframe tbody tr th {\n",
       "        vertical-align: top;\n",
       "    }\n",
       "\n",
       "    .dataframe thead th {\n",
       "        text-align: right;\n",
       "    }\n",
       "</style>\n",
       "<table border=\"1\" class=\"dataframe\">\n",
       "  <thead>\n",
       "    <tr style=\"text-align: right;\">\n",
       "      <th></th>\n",
       "      <th>#Date_flow</th>\n",
       "      <th>start</th>\n",
       "      <th>Durat</th>\n",
       "      <th>Prot</th>\n",
       "      <th>Flags</th>\n",
       "      <th>Tos</th>\n",
       "      <th>Packets</th>\n",
       "      <th>Bytes</th>\n",
       "      <th>Flows</th>\n",
       "      <th>Label</th>\n",
       "      <th>Src_IP_Addr</th>\n",
       "      <th>Src_Port</th>\n",
       "      <th>Dst_IP_Addr</th>\n",
       "      <th>Dst_Port</th>\n",
       "    </tr>\n",
       "  </thead>\n",
       "  <tbody>\n",
       "    <tr>\n",
       "      <th>0</th>\n",
       "      <td>2011-08-11</td>\n",
       "      <td>10:10:00.003</td>\n",
       "      <td>0.967</td>\n",
       "      <td>UDP</td>\n",
       "      <td>INT</td>\n",
       "      <td>0</td>\n",
       "      <td>2</td>\n",
       "      <td>135</td>\n",
       "      <td>1</td>\n",
       "      <td>Background</td>\n",
       "      <td>89.31.8.11</td>\n",
       "      <td>23929</td>\n",
       "      <td>147.32.84.229</td>\n",
       "      <td>13363</td>\n",
       "    </tr>\n",
       "    <tr>\n",
       "      <th>1</th>\n",
       "      <td>2011-08-11</td>\n",
       "      <td>10:10:00.003</td>\n",
       "      <td>0.967</td>\n",
       "      <td>UDP</td>\n",
       "      <td>INT</td>\n",
       "      <td>0</td>\n",
       "      <td>2</td>\n",
       "      <td>276</td>\n",
       "      <td>1</td>\n",
       "      <td>Background</td>\n",
       "      <td>147.32.84.229</td>\n",
       "      <td>13363</td>\n",
       "      <td>89.31.8.11</td>\n",
       "      <td>23929</td>\n",
       "    </tr>\n",
       "    <tr>\n",
       "      <th>2</th>\n",
       "      <td>2011-08-11</td>\n",
       "      <td>10:10:00.006</td>\n",
       "      <td>0.000</td>\n",
       "      <td>UDP</td>\n",
       "      <td>INT</td>\n",
       "      <td>0</td>\n",
       "      <td>1</td>\n",
       "      <td>62</td>\n",
       "      <td>1</td>\n",
       "      <td>Background</td>\n",
       "      <td>208.88.186.6</td>\n",
       "      <td>34042</td>\n",
       "      <td>147.32.84.229</td>\n",
       "      <td>13363</td>\n",
       "    </tr>\n",
       "    <tr>\n",
       "      <th>3</th>\n",
       "      <td>2011-08-11</td>\n",
       "      <td>10:10:00.008</td>\n",
       "      <td>0.000</td>\n",
       "      <td>UDP</td>\n",
       "      <td>INT</td>\n",
       "      <td>0</td>\n",
       "      <td>1</td>\n",
       "      <td>78</td>\n",
       "      <td>1</td>\n",
       "      <td>Background</td>\n",
       "      <td>92.118.218.77</td>\n",
       "      <td>55246</td>\n",
       "      <td>147.32.84.229</td>\n",
       "      <td>13363</td>\n",
       "    </tr>\n",
       "    <tr>\n",
       "      <th>4</th>\n",
       "      <td>2011-08-11</td>\n",
       "      <td>10:10:00.009</td>\n",
       "      <td>0.000</td>\n",
       "      <td>UDP</td>\n",
       "      <td>INT</td>\n",
       "      <td>0</td>\n",
       "      <td>1</td>\n",
       "      <td>72</td>\n",
       "      <td>1</td>\n",
       "      <td>Background</td>\n",
       "      <td>182.185.139.181</td>\n",
       "      <td>10223</td>\n",
       "      <td>147.32.84.229</td>\n",
       "      <td>13363</td>\n",
       "    </tr>\n",
       "  </tbody>\n",
       "</table>\n",
       "</div>"
      ],
      "text/plain": [
       "   #Date_flow         start  Durat Prot Flags  Tos  Packets  Bytes  Flows  \\\n",
       "0  2011-08-11  10:10:00.003  0.967  UDP   INT    0        2    135      1   \n",
       "1  2011-08-11  10:10:00.003  0.967  UDP   INT    0        2    276      1   \n",
       "2  2011-08-11  10:10:00.006  0.000  UDP   INT    0        1     62      1   \n",
       "3  2011-08-11  10:10:00.008  0.000  UDP   INT    0        1     78      1   \n",
       "4  2011-08-11  10:10:00.009  0.000  UDP   INT    0        1     72      1   \n",
       "\n",
       "        Label      Src_IP_Addr Src_Port    Dst_IP_Addr Dst_Port  \n",
       "0  Background       89.31.8.11    23929  147.32.84.229    13363  \n",
       "1  Background    147.32.84.229    13363     89.31.8.11    23929  \n",
       "2  Background     208.88.186.6    34042  147.32.84.229    13363  \n",
       "3  Background    92.118.218.77    55246  147.32.84.229    13363  \n",
       "4  Background  182.185.139.181    10223  147.32.84.229    13363  "
      ]
     },
     "execution_count": 15,
     "metadata": {},
     "output_type": "execute_result"
    }
   ],
   "source": [
    "data['Label'] =  data['Label(LEGITIMATE:Botnet:Background)']\n",
    "data[['Src_IP_Addr', 'Src_Port']] = data['Src_IP_Addr:Port'].str.split(':', n=1, expand=True)\n",
    "data[['Dst_IP_Addr', 'Dst_Port']] = data['Dst_IP_Addr:Port'].str.split(':', n=1, expand=True)\n",
    "data = data.drop(labels=[ '->', 'Label(LEGITIMATE:Botnet:Background)', 'Src_IP_Addr:Port', 'Dst_IP_Addr:Port'], axis=1)\n",
    "\n",
    "data.head()"
   ]
  },
  {
   "cell_type": "code",
   "execution_count": 16,
   "metadata": {},
   "outputs": [
    {
     "name": "stdout",
     "output_type": "stream",
     "text": [
      "6351188\n"
     ]
    },
    {
     "data": {
      "text/plain": [
       "array([    0,     0,     0,     0,     0,     0,     0,     0,     0,\n",
       "           0,     0, 62154,     0, 63817])"
      ]
     },
     "execution_count": 16,
     "metadata": {},
     "output_type": "execute_result"
    }
   ],
   "source": [
    "print(len(data))\n",
    "np.sum(data.isna().values, axis=0)"
   ]
  },
  {
   "cell_type": "code",
   "execution_count": 17,
   "metadata": {},
   "outputs": [],
   "source": [
    "data_nobground = data[data['Label']!='Background']\n",
    "\n",
    "infected_IP = '147.32.84.165'"
   ]
  },
  {
   "cell_type": "code",
   "execution_count": 18,
   "metadata": {
    "scrolled": true
   },
   "outputs": [
    {
     "name": "stderr",
     "output_type": "stream",
     "text": [
      "/home/ilele/.conda/envs/cda/lib/python3.7/site-packages/pandas/core/generic.py:6517: SettingWithCopyWarning: \n",
      "A value is trying to be set on a copy of a slice from a DataFrame.\n",
      "Try using .loc[row_indexer,col_indexer] = value instead\n",
      "\n",
      "See the caveats in the documentation: http://pandas.pydata.org/pandas-docs/stable/indexing.html#indexing-view-versus-copy\n",
      "  regex=regex)\n",
      "/home/ilele/.conda/envs/cda/lib/python3.7/site-packages/ipykernel_launcher.py:5: SettingWithCopyWarning: \n",
      "A value is trying to be set on a copy of a slice from a DataFrame.\n",
      "Try using .loc[row_indexer,col_indexer] = value instead\n",
      "\n",
      "See the caveats in the documentation: http://pandas.pydata.org/pandas-docs/stable/indexing.html#indexing-view-versus-copy\n",
      "  \"\"\"\n"
     ]
    }
   ],
   "source": [
    "label_mapping={}\n",
    "label_mapping['Label'] = {'LEGITIMATE': 0, 'Botnet' : 1}\n",
    "data_nobground.replace({'Label' : label_mapping['Label']}, inplace=True)\n",
    "\n",
    "data_nobground[data_nobground['Tos']==2]['Tos'] = 1"
   ]
  },
  {
   "cell_type": "code",
   "execution_count": 19,
   "metadata": {},
   "outputs": [],
   "source": [
    "# char_cols = list(data_nobground.dtypes.pipe(lambda x: x[x == 'object']).index)\n",
    "char_cols = ['Prot', 'Flags']\n",
    "\n",
    "\n",
    "# for c in char_cols:\n",
    "#     df_clean[c], label_mapping[c] = pd.factorize(df_clean[c])\n",
    "\n",
    "data_num = pd.get_dummies(data=data_nobground, columns=list(char_cols))"
   ]
  },
  {
   "cell_type": "code",
   "execution_count": 20,
   "metadata": {},
   "outputs": [
    {
     "name": "stdout",
     "output_type": "stream",
     "text": [
      "(279769, 48)\n",
      "Int64Index([     37,      39,      75,     229,     245,     350,     454,\n",
      "                579,     692,     783,\n",
      "            ...\n",
      "            6350614, 6350615, 6350687, 6350760, 6351098, 6351151, 6351155,\n",
      "            6351156, 6351160, 6351178],\n",
      "           dtype='int64', length=279769)\n"
     ]
    }
   ],
   "source": [
    "char_cols = list(data_num.dtypes.pipe(lambda x: x[x == 'object']).index)\n",
    "for c in char_cols:\n",
    "    data_num[c], label_mapping[c] = pd.factorize(data_num[c])\n",
    "\n",
    "print(data_num.shape)"
   ]
  },
  {
   "cell_type": "code",
   "execution_count": 29,
   "metadata": {},
   "outputs": [
    {
     "data": {
      "text/plain": [
       "Index(['Dst_Port', 'Prot_ICMP', 'Prot_RTCP', 'Prot_TCP', 'Prot_UDP',\n",
       "       'Flags_A_', 'Flags_ECO', 'Flags_FA_', 'Flags_FPA_', 'Flags_FRA_',\n",
       "       'Flags_FRPA_', 'Flags_FSA_', 'Flags_FSPA_', 'Flags_FSRA_',\n",
       "       'Flags_FSRPA_', 'Flags_INT', 'Flags_PAC_', 'Flags_PA_', 'Flags_RA_',\n",
       "       'Flags_RPA_', 'Flags_R_', 'Flags_SA_', 'Flags_SPA_', 'Flags_SRA_',\n",
       "       'Flags_SRPA_', 'Flags_SR_', 'Flags_S_', 'Flags_TXD', 'Flags_URFIL',\n",
       "       'Flags_URH', 'Flags_URHPRO', 'Flags_URN', 'Flags_URP', 'Flags__FSA',\n",
       "       'Flags__FSPA', 'Flags__FSRA', 'Flags__FSRPA', 'Durat'],\n",
       "      dtype='object')"
      ]
     },
     "execution_count": 29,
     "metadata": {},
     "output_type": "execute_result"
    }
   ],
   "source": [
    "cols = list(range(11, len(data_num.columns)))\n",
    "cols.append(2)\n",
    "\n",
    "data_num.columns[cols]"
   ]
  },
  {
   "cell_type": "code",
   "execution_count": 30,
   "metadata": {},
   "outputs": [
    {
     "name": "stdout",
     "output_type": "stream",
     "text": [
      "Dataset shape:  (279769, 47)\n"
     ]
    }
   ],
   "source": [
    "y = data_num['Label'].values\n",
    "X = data_num.drop(['Label'], axis = 1).values\n",
    "\n",
    "print(\"Dataset shape: \", X.shape)"
   ]
  },
  {
   "cell_type": "code",
   "execution_count": 10,
   "metadata": {},
   "outputs": [
    {
     "data": {
      "image/png": "[encoded data removed]",
      "text/plain": [
       "<Figure size 432x288 with 1 Axes>"
      ]
     },
     "metadata": {
      "needs_background": "light"
     },
     "output_type": "display_data"
    }
   ],
   "source": [
    "ax = data_num['Label'].value_counts()\n",
    "plt.title('Chargeback transactions vs Settled')\n",
    "sns.barplot(x=ax.index, y= ax)  \n",
    "plt.xlabel('Types of Transactions')\n",
    "plt.ylabel('Count')\n",
    "plt.show()\n"
   ]
  },
  {
   "cell_type": "code",
   "execution_count": 36,
   "metadata": {
    "scrolled": false
   },
   "outputs": [
    {
     "name": "stdout",
     "output_type": "stream",
     "text": [
      "Fraud class samples:  54433\n",
      "Non-fraud class samples:  225336\n",
      "Ratio:  0.2415637093052153\n"
     ]
    }
   ],
   "source": [
    "print(\"Fraud class samples: \", np.sum(y == 1))\n",
    "print(\"Non-fraud class samples: \", np.sum(y == 0))\n",
    "print(\"Ratio: \", np.sum(y == 1)/np.sum(y == 0))\n",
    "\n",
    "# 10-Fold stratified cross validation with shuffling of the dataset before extracting the stratified splits,\n",
    "# used for estimating performance\n",
    "num_splits = 10\n",
    "cv = StratifiedKFold(n_splits = num_splits, shuffle = True)"
   ]
  },
  {
   "cell_type": "code",
   "execution_count": 45,
   "metadata": {},
   "outputs": [],
   "source": [
    "def roc_analysis(X, y, clf, cv, plot_all_ROC, plot_ROC, plot_cm, normalize_cm, sm = None):\n",
    "\n",
    "        cols = list(range(11, X.shape[1]))\n",
    "        cols.append(2)\n",
    "        attack=1\n",
    "    \n",
    "        # vectors for storing True Positives, False Negatives, False Positives and True negatives\n",
    "        # respectively per cross-validation run\n",
    "        num_splits = cv.get_n_splits()\n",
    "        TP = np.zeros(num_splits, dtype = int)\n",
    "        FN = np.zeros_like(TP)\n",
    "        FP = np.zeros_like(TP)\n",
    "        TN = np.zeros_like(TP)\n",
    "\n",
    "        # Likewise for storing precision, recall and F1 score respectively extracted,\n",
    "        # per cross-validation run\n",
    "        PR = np.zeros(num_splits)\n",
    "        R = np.zeros_like(PR)\n",
    "        F1 = np.zeros_like(PR)\n",
    "\n",
    "        # Likewise for the True Positive Rate and the Area Under Curve\n",
    "        TPR = []\n",
    "        AUC = []\n",
    "        mean_FPR = np.linspace(0,1,100)\n",
    "\n",
    "\n",
    "\n",
    "        i = 0\n",
    "        if plot_ROC:\n",
    "            plt.figure(figsize = (8, 10))\n",
    "\n",
    "        # Cross-validation\n",
    "        for train_index, test_index in cv.split(X, y):\n",
    "            # If sm is provided, after extracting the split we first perform SMOTE on\n",
    "            # training data and then proceed to training the classifier\n",
    "            if sm != None:\n",
    "                X_train, y_train = sm.fit_resample(X[train_index], y[train_index])\n",
    "            else:\n",
    "                X_train, y_train = X[train_index], y[train_index]\n",
    "\n",
    "            # Train the classifier and extract predictions for test samples\n",
    "            clf.fit(X_train, y_train)\n",
    "            \n",
    "            X_test = X[test_index]\n",
    "            if attack:\n",
    "                perturb = np.round(X_test[:, cols] + np.random.rand(len(test_index), len(cols))).astype(int)\n",
    "                perturb[perturb==2] = 1\n",
    "                X_test[:,cols] = perturb\n",
    "        \n",
    "            y_pred = clf.predict(X_test)\n",
    "\n",
    "            # Uncomment following lines in case you want to see number of TP,FP,TN,FN per run\n",
    "            # print(\"num TP: \", np.sum(np.logical_and(y_pred == 1, y[test_index] == 1)))\n",
    "            # print(\"num FP: \", np.sum(np.logical_and(y_pred ==1, y[test_index] == 0)))\n",
    "            # print(\"num TN: \", np.sum(np.logical_and(y_pred == 0, y[test_index] == 0)))\n",
    "            # print(\"num FN: \", np.sum(np.logical_and(y_pred == 0, y[test_index] == 1)))\n",
    "\n",
    "            # Extract confusion matrix, precision, recall and F1 score for the current\n",
    "            # run of cross validatin\n",
    "            TN[i], FP[i], FN[i], TP[i] = confusion_matrix(y[test_index], y_pred).ravel()\n",
    "            PR[i] = precision_score(y[test_index], y_pred, average = 'binary')\n",
    "            R[i] = recall_score(y[test_index], y_pred, average = 'binary')\n",
    "            F1[i] = f1_score(y[test_index], y_pred, average = 'binary')\n",
    "\n",
    "            # Extract false positive and true positive rate correspoding to the positive (fraud) label\n",
    "            fpr, tpr, thresholds = roc_curve(y[test_index], clf.predict_proba(X[test_index])[:, 1])\n",
    "\n",
    "            # Interpolate extracted values on range of 0:100 with a step of 1\n",
    "            TPR.append(np.interp(mean_FPR, fpr, tpr))\n",
    "\n",
    "            # Set the first value of the run equal to 0\n",
    "            TPR[-1][0] = 0.0\n",
    "\n",
    "            # Extract and append to list the Area under Curve\n",
    "            roc_auc = auc(fpr, tpr)\n",
    "            AUC.append(roc_auc)\n",
    "\n",
    "            # if TRUE all ROC curves correspodning to each run are plotted\n",
    "            if plot_all_ROC:\n",
    "                plt.plot(fpr, tpr, label='ROC fold %d (AUC = %0.2f)' % (i, roc_auc))\n",
    "\n",
    "            i = i+1\n",
    "\n",
    "        # Extract mean values and standard deviations per run\n",
    "        mean_TPR = np.mean(TPR, 0)\n",
    "        mean_TPR[-1] = 1.0\n",
    "        std_TPR = np.std(TPR, 0)\n",
    "        # To assure that it doesn't go out of the graph\n",
    "        upper_TPR = np.minimum(mean_TPR + std_TPR, 1)\n",
    "        lower_TPR = np.maximum(mean_TPR - std_TPR, 0)\n",
    "\n",
    "        mean_AUC = auc(mean_FPR, mean_TPR)\n",
    "        std_AUC = np.std(AUC)\n",
    "\n",
    "        mean_PR = np.mean(PR)\n",
    "        mean_R = np.mean(R)\n",
    "        mean_F1 = np.mean(F1)\n",
    "        std_F1 = np.std(F1)\n",
    "\n",
    "        # If true plot the mean ROC curve\n",
    "        if plot_ROC:\n",
    "            # Line corresponding to the 'Chance' classifier (50-50)\n",
    "            plt.plot([0, 1], [0, 1], linestyle='--', lw=2, color='k',\n",
    "                 label='Chance', alpha=.8)\n",
    "\n",
    "            plt.plot(mean_FPR, mean_TPR, color='b',\n",
    "                 label=r'Mean ROC (AUC = %0.2f $\\pm$ %0.2f)' % (mean_AUC, std_AUC),\n",
    "                 lw=2, alpha=.8)\n",
    "            plt.fill_between(mean_FPR, lower_TPR, upper_TPR, color='b', alpha=.2,\n",
    "                         label=r'$\\pm$ 1 std. dev.')\n",
    "\n",
    "            plt.xlim([-0.05, 1.05])\n",
    "            plt.ylim([-0.05, 1.05])\n",
    "            plt.xlabel('False Positive Rate')\n",
    "            plt.ylabel('True Positive Rate')\n",
    "            plt.title('Receiver operating characteristic curve')\n",
    "            plt.legend(loc=\"lower right\")\n",
    "            plt.show()\n",
    "\n",
    "        # Extract the overall confusion matrix, by summing up the values extracted\n",
    "        # from all runs.\n",
    "        cm = np.array([np.sum(TN), np.sum(FP), np.sum(FN), np.sum(TP)])\n",
    "        cm = np.reshape(cm, [2,2], order='C')\n",
    "\n",
    "        # If TRUE, Plot confusion matrix\n",
    "        if plot_cm:\n",
    "            plt.figure()\n",
    "            plot_confusion_matrix(cm, classes = ['Non-Fraud', 'Fraud'], normalize = normalize_cm)\n",
    "\n",
    "        return mean_TPR, std_TPR, mean_AUC, std_AUC, mean_F1, std_F1, cm"
   ]
  },
  {
   "cell_type": "code",
   "execution_count": 37,
   "metadata": {},
   "outputs": [],
   "source": [
    "import numpy as np\n",
    "from sklearn.utils.multiclass import unique_labels\n",
    "from matplotlib import pyplot as plt\n",
    "from sklearn.metrics import confusion_matrix\n",
    "from sklearn.metrics import roc_curve, auc, confusion_matrix, precision_score, recall_score, f1_score\n",
    "\n",
    "\n",
    "# Inspired by https://scikit-learn.org/stable/auto_examples/model_selection/plot_confusion_matrix.html\n",
    "# This function plots the confusion matrix.\n",
    "#\n",
    "# INPUT:\n",
    "#    cm        : confusion matrix to be printed (in form of a 2x2 matrix),\n",
    "#    classes   : the labels corresponding to the classes (in our case 'Settled' and 'Chargeback')\n",
    "#    normalize : whether to present normalized counts or not,\n",
    "#    title     : title of the provided plot,\n",
    "#    cmap      : the color map used for the visualization\n",
    "def plot_confusion_matrix(cm, classes,\n",
    "                          normalize=False,\n",
    "                          title=None,\n",
    "                          cmap=plt.cm.Blues):\n",
    "    \"\"\"\n",
    "    This function prints and plots the confusion matrix.\n",
    "    Normalization can be applied by setting `normalize=True`.\n",
    "    \"\"\"\n",
    "    if not title:\n",
    "        if normalize:\n",
    "            title = 'Normalized confusion matrix'\n",
    "        else:\n",
    "            title = 'Confusion matrix, without normalization'\n",
    "\n",
    "    if normalize:\n",
    "        cm = cm.astype('float') / cm.sum(axis=1)[:, np.newaxis]\n",
    "        print(\"Normalized confusion matrix\")\n",
    "    else:\n",
    "        print('Confusion matrix, without normalization')\n",
    "\n",
    "    print(cm)\n",
    "\n",
    "    fig, ax = plt.subplots()\n",
    "    im = ax.imshow(cm, interpolation='nearest', cmap=cmap)\n",
    "    ax.figure.colorbar(im, ax=ax)\n",
    "    # We want to show all ticks...\n",
    "    ax.set(xticks=np.arange(cm.shape[1]),\n",
    "           yticks=np.arange(cm.shape[0]),\n",
    "           # ... and label them with the respective list entries\n",
    "           xticklabels=classes, yticklabels=classes,\n",
    "           title=title,\n",
    "           ylabel='True label',\n",
    "           xlabel='Predicted label')\n",
    "\n",
    "    # Rotate the tick labels and set their alignment.\n",
    "    plt.setp(ax.get_xticklabels(), rotation=45, ha=\"right\",\n",
    "             rotation_mode=\"anchor\")\n",
    "\n",
    "    # Loop over data dimensions and create text annotations.\n",
    "    fmt = '.2f' if normalize else 'd'\n",
    "    thresh = cm.max() / 2.\n",
    "    for i in range(cm.shape[0]):\n",
    "        for j in range(cm.shape[1]):\n",
    "            ax.text(j, i, format(cm[i, j], fmt),\n",
    "                    ha=\"center\", va=\"center\",\n",
    "                    color=\"white\" if cm[i, j] > thresh else \"black\")\n",
    "    fig.tight_layout()\n",
    "    return ax\n"
   ]
  },
  {
   "cell_type": "code",
   "execution_count": 11,
   "metadata": {},
   "outputs": [],
   "source": [
    "num_splits = 10\n",
    "cv = StratifiedKFold(n_splits = num_splits, shuffle = True)"
   ]
  },
  {
   "cell_type": "code",
   "execution_count": 38,
   "metadata": {},
   "outputs": [
    {
     "name": "stderr",
     "output_type": "stream",
     "text": [
      "/home/ilele/.conda/envs/cda/lib/python3.7/site-packages/sklearn/ensemble/forest.py:246: FutureWarning: The default value of n_estimators will change from 10 in version 0.20 to 100 in 0.22.\n",
      "  \"10 in version 0.20 to 100 in 0.22.\", FutureWarning)\n"
     ]
    },
    {
     "data": {
      "image/png": "[encoded data removed]",
      "text/plain": [
       "<Figure size 576x720 with 1 Axes>"
      ]
     },
     "metadata": {
      "needs_background": "light"
     },
     "output_type": "display_data"
    },
    {
     "name": "stdout",
     "output_type": "stream",
     "text": [
      "Confusion matrix, without normalization\n",
      "[[225323     13]\n",
      " [    12  54421]]\n"
     ]
    },
    {
     "data": {
      "text/plain": [
       "<Figure size 432x288 with 0 Axes>"
      ]
     },
     "metadata": {},
     "output_type": "display_data"
    },
    {
     "data": {
      "image/png": "[encoded data removed]",
      "text/plain": [
       "<Figure size 432x288 with 2 Axes>"
      ]
     },
     "metadata": {
      "needs_background": "light"
     },
     "output_type": "display_data"
    }
   ],
   "source": [
    "from  sklearn.ensemble import RandomForestClassifier as RF\n",
    "\n",
    "clf = RF(n_estimators='warn', criterion='gini', min_samples_split=2, min_samples_leaf=1, \n",
    "         min_weight_fraction_leaf=0.0, max_features='auto', min_impurity_decrease=0.0, \n",
    "         bootstrap=True, n_jobs=-1, verbose=0, warm_start=False)\n",
    "rf_mean_tpr, rf_std_tpr, rf_mean_auc, rf_std_auc, mean_F1, std_F1, cm = roc_analysis(X, y, clf, cv, True, True, True, False)"
   ]
  },
  {
   "cell_type": "code",
   "execution_count": 46,
   "metadata": {},
   "outputs": [
    {
     "name": "stderr",
     "output_type": "stream",
     "text": [
      "/home/ilele/.conda/envs/cda/lib/python3.7/site-packages/sklearn/ensemble/forest.py:246: FutureWarning: The default value of n_estimators will change from 10 in version 0.20 to 100 in 0.22.\n",
      "  \"10 in version 0.20 to 100 in 0.22.\", FutureWarning)\n"
     ]
    },
    {
     "data": {
      "image/png": "[encoded data removed]",
      "text/plain": [
       "<Figure size 576x720 with 1 Axes>"
      ]
     },
     "metadata": {
      "needs_background": "light"
     },
     "output_type": "display_data"
    },
    {
     "name": "stdout",
     "output_type": "stream",
     "text": [
      "Confusion matrix, without normalization\n",
      "[[224483    853]\n",
      " [   657  53776]]\n"
     ]
    },
    {
     "data": {
      "text/plain": [
       "<Figure size 432x288 with 0 Axes>"
      ]
     },
     "metadata": {},
     "output_type": "display_data"
    },
    {
     "data": {
      "image/png": "[encoded data removed]",
      "text/plain": [
       "<Figure size 432x288 with 2 Axes>"
      ]
     },
     "metadata": {
      "needs_background": "light"
     },
     "output_type": "display_data"
    }
   ],
   "source": [
    "\n",
    "clf = RF(n_estimators='warn', criterion='gini', min_samples_split=2, min_samples_leaf=1, \n",
    "         min_weight_fraction_leaf=0.0, max_features='auto', min_impurity_decrease=0.0, \n",
    "         bootstrap=True, n_jobs=-1, verbose=0, warm_start=False)\n",
    "rf_mean_tpr, rf_std_tpr, rf_mean_auc, rf_std_auc, mean_F1, std_F1, cm = roc_analysis(X, y, clf, cv, True, True, True, False)"
   ]
  },
  {
   "cell_type": "code",
   "execution_count": null,
   "metadata": {},
   "outputs": [],
   "source": []
  }
 ],
 "metadata": {
  "kernelspec": {
   "display_name": "Cyber Data Analytics",
   "language": "python",
   "name": "cda"
  },
  "language_info": {
   "codemirror_mode": {
    "name": "ipython",
    "version": 3
   },
   "file_extension": ".py",
   "mimetype": "text/x-python",
   "name": "python",
   "nbconvert_exporter": "python",
   "pygments_lexer": "ipython3",
   "version": "3.7.3"
  }
 },
 "nbformat": 4,
 "nbformat_minor": 2
}
