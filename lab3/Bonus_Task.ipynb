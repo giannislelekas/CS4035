{
 "cells": [
  {
   "cell_type": "code",
   "execution_count": 1,
   "metadata": {},
   "outputs": [],
   "source": [
    "import numpy as np\n",
    "import pandas as pd\n",
    "from matplotlib import pyplot as plt\n",
    "\n",
    "from sklearn.model_selection import StratifiedKFold\n",
    "\n",
    "from helper_functions.classification import *\n",
    "from helper_functions.botnet_profiling_task import *\n",
    "from helper_functions.flow_data_discretization import *"
   ]
  },
  {
   "cell_type": "markdown",
   "metadata": {},
   "source": [
    "The 10th scenario (https://mcfp.felk.cvut.cz/publicDatasets/CTU-Malware-Capture-Botnet-51/) will be used again, in order to compare with the performance metrics acquired from all the utilized methods.\n",
    "\n",
    "First load the data of the 10th scenario and apply the same preprocessing."
   ]
  },
  {
   "cell_type": "code",
   "execution_count": 2,
   "metadata": {},
   "outputs": [
    {
     "data": {
      "text/html": [
       "<div>\n",
       "<style scoped>\n",
       "    .dataframe tbody tr th:only-of-type {\n",
       "        vertical-align: middle;\n",
       "    }\n",
       "\n",
       "    .dataframe tbody tr th {\n",
       "        vertical-align: top;\n",
       "    }\n",
       "\n",
       "    .dataframe thead th {\n",
       "        text-align: right;\n",
       "    }\n",
       "</style>\n",
       "<table border=\"1\" class=\"dataframe\">\n",
       "  <thead>\n",
       "    <tr style=\"text-align: right;\">\n",
       "      <th></th>\n",
       "      <th>Durat</th>\n",
       "      <th>Prot</th>\n",
       "      <th>Flags</th>\n",
       "      <th>Tos</th>\n",
       "      <th>Packets</th>\n",
       "      <th>Bytes</th>\n",
       "      <th>Flows</th>\n",
       "      <th>Label</th>\n",
       "      <th>Src_IP_Addr</th>\n",
       "      <th>Src_Port</th>\n",
       "      <th>Dst_IP_Addr</th>\n",
       "      <th>Dst_Port</th>\n",
       "      <th>Datetime</th>\n",
       "    </tr>\n",
       "  </thead>\n",
       "  <tbody>\n",
       "    <tr>\n",
       "      <th>0</th>\n",
       "      <td>0.002</td>\n",
       "      <td>TCP</td>\n",
       "      <td>FRPA_</td>\n",
       "      <td>0</td>\n",
       "      <td>4</td>\n",
       "      <td>321</td>\n",
       "      <td>1</td>\n",
       "      <td>Background</td>\n",
       "      <td>147.32.86.166</td>\n",
       "      <td>33426</td>\n",
       "      <td>212.24.150.110</td>\n",
       "      <td>25443</td>\n",
       "      <td>2011-08-18 10:19:13.328</td>\n",
       "    </tr>\n",
       "    <tr>\n",
       "      <th>1</th>\n",
       "      <td>4.995</td>\n",
       "      <td>UDP</td>\n",
       "      <td>INT</td>\n",
       "      <td>0</td>\n",
       "      <td>617</td>\n",
       "      <td>40095</td>\n",
       "      <td>1</td>\n",
       "      <td>Background</td>\n",
       "      <td>82.39.2.249</td>\n",
       "      <td>41915</td>\n",
       "      <td>147.32.84.59</td>\n",
       "      <td>43087</td>\n",
       "      <td>2011-08-18 10:19:13.328</td>\n",
       "    </tr>\n",
       "    <tr>\n",
       "      <th>2</th>\n",
       "      <td>4.996</td>\n",
       "      <td>UDP</td>\n",
       "      <td>INT</td>\n",
       "      <td>0</td>\n",
       "      <td>1290</td>\n",
       "      <td>1909200</td>\n",
       "      <td>1</td>\n",
       "      <td>Background</td>\n",
       "      <td>147.32.84.59</td>\n",
       "      <td>43087</td>\n",
       "      <td>82.39.2.249</td>\n",
       "      <td>41915</td>\n",
       "      <td>2011-08-18 10:19:13.329</td>\n",
       "    </tr>\n",
       "    <tr>\n",
       "      <th>3</th>\n",
       "      <td>0.000</td>\n",
       "      <td>TCP</td>\n",
       "      <td>A_</td>\n",
       "      <td>0</td>\n",
       "      <td>1</td>\n",
       "      <td>66</td>\n",
       "      <td>1</td>\n",
       "      <td>Background</td>\n",
       "      <td>147.32.86.166</td>\n",
       "      <td>42020</td>\n",
       "      <td>147.32.192.34</td>\n",
       "      <td>993</td>\n",
       "      <td>2011-08-18 10:19:13.330</td>\n",
       "    </tr>\n",
       "    <tr>\n",
       "      <th>4</th>\n",
       "      <td>0.000</td>\n",
       "      <td>TCP</td>\n",
       "      <td>FPA_</td>\n",
       "      <td>0</td>\n",
       "      <td>2</td>\n",
       "      <td>169</td>\n",
       "      <td>1</td>\n",
       "      <td>Background</td>\n",
       "      <td>212.24.150.110</td>\n",
       "      <td>25443</td>\n",
       "      <td>147.32.86.166</td>\n",
       "      <td>33426</td>\n",
       "      <td>2011-08-18 10:19:13.330</td>\n",
       "    </tr>\n",
       "  </tbody>\n",
       "</table>\n",
       "</div>"
      ],
      "text/plain": [
       "   Durat Prot  Flags  Tos  Packets    Bytes  Flows       Label  \\\n",
       "0  0.002  TCP  FRPA_    0        4      321      1  Background   \n",
       "1  4.995  UDP    INT    0      617    40095      1  Background   \n",
       "2  4.996  UDP    INT    0     1290  1909200      1  Background   \n",
       "3  0.000  TCP     A_    0        1       66      1  Background   \n",
       "4  0.000  TCP   FPA_    0        2      169      1  Background   \n",
       "\n",
       "      Src_IP_Addr Src_Port     Dst_IP_Addr Dst_Port                 Datetime  \n",
       "0   147.32.86.166    33426  212.24.150.110    25443  2011-08-18 10:19:13.328  \n",
       "1     82.39.2.249    41915    147.32.84.59    43087  2011-08-18 10:19:13.328  \n",
       "2    147.32.84.59    43087     82.39.2.249    41915  2011-08-18 10:19:13.329  \n",
       "3   147.32.86.166    42020   147.32.192.34      993  2011-08-18 10:19:13.330  \n",
       "4  212.24.150.110    25443   147.32.86.166    33426  2011-08-18 10:19:13.330  "
      ]
     },
     "execution_count": 2,
     "metadata": {},
     "output_type": "execute_result"
    }
   ],
   "source": [
    "data = pd.read_csv('./data/capture20110818.pcap.netflow.labeled.remastered')\n",
    "data[['Src_IP_Addr', 'Src_Port']] = data['Src_IP_Addr:Port'].str.split(':', n=1, expand=True)\n",
    "data[['Dst_IP_Addr', 'Dst_Port']] = data['Dst_IP_Addr:Port'].str.split(':', n=1, expand=True)\n",
    "\n",
    "data['Datetime'] = data['#Date_flow'].str.cat(data['start'], sep=' ')\n",
    "#data['Datetime'] = pd.to_datetime(data['Datetime'], infer_datetime_format=True)\n",
    "\n",
    "data.drop(labels=['#Date_flow', 'start', 'Src_IP_Addr:Port', 'Dst_IP_Addr:Port'], axis=1, inplace=True)\n",
    "data.head()"
   ]
  },
  {
   "cell_type": "markdown",
   "metadata": {},
   "source": [
    "NaNs do occur in features `Src_Port` and `Dst_Port` which will not be further utilized for this taks. Hence, no further action is taken."
   ]
  },
  {
   "cell_type": "code",
   "execution_count": 3,
   "metadata": {},
   "outputs": [
    {
     "data": {
      "text/plain": [
       "array([     0,      0,      0,      0,      0,      0,      0,      0,\n",
       "            0, 374017,      0, 375948,      0])"
      ]
     },
     "execution_count": 3,
     "metadata": {},
     "output_type": "execute_result"
    }
   ],
   "source": [
    "nans = data.isna().values\n",
    "np.sum(nans, axis=0)"
   ]
  },
  {
   "cell_type": "markdown",
   "metadata": {},
   "source": [
    "Drop all background flows and delete the original dataframe (save memory resources!)"
   ]
  },
  {
   "cell_type": "code",
   "execution_count": 4,
   "metadata": {},
   "outputs": [],
   "source": [
    "data_nobground = data[ data['Label'] != 'Background']\n",
    "data_nobground.shape\n",
    "data_nobground.head()\n",
    "\n",
    "del data"
   ]
  },
  {
   "cell_type": "markdown",
   "metadata": {},
   "source": [
    "Hosts documented as infected and normal in the documentation of the scenario 51 (https://mcfp.felk.cvut.cz/publicDatasets/CTU-Malware-Capture-Botnet-51/) "
   ]
  },
  {
   "cell_type": "code",
   "execution_count": 5,
   "metadata": {},
   "outputs": [],
   "source": [
    "infected_hosts = ['147.32.84.165','147.32.84.191','147.32.84.192','147.32.84.193','147.32.84.204',\n",
    "                  '147.32.84.205','147.32.84.206', '147.32.84.207','147.32.84.208','147.32.84.209']\n",
    "\n",
    "normal_hosts = ['147.32.84.170', '147.32.84.134', '147.32.84.164', '147.32.87.36', '147.32.80.9', '147.32.87.11']"
   ]
  },
  {
   "cell_type": "markdown",
   "metadata": {},
   "source": [
    "Initial conversion of features `Prot` and `Flags` to numeric. Additionally, `BOTNET` is mapped as the positive label."
   ]
  },
  {
   "cell_type": "code",
   "execution_count": 6,
   "metadata": {},
   "outputs": [
    {
     "data": {
      "text/plain": [
       "{'Label': {'LEGITIMATE': 0, 'Botnet': 1},\n",
       " 'Prot': Index(['TCP', 'UDP', 'ICMP'], dtype='object'),\n",
       " 'Flags': Index(['PA_', 'A_', 'FA_', 'SPA_', 'FPA_', 'INT', 'FSA_', '_FSA', 'FSPA_',\n",
       "        '_FSPA', 'S_', 'RA_', 'FSRPA_', 'SA_', '_FSRPA', 'SRPA_', 'FRPA_',\n",
       "        'ECO', 'URH', 'SR_', 'FRA_', 'RPA_', 'R_', 'FSPAEC_', 'SRA_', '_FSRA',\n",
       "        'URP', 'PAC_', 'MAS', 'TST', 'IRR', 'ECR', 'RTS', 'RTA', 'IRQ', 'UNK',\n",
       "        'MSR', 'TSR', 'SEC', 'ROB', 'MRQ', 'RED', 'IAH', 'TXD', 'DNQ', 'PTB',\n",
       "        'PAR', 'NRA', 'WAY', 'PHO', '___', 'AHA', 'NRS', 'MHR', 'UR', 'NNA',\n",
       "        'MRP', 'TRC', 'DCE', 'SKP', 'SRC', 'NNS', 'DNP', 'URN', 'URPRE', 'URS',\n",
       "        'URNU', 'URCUT', 'URISO', 'URNPRO', 'URHPRO', 'URHTOS', 'URHU', 'SPAC_',\n",
       "        'SEC_', 'FSRA_', 'URFIL', 'FSPAC_'],\n",
       "       dtype='object')}"
      ]
     },
     "execution_count": 6,
     "metadata": {},
     "output_type": "execute_result"
    }
   ],
   "source": [
    "# Storing the mapping used for the conversion, in case we want to revert back \n",
    "label_mapping = {}\n",
    "\n",
    "\n",
    "label_mapping['Label'] = {'LEGITIMATE':0, 'Botnet':1}\n",
    "data_nobground.replace({'Label' : label_mapping['Label']}, inplace=True)\n",
    "\n",
    "# Convert all the rest columns which are of type 'object'\n",
    "char_cols = ['Prot', 'Flags']\n",
    "\n",
    "for c in char_cols:\n",
    "    data_nobground[c], label_mapping[c] = pd.factorize(data_nobground[c])\n",
    "\n",
    "# Uncomment this line, if you want to see the mapppings for the conversion\n",
    "label_mapping"
   ]
  },
  {
   "cell_type": "markdown",
   "metadata": {},
   "source": [
    "## Botnet profiling task\n",
    "Here we will test the effect of introducing adversarial perturbations to the malicious host data. We are following the same approach (CNG method) as the corresponding task, thus first extracting two training profiles corresponding to *Infected* and *Normal* classes and then for each unseen-test host, extract its profile and classify based on 1-Nearest Neighbour (for further info please refer to https://web.cs.dal.ca/~vlado/papers/pst04.pdf)"
   ]
  },
  {
   "cell_type": "markdown",
   "metadata": {},
   "source": [
    "Test-unseen hosts, excluding the first infected and normal hosts, which were used for the extraction of the corresponding training profiles."
   ]
  },
  {
   "cell_type": "code",
   "execution_count": 7,
   "metadata": {},
   "outputs": [
    {
     "data": {
      "text/plain": [
       "array(['147.32.84.191', '147.32.84.192', '147.32.84.193', '147.32.84.204',\n",
       "       '147.32.84.205', '147.32.84.206', '147.32.84.207', '147.32.84.208',\n",
       "       '147.32.84.209', '147.32.84.134', '147.32.84.164', '147.32.87.36',\n",
       "       '147.32.80.9', '147.32.87.11'], dtype='<U13')"
      ]
     },
     "execution_count": 7,
     "metadata": {},
     "output_type": "execute_result"
    }
   ],
   "source": [
    "test_hosts = np.append(infected_hosts[1:], normal_hosts[1:])\n",
    "test_hosts"
   ]
  },
  {
   "cell_type": "markdown",
   "metadata": {},
   "source": [
    "Discretize packets, smililar to the corresponding taks."
   ]
  },
  {
   "cell_type": "code",
   "execution_count": 8,
   "metadata": {},
   "outputs": [],
   "source": [
    "ranks = 2\n",
    "\n",
    "packets = data_nobground['Packets'].values\n",
    "data_nobground['Disc_Packets'] = discretize_ordinal(packets, ranks)"
   ]
  },
  {
   "cell_type": "markdown",
   "metadata": {},
   "source": [
    "Extract infected and normal profiles"
   ]
  },
  {
   "cell_type": "code",
   "execution_count": 9,
   "metadata": {},
   "outputs": [],
   "source": [
    "n = 2 \n",
    "feat = ['Prot', 'Disc_Packets']\n",
    "use_smoothing = False\n",
    "\n",
    "# Extracting the infected training profile\n",
    "infected_data = data_nobground[np.logical_or(data_nobground['Src_IP_Addr'] == infected_hosts[0], data_nobground['Dst_IP_Addr']==infected_hosts[0])]\n",
    "infected_data = infected_data[feat].values\n",
    "\n",
    "infected_code, _ = extract_code(infected_data)\n",
    "infected_ngrams = extract_ngrams(infected_code, n)\n",
    "unique_infected_ngrams, unique_infected_counts = np.unique(infected_ngrams, axis=0, return_counts=True)\n",
    "if use_smoothing:\n",
    "    max_unigram = np.max(unique_infected_ngrams)\n",
    "    smoothed_infected_ngrams, smoothed_infected_counts = laplace_smoothing(unique_infected_ngrams, unique_infected_counts, max_unigram)\n",
    "    _, infected_prof, infected_sorted_prof = extract_profile(smoothed_infected_ngrams, smoothed_infected_counts)\n",
    "else:\n",
    "    _, infected_prof, infected_sorted_prof = extract_profile(unique_infected_ngrams, unique_infected_counts)\n",
    "\n",
    "# Extracting the normal profile\n",
    "normal_data = data_nobground[np.logical_or(data_nobground['Src_IP_Addr'] == normal_hosts[0], data_nobground['Dst_IP_Addr']==normal_hosts[0])]\n",
    "normal_data = normal_data[feat].values\n",
    "\n",
    "normal_code, _ = extract_code(normal_data)\n",
    "normal_ngrams = extract_ngrams(normal_code, n)\n",
    "unique_normal_ngrams, unique_normal_counts = np.unique(normal_ngrams, axis=0, return_counts=True)\n",
    "if use_smoothing:\n",
    "    smoothed_normal_ngrams, smoothed_normal_counts = laplace_smoothing(unique_normal_ngrams, unique_normal_counts, max_unigram)\n",
    "    _, normal_prof, normal_sorted_prof = extract_profile(smoothed_normal_ngrams, smoothed_normal_counts)\n",
    "else:\n",
    "    _, normal_prof, normal_sorted_prof = extract_profile(unique_normal_ngrams, unique_normal_counts)"
   ]
  },
  {
   "cell_type": "markdown",
   "metadata": {},
   "source": [
    "For every test host, extract the instance profile and corresponding distances to the infected and normal profile. Classify the host to the nearest training profile. For the utilized distance metric please refer to the report or to https://web.cs.dal.ca/~vlado/papers/pst04.pdf.\n",
    "\n",
    "Regarding the introduced perturbations, we only introduce them to malicious hosts (these are the hosts we want to camouflage as normal). For the perturbations we considered the max perturbations for the `Packet` feature. Since this method uses the discretized Packets (ordinally discretized), the effect of applying these perturbations is equivalent to map all `Disc_Packets` data of malicious hosts to 1. This is a quite significant aspect of the method, making it quite robust against introduced perturbations; no matter how big perturbations we introduce to `Packets`, the effect on `Disc_Packets` will be an increase of 1.\n",
    "\n",
    "We also plot the distances to the two training profiles. The method is still able to classify all hosts correctly (robust against perturbations), but from the printed distances we can see that distances to the two profiles are almost equal now suggesting that our attack had impact."
   ]
  },
  {
   "cell_type": "code",
   "execution_count": 10,
   "metadata": {},
   "outputs": [
    {
     "name": "stdout",
     "output_type": "stream",
     "text": [
      "147.32.84.191 14.807843124877216 12.27442275322146\n",
      "147.32.84.192 14.84089131993831 12.036581276623828\n",
      "147.32.84.193 14.46490030637481 12.562196359461414\n",
      "147.32.84.204 14.750423656852744 12.884101213479537\n",
      "147.32.84.205 14.917606332503993 11.384842746175078\n",
      "147.32.84.206 14.51456219080532 13.09418679004854\n",
      "147.32.84.207 14.50434566494421 12.94648842590981\n",
      "147.32.84.208 14.859585504332706 12.372431744225006\n",
      "147.32.84.209 14.39336976834814 13.137175471469149\n",
      "147.32.84.134 1.088094695258738 6.723669716018827\n",
      "147.32.84.164 0.7706928831529345 6.445780858926657\n",
      "147.32.87.36 1.4993154575822765 3.8579689061516693\n",
      "147.32.80.9 12.937225458750717 14.516932912523624\n"
     ]
    }
   ],
   "source": [
    "pred = np.zeros(len(test_hosts), dtype=int)\n",
    "i=0\n",
    "for host in test_hosts:\n",
    "    host_data = data_nobground[np.logical_or(data_nobground['Src_IP_Addr'] == host, data_nobground['Dst_IP_Addr']==host)]\n",
    "    if len(host_data)<n:\n",
    "#         print(host, len(host_data), '\\n')\n",
    "        i = i+1\n",
    "        continue\n",
    "    host_data = host_data[feat].values\n",
    "    if host in infected_hosts:\n",
    "        host_data[:,1] = 1\n",
    "    \n",
    "    host_code, _ = extract_code(host_data)\n",
    "    host_ngrams = extract_ngrams(host_code, n)\n",
    "    unique_host_ngrams, unique_host_counts = np.unique(host_ngrams, axis=0, return_counts=True)\n",
    "    if use_smoothing:\n",
    "        smoothed_host_ngrams, smoothed_host_counts = laplace_smoothing(unique_host_ngrams, unique_host_counts, max_unigram)\n",
    "        _, host_prof, sorted_host_prof = extract_profile(smoothed_host_ngrams, smoothed_host_counts)\n",
    "    else:\n",
    "        _, host_prof, sorted_host_prof = extract_profile(unique_host_ngrams, unique_host_counts)\n",
    "    \n",
    "    normal_distance = distance(normal_prof, host_prof, normal_sorted_prof, sorted_host_prof, 2)\n",
    "    infected_distance = distance(infected_prof, host_prof, infected_sorted_prof, sorted_host_prof, 2)\n",
    "    \n",
    "    print(host, normal_distance, infected_distance)\n",
    "    if infected_distance < normal_distance:\n",
    "        \n",
    "        pred[i] = 1\n",
    "\n",
    "    i = i+1"
   ]
  },
  {
   "cell_type": "markdown",
   "metadata": {},
   "source": [
    "Performance metrics"
   ]
  },
  {
   "cell_type": "code",
   "execution_count": 11,
   "metadata": {},
   "outputs": [
    {
     "name": "stdout",
     "output_type": "stream",
     "text": [
      "TP:  9\n",
      "FP:  0\n",
      "FN:  0\n",
      "TN: 5\n",
      "14\n"
     ]
    }
   ],
   "source": [
    "TP = np.sum(np.isin(test_hosts[pred==1], infected_hosts))\n",
    "FP = np.sum(pred==1) - TP\n",
    "TN = np.sum(np.isin(test_hosts[pred==0], infected_hosts, invert=True))\n",
    "FN = np.sum(pred==0) - TN\n",
    "print(\"TP: \", TP)\n",
    "print(\"FP: \", FP)\n",
    "print(\"FN: \", FN)\n",
    "print(\"TN:\", TN)\n",
    "print(TP+FP+TN+FN)"
   ]
  },
  {
   "cell_type": "markdown",
   "metadata": {},
   "source": [
    "Demonstration of the effect of introduced perturbations. In the follwing plot the infected and normal training profiles are plotted, along with an \"adversarially perturbed\" malicious host. We see that the ecxtracted host profile does now resemble more a normal profile, comparing to the case without the perturbations. However, the method is quite robust to these perturbations, as explained above, hence everything is classified correctly. "
   ]
  },
  {
   "cell_type": "code",
   "execution_count": 12,
   "metadata": {},
   "outputs": [
    {
     "data": {
      "text/plain": [
       "<matplotlib.legend.Legend at 0x7f1cc765bd68>"
      ]
     },
     "execution_count": 12,
     "metadata": {},
     "output_type": "execute_result"
    },
    {
     "data": {
      "image/png": "[encoded data removed]",
      "text/plain": [
       "<Figure size 1080x504 with 1 Axes>"
      ]
     },
     "metadata": {
      "needs_background": "light"
     },
     "output_type": "display_data"
    }
   ],
   "source": [
    "plt.figure(figsize=(15,7))\n",
    "plt.plot(infected_code, label='infected')\n",
    "plt.plot(normal_code, label='normal')\n",
    "plt.plot(host_code, label='host')\n",
    "\n",
    "plt.legend()"
   ]
  },
  {
   "cell_type": "markdown",
   "metadata": {},
   "source": [
    "## Flow Classification\n",
    "We will introduce perturbations as in https://ieeexplore.ieee.org/abstract/document/8548327. Features `Durat`, `Packets`, `Bytes` of test malicious hosts will be perturbed, increased by a set offset. \n",
    "\n",
    "For our attack we just perturb malicious test data; we do not interfere with the training of the model (to resemble a realistic scenario, where the attack occurs on a trained model). That is, in each cross-validation run, the model is trained on original data and then we \"adversarially\" perturb the aforementioned features of malicious hosts.  "
   ]
  },
  {
   "cell_type": "markdown",
   "metadata": {},
   "source": [
    "### Host Level"
   ]
  },
  {
   "cell_type": "code",
   "execution_count": 13,
   "metadata": {},
   "outputs": [
    {
     "data": {
      "text/html": [
       "<div>\n",
       "<style scoped>\n",
       "    .dataframe tbody tr th:only-of-type {\n",
       "        vertical-align: middle;\n",
       "    }\n",
       "\n",
       "    .dataframe tbody tr th {\n",
       "        vertical-align: top;\n",
       "    }\n",
       "\n",
       "    .dataframe thead th {\n",
       "        text-align: right;\n",
       "    }\n",
       "</style>\n",
       "<table border=\"1\" class=\"dataframe\">\n",
       "  <thead>\n",
       "    <tr style=\"text-align: right;\">\n",
       "      <th></th>\n",
       "      <th>Durat</th>\n",
       "      <th>Prot</th>\n",
       "      <th>Flags</th>\n",
       "      <th>Tos</th>\n",
       "      <th>Packets</th>\n",
       "      <th>Bytes</th>\n",
       "      <th>Flows</th>\n",
       "      <th>Label</th>\n",
       "      <th>Src_IP_Addr</th>\n",
       "      <th>Src_Port</th>\n",
       "      <th>Dst_IP_Addr</th>\n",
       "      <th>Dst_Port</th>\n",
       "      <th>Datetime</th>\n",
       "      <th>Disc_Packets</th>\n",
       "    </tr>\n",
       "  </thead>\n",
       "  <tbody>\n",
       "    <tr>\n",
       "      <th>20</th>\n",
       "      <td>4.985</td>\n",
       "      <td>0</td>\n",
       "      <td>0</td>\n",
       "      <td>0</td>\n",
       "      <td>91</td>\n",
       "      <td>86277</td>\n",
       "      <td>1</td>\n",
       "      <td>0</td>\n",
       "      <td>147.32.80.13</td>\n",
       "      <td>80</td>\n",
       "      <td>147.32.85.88</td>\n",
       "      <td>56949</td>\n",
       "      <td>2011-08-18 10:19:13.347</td>\n",
       "      <td>1</td>\n",
       "    </tr>\n",
       "    <tr>\n",
       "      <th>51</th>\n",
       "      <td>0.000</td>\n",
       "      <td>0</td>\n",
       "      <td>1</td>\n",
       "      <td>0</td>\n",
       "      <td>1</td>\n",
       "      <td>66</td>\n",
       "      <td>1</td>\n",
       "      <td>0</td>\n",
       "      <td>147.32.86.110</td>\n",
       "      <td>48102</td>\n",
       "      <td>74.125.232.214</td>\n",
       "      <td>443</td>\n",
       "      <td>2011-08-18 10:19:13.392</td>\n",
       "      <td>0</td>\n",
       "    </tr>\n",
       "    <tr>\n",
       "      <th>57</th>\n",
       "      <td>4.921</td>\n",
       "      <td>0</td>\n",
       "      <td>1</td>\n",
       "      <td>0</td>\n",
       "      <td>49</td>\n",
       "      <td>3234</td>\n",
       "      <td>1</td>\n",
       "      <td>0</td>\n",
       "      <td>147.32.85.88</td>\n",
       "      <td>56949</td>\n",
       "      <td>147.32.80.13</td>\n",
       "      <td>80</td>\n",
       "      <td>2011-08-18 10:19:13.411</td>\n",
       "      <td>1</td>\n",
       "    </tr>\n",
       "    <tr>\n",
       "      <th>73</th>\n",
       "      <td>4.742</td>\n",
       "      <td>0</td>\n",
       "      <td>1</td>\n",
       "      <td>0</td>\n",
       "      <td>118</td>\n",
       "      <td>7080</td>\n",
       "      <td>1</td>\n",
       "      <td>0</td>\n",
       "      <td>147.32.84.59</td>\n",
       "      <td>2768</td>\n",
       "      <td>74.125.108.208</td>\n",
       "      <td>80</td>\n",
       "      <td>2011-08-18 10:19:13.460</td>\n",
       "      <td>1</td>\n",
       "    </tr>\n",
       "    <tr>\n",
       "      <th>75</th>\n",
       "      <td>0.000</td>\n",
       "      <td>0</td>\n",
       "      <td>1</td>\n",
       "      <td>0</td>\n",
       "      <td>1</td>\n",
       "      <td>60</td>\n",
       "      <td>1</td>\n",
       "      <td>0</td>\n",
       "      <td>147.32.84.59</td>\n",
       "      <td>56058</td>\n",
       "      <td>74.125.232.215</td>\n",
       "      <td>443</td>\n",
       "      <td>2011-08-18 10:19:13.486</td>\n",
       "      <td>0</td>\n",
       "    </tr>\n",
       "  </tbody>\n",
       "</table>\n",
       "</div>"
      ],
      "text/plain": [
       "    Durat  Prot  Flags  Tos  Packets  Bytes  Flows  Label    Src_IP_Addr  \\\n",
       "20  4.985     0      0    0       91  86277      1      0   147.32.80.13   \n",
       "51  0.000     0      1    0        1     66      1      0  147.32.86.110   \n",
       "57  4.921     0      1    0       49   3234      1      0   147.32.85.88   \n",
       "73  4.742     0      1    0      118   7080      1      0   147.32.84.59   \n",
       "75  0.000     0      1    0        1     60      1      0   147.32.84.59   \n",
       "\n",
       "   Src_Port     Dst_IP_Addr Dst_Port                 Datetime  Disc_Packets  \n",
       "20       80    147.32.85.88    56949  2011-08-18 10:19:13.347             1  \n",
       "51    48102  74.125.232.214      443  2011-08-18 10:19:13.392             0  \n",
       "57    56949    147.32.80.13       80  2011-08-18 10:19:13.411             1  \n",
       "73     2768  74.125.108.208       80  2011-08-18 10:19:13.460             1  \n",
       "75    56058  74.125.232.215      443  2011-08-18 10:19:13.486             0  "
      ]
     },
     "execution_count": 13,
     "metadata": {},
     "output_type": "execute_result"
    }
   ],
   "source": [
    "data_nobground.head()"
   ]
  },
  {
   "cell_type": "markdown",
   "metadata": {},
   "source": [
    "Extract data per host. We also extract some extra features per-host, that is the amount of unique `Dst_IP_Addr` this hosts connects to, as well as the unique number of `Src_Port` and `Dst_Port` utilized.\n",
    "\n",
    "For the labels, we do consider as infected a host which has took part in a malicious flow as source."
   ]
  },
  {
   "cell_type": "code",
   "execution_count": 14,
   "metadata": {},
   "outputs": [
    {
     "name": "stdout",
     "output_type": "stream",
     "text": [
      "(522, 10)\n",
      "Imbalance ratio:  0.14725274725274726\n"
     ]
    }
   ],
   "source": [
    "data_perhost = data_nobground.groupby(by='Src_IP_Addr').agg({'Durat':'sum', 'Prot':'sum', 'Flags':'sum', 'Tos':'sum', 'Packets':'sum', 'Bytes':'sum', 'Flows':'sum', 'Label':'max'})\n",
    "data_perhost['Dst_IPs'] = data_nobground.groupby('Src_IP_Addr')['Dst_IP_Addr'].nunique()\n",
    "data_perhost['Src_Ports'] = data_nobground.groupby('Src_IP_Addr')['Src_Port'].nunique()\n",
    "data_perhost['Dst_Ports'] = data_nobground.groupby('Src_IP_Addr')['Dst_Port'].nunique()\n",
    "\n",
    "hosts = data_perhost.index\n",
    "\n",
    "labels = data_perhost['Label'].values\n",
    "data_perhost.drop(labels='Label', axis=1, inplace=True)\n",
    "X = data_perhost.values\n",
    "\n",
    "print(X.shape)\n",
    "print(\"Imbalance ratio: \", np.sum(labels)/np.sum(labels==0))"
   ]
  },
  {
   "cell_type": "code",
   "execution_count": 15,
   "metadata": {},
   "outputs": [
    {
     "data": {
      "text/html": [
       "<div>\n",
       "<style scoped>\n",
       "    .dataframe tbody tr th:only-of-type {\n",
       "        vertical-align: middle;\n",
       "    }\n",
       "\n",
       "    .dataframe tbody tr th {\n",
       "        vertical-align: top;\n",
       "    }\n",
       "\n",
       "    .dataframe thead th {\n",
       "        text-align: right;\n",
       "    }\n",
       "</style>\n",
       "<table border=\"1\" class=\"dataframe\">\n",
       "  <thead>\n",
       "    <tr style=\"text-align: right;\">\n",
       "      <th></th>\n",
       "      <th>Durat</th>\n",
       "      <th>Prot</th>\n",
       "      <th>Flags</th>\n",
       "      <th>Tos</th>\n",
       "      <th>Packets</th>\n",
       "      <th>Bytes</th>\n",
       "      <th>Flows</th>\n",
       "      <th>Dst_IPs</th>\n",
       "      <th>Src_Ports</th>\n",
       "      <th>Dst_Ports</th>\n",
       "    </tr>\n",
       "    <tr>\n",
       "      <th>Src_IP_Addr</th>\n",
       "      <th></th>\n",
       "      <th></th>\n",
       "      <th></th>\n",
       "      <th></th>\n",
       "      <th></th>\n",
       "      <th></th>\n",
       "      <th></th>\n",
       "      <th></th>\n",
       "      <th></th>\n",
       "      <th></th>\n",
       "    </tr>\n",
       "  </thead>\n",
       "  <tbody>\n",
       "    <tr>\n",
       "      <th>10.10.20.233</th>\n",
       "      <td>50.096</td>\n",
       "      <td>0</td>\n",
       "      <td>249</td>\n",
       "      <td>0</td>\n",
       "      <td>132</td>\n",
       "      <td>8712</td>\n",
       "      <td>75</td>\n",
       "      <td>1</td>\n",
       "      <td>23</td>\n",
       "      <td>1</td>\n",
       "    </tr>\n",
       "    <tr>\n",
       "      <th>10.168.115.232</th>\n",
       "      <td>3.624</td>\n",
       "      <td>0</td>\n",
       "      <td>20</td>\n",
       "      <td>0</td>\n",
       "      <td>9</td>\n",
       "      <td>778</td>\n",
       "      <td>5</td>\n",
       "      <td>1</td>\n",
       "      <td>1</td>\n",
       "      <td>1</td>\n",
       "    </tr>\n",
       "    <tr>\n",
       "      <th>10.168.48.160</th>\n",
       "      <td>4.897</td>\n",
       "      <td>0</td>\n",
       "      <td>16</td>\n",
       "      <td>0</td>\n",
       "      <td>6</td>\n",
       "      <td>534</td>\n",
       "      <td>4</td>\n",
       "      <td>1</td>\n",
       "      <td>1</td>\n",
       "      <td>1</td>\n",
       "    </tr>\n",
       "    <tr>\n",
       "      <th>10.23.106.55</th>\n",
       "      <td>3.565</td>\n",
       "      <td>0</td>\n",
       "      <td>8</td>\n",
       "      <td>0</td>\n",
       "      <td>6</td>\n",
       "      <td>511</td>\n",
       "      <td>2</td>\n",
       "      <td>1</td>\n",
       "      <td>1</td>\n",
       "      <td>1</td>\n",
       "    </tr>\n",
       "    <tr>\n",
       "      <th>10.23.12.43</th>\n",
       "      <td>4.556</td>\n",
       "      <td>0</td>\n",
       "      <td>16</td>\n",
       "      <td>0</td>\n",
       "      <td>6</td>\n",
       "      <td>1583</td>\n",
       "      <td>4</td>\n",
       "      <td>2</td>\n",
       "      <td>2</td>\n",
       "      <td>2</td>\n",
       "    </tr>\n",
       "  </tbody>\n",
       "</table>\n",
       "</div>"
      ],
      "text/plain": [
       "                 Durat  Prot  Flags  Tos  Packets  Bytes  Flows  Dst_IPs  \\\n",
       "Src_IP_Addr                                                                \n",
       "10.10.20.233    50.096     0    249    0      132   8712     75        1   \n",
       "10.168.115.232   3.624     0     20    0        9    778      5        1   \n",
       "10.168.48.160    4.897     0     16    0        6    534      4        1   \n",
       "10.23.106.55     3.565     0      8    0        6    511      2        1   \n",
       "10.23.12.43      4.556     0     16    0        6   1583      4        2   \n",
       "\n",
       "                Src_Ports  Dst_Ports  \n",
       "Src_IP_Addr                           \n",
       "10.10.20.233           23          1  \n",
       "10.168.115.232          1          1  \n",
       "10.168.48.160           1          1  \n",
       "10.23.106.55            1          1  \n",
       "10.23.12.43             2          2  "
      ]
     },
     "execution_count": 15,
     "metadata": {},
     "output_type": "execute_result"
    }
   ],
   "source": [
    "data_perhost.head()"
   ]
  },
  {
   "cell_type": "markdown",
   "metadata": {},
   "source": [
    "Demonstration of the class distribution. Clearly, normal hosts are the majority but there is no significant imbalance."
   ]
  },
  {
   "cell_type": "code",
   "execution_count": 16,
   "metadata": {},
   "outputs": [
    {
     "name": "stdout",
     "output_type": "stream",
     "text": [
      "Infected hosts:  67\n",
      "Normal hosts:  455\n",
      "Imbalance ratio:  0.12835249042145594\n"
     ]
    },
    {
     "data": {
      "text/plain": [
       "Text(0, 0.5, 'Counts')"
      ]
     },
     "execution_count": 16,
     "metadata": {},
     "output_type": "execute_result"
    },
    {
     "data": {
      "image/png": "[encoded data removed]",
      "text/plain": [
       "<Figure size 720x432 with 1 Axes>"
      ]
     },
     "metadata": {
      "needs_background": "light"
     },
     "output_type": "display_data"
    }
   ],
   "source": [
    "print(\"Infected hosts: \", np.sum(labels))\n",
    "print(\"Normal hosts: \", np.sum(labels==0))\n",
    "print(\"Imbalance ratio: \", np.sum(labels)/len(labels))\n",
    "plt.figure(figsize=(10,6))\n",
    "plt.bar(range(2), [np.sum(labels==1), np.sum(labels==0)], width=0.5, tick_label=['Infected', 'Normal'])\n",
    "plt.ylabel('Counts')"
   ]
  },
  {
   "cell_type": "markdown",
   "metadata": {},
   "source": [
    "5-fold stratified cross-validation, since the dataset on host level is much smaller and a 10-fold split would lead to really low number of training samples for the infected class."
   ]
  },
  {
   "cell_type": "code",
   "execution_count": 17,
   "metadata": {},
   "outputs": [],
   "source": [
    "num_splits = 5\n",
    "cv = StratifiedKFold(n_splits = num_splits, shuffle = True)"
   ]
  },
  {
   "cell_type": "markdown",
   "metadata": {},
   "source": [
    "For the documentation of the utilized helper function please refer to `helper_functions/classification.py`."
   ]
  },
  {
   "cell_type": "code",
   "execution_count": 18,
   "metadata": {},
   "outputs": [],
   "source": [
    "from sklearn.naive_bayes import GaussianNB\n",
    "\n",
    "clf = GaussianNB()\n",
    "_, _, _, _, _, _, cm = roc_analysis(X, labels, clf, cv, False, False, False)"
   ]
  },
  {
   "cell_type": "markdown",
   "metadata": {},
   "source": [
    "Reported confusion matrix, correspond to summed statistics over the 5 cross-validation splits. Reported metrics (accuracy, precision, recall, F1_score) correspond to the final, aggregated confusion matrix."
   ]
  },
  {
   "cell_type": "code",
   "execution_count": 19,
   "metadata": {},
   "outputs": [
    {
     "name": "stdout",
     "output_type": "stream",
     "text": [
      "[[ 11   4]\n",
      " [ 56 451]]\n",
      "Accuracy: 0.885\n",
      "Precision: 0.733\n",
      "Recall: 0.164\n",
      "F1_score: 0.268\n"
     ]
    }
   ],
   "source": [
    "print(cm)\n",
    "\n",
    "acc, prec, rec, F1 = performance_metrics(cm)\n",
    "\n",
    "print(\"Accuracy: %.3f\" %acc)\n",
    "print(\"Precision: %.3f\" %prec)\n",
    "print(\"Recall: %.3f\" %rec)\n",
    "print(\"F1_score: %.3f\" %F1)"
   ]
  },
  {
   "cell_type": "code",
   "execution_count": 20,
   "metadata": {},
   "outputs": [
    {
     "name": "stderr",
     "output_type": "stream",
     "text": [
      "/home/ilele/.conda/envs/cda/lib/python3.7/site-packages/sklearn/ensemble/forest.py:246: FutureWarning: The default value of n_estimators will change from 10 in version 0.20 to 100 in 0.22.\n",
      "  \"10 in version 0.20 to 100 in 0.22.\", FutureWarning)\n"
     ]
    }
   ],
   "source": [
    "from  sklearn.ensemble import RandomForestClassifier as RF\n",
    "\n",
    "clf = RF(n_estimators='warn', criterion='gini', min_samples_split=2, min_samples_leaf=1, \n",
    "         min_weight_fraction_leaf=0.0, max_features='auto', min_impurity_decrease=0.0, \n",
    "         bootstrap=True, n_jobs=-1, verbose=0, warm_start=False)\n",
    "\n",
    "_, _, _, _, _, _, cm = roc_analysis(X, labels, clf, cv, False, False, False)"
   ]
  },
  {
   "cell_type": "code",
   "execution_count": 21,
   "metadata": {},
   "outputs": [
    {
     "name": "stdout",
     "output_type": "stream",
     "text": [
      "[[ 44   9]\n",
      " [ 23 446]]\n",
      "Accuracy: 0.939\n",
      "Precision: 0.830\n",
      "Recall: 0.657\n",
      "F1_score: 0.733\n"
     ]
    }
   ],
   "source": [
    "print(cm)\n",
    "\n",
    "acc, prec, rec, F1 = performance_metrics(cm)\n",
    "\n",
    "print(\"Accuracy: %.3f\" %acc)\n",
    "print(\"Precision: %.3f\" %prec)\n",
    "print(\"Recall: %.3f\" %rec)\n",
    "print(\"F1_score: %.3f\" %F1)"
   ]
  },
  {
   "cell_type": "markdown",
   "metadata": {},
   "source": [
    "Creating adversarial perturbations"
   ]
  },
  {
   "cell_type": "code",
   "execution_count": 22,
   "metadata": {},
   "outputs": [],
   "source": [
    "clf = GaussianNB()\n",
    "_, _, _, _, _, _, cm = roc_analysis(X, labels, clf, cv, False, False, True)"
   ]
  },
  {
   "cell_type": "code",
   "execution_count": 23,
   "metadata": {},
   "outputs": [
    {
     "name": "stdout",
     "output_type": "stream",
     "text": [
      "[[ 11   6]\n",
      " [ 56 449]]\n",
      "Accuracy: 0.881\n",
      "Precision: 0.647\n",
      "Recall: 0.164\n",
      "F1_score: 0.262\n"
     ]
    }
   ],
   "source": [
    "print(cm)\n",
    "\n",
    "acc, prec, rec, F1 = performance_metrics(cm)\n",
    "\n",
    "print(\"Accuracy: %.3f\" %acc)\n",
    "print(\"Precision: %.3f\" %prec)\n",
    "print(\"Recall: %.3f\" %rec)\n",
    "print(\"F1_score: %.3f\" %F1)"
   ]
  },
  {
   "cell_type": "code",
   "execution_count": 24,
   "metadata": {},
   "outputs": [
    {
     "name": "stderr",
     "output_type": "stream",
     "text": [
      "/home/ilele/.conda/envs/cda/lib/python3.7/site-packages/sklearn/ensemble/forest.py:246: FutureWarning: The default value of n_estimators will change from 10 in version 0.20 to 100 in 0.22.\n",
      "  \"10 in version 0.20 to 100 in 0.22.\", FutureWarning)\n"
     ]
    }
   ],
   "source": [
    "from  sklearn.ensemble import RandomForestClassifier as RF\n",
    "\n",
    "clf = RF(n_estimators='warn', criterion='gini', min_samples_split=2, min_samples_leaf=1, \n",
    "         min_weight_fraction_leaf=0.0, max_features='auto', min_impurity_decrease=0.0, \n",
    "         bootstrap=True, n_jobs=-1, verbose=0, warm_start=False)\n",
    "\n",
    "_, _, _, _, _, _, cm = roc_analysis(X, labels, clf, cv, False, False, True)"
   ]
  },
  {
   "cell_type": "code",
   "execution_count": 25,
   "metadata": {},
   "outputs": [
    {
     "name": "stdout",
     "output_type": "stream",
     "text": [
      "[[ 23   8]\n",
      " [ 44 447]]\n",
      "Accuracy: 0.900\n",
      "Precision: 0.742\n",
      "Recall: 0.343\n",
      "F1_score: 0.469\n"
     ]
    }
   ],
   "source": [
    "print(cm)\n",
    "\n",
    "acc, prec, rec, F1 = performance_metrics(cm)\n",
    "\n",
    "print(\"Accuracy: %.3f\" %acc)\n",
    "print(\"Precision: %.3f\" %prec)\n",
    "print(\"Recall: %.3f\" %rec)\n",
    "print(\"F1_score: %.3f\" %F1)"
   ]
  },
  {
   "cell_type": "markdown",
   "metadata": {},
   "source": [
    "From the reported metrics we can see that NB classifier is quite robust to the introduced perturbations. On the contrary, these perturbations have an effect on the Random-Forrest classifiers reducing the DetectionRate-Recall from 0.672 5o 0.403. \n",
    "\n",
    "Robustness of NB is justified to the simplicity of the classifier."
   ]
  },
  {
   "cell_type": "markdown",
   "metadata": {},
   "source": [
    "### Packet Level\n",
    "Next, evaluate on the packet level."
   ]
  },
  {
   "cell_type": "code",
   "execution_count": 26,
   "metadata": {},
   "outputs": [
    {
     "data": {
      "text/html": [
       "<div>\n",
       "<style scoped>\n",
       "    .dataframe tbody tr th:only-of-type {\n",
       "        vertical-align: middle;\n",
       "    }\n",
       "\n",
       "    .dataframe tbody tr th {\n",
       "        vertical-align: top;\n",
       "    }\n",
       "\n",
       "    .dataframe thead th {\n",
       "        text-align: right;\n",
       "    }\n",
       "</style>\n",
       "<table border=\"1\" class=\"dataframe\">\n",
       "  <thead>\n",
       "    <tr style=\"text-align: right;\">\n",
       "      <th></th>\n",
       "      <th>Durat</th>\n",
       "      <th>Prot</th>\n",
       "      <th>Flags</th>\n",
       "      <th>Tos</th>\n",
       "      <th>Packets</th>\n",
       "      <th>Bytes</th>\n",
       "      <th>Flows</th>\n",
       "      <th>Label</th>\n",
       "      <th>Src_IP_Addr</th>\n",
       "      <th>Src_Port</th>\n",
       "      <th>Dst_IP_Addr</th>\n",
       "      <th>Dst_Port</th>\n",
       "      <th>Datetime</th>\n",
       "      <th>Disc_Packets</th>\n",
       "    </tr>\n",
       "  </thead>\n",
       "  <tbody>\n",
       "    <tr>\n",
       "      <th>20</th>\n",
       "      <td>4.985</td>\n",
       "      <td>0</td>\n",
       "      <td>0</td>\n",
       "      <td>0</td>\n",
       "      <td>91</td>\n",
       "      <td>86277</td>\n",
       "      <td>1</td>\n",
       "      <td>0</td>\n",
       "      <td>147.32.80.13</td>\n",
       "      <td>80</td>\n",
       "      <td>147.32.85.88</td>\n",
       "      <td>56949</td>\n",
       "      <td>2011-08-18 10:19:13.347</td>\n",
       "      <td>1</td>\n",
       "    </tr>\n",
       "    <tr>\n",
       "      <th>51</th>\n",
       "      <td>0.000</td>\n",
       "      <td>0</td>\n",
       "      <td>1</td>\n",
       "      <td>0</td>\n",
       "      <td>1</td>\n",
       "      <td>66</td>\n",
       "      <td>1</td>\n",
       "      <td>0</td>\n",
       "      <td>147.32.86.110</td>\n",
       "      <td>48102</td>\n",
       "      <td>74.125.232.214</td>\n",
       "      <td>443</td>\n",
       "      <td>2011-08-18 10:19:13.392</td>\n",
       "      <td>0</td>\n",
       "    </tr>\n",
       "    <tr>\n",
       "      <th>57</th>\n",
       "      <td>4.921</td>\n",
       "      <td>0</td>\n",
       "      <td>1</td>\n",
       "      <td>0</td>\n",
       "      <td>49</td>\n",
       "      <td>3234</td>\n",
       "      <td>1</td>\n",
       "      <td>0</td>\n",
       "      <td>147.32.85.88</td>\n",
       "      <td>56949</td>\n",
       "      <td>147.32.80.13</td>\n",
       "      <td>80</td>\n",
       "      <td>2011-08-18 10:19:13.411</td>\n",
       "      <td>1</td>\n",
       "    </tr>\n",
       "    <tr>\n",
       "      <th>73</th>\n",
       "      <td>4.742</td>\n",
       "      <td>0</td>\n",
       "      <td>1</td>\n",
       "      <td>0</td>\n",
       "      <td>118</td>\n",
       "      <td>7080</td>\n",
       "      <td>1</td>\n",
       "      <td>0</td>\n",
       "      <td>147.32.84.59</td>\n",
       "      <td>2768</td>\n",
       "      <td>74.125.108.208</td>\n",
       "      <td>80</td>\n",
       "      <td>2011-08-18 10:19:13.460</td>\n",
       "      <td>1</td>\n",
       "    </tr>\n",
       "    <tr>\n",
       "      <th>75</th>\n",
       "      <td>0.000</td>\n",
       "      <td>0</td>\n",
       "      <td>1</td>\n",
       "      <td>0</td>\n",
       "      <td>1</td>\n",
       "      <td>60</td>\n",
       "      <td>1</td>\n",
       "      <td>0</td>\n",
       "      <td>147.32.84.59</td>\n",
       "      <td>56058</td>\n",
       "      <td>74.125.232.215</td>\n",
       "      <td>443</td>\n",
       "      <td>2011-08-18 10:19:13.486</td>\n",
       "      <td>0</td>\n",
       "    </tr>\n",
       "  </tbody>\n",
       "</table>\n",
       "</div>"
      ],
      "text/plain": [
       "    Durat  Prot  Flags  Tos  Packets  Bytes  Flows  Label    Src_IP_Addr  \\\n",
       "20  4.985     0      0    0       91  86277      1      0   147.32.80.13   \n",
       "51  0.000     0      1    0        1     66      1      0  147.32.86.110   \n",
       "57  4.921     0      1    0       49   3234      1      0   147.32.85.88   \n",
       "73  4.742     0      1    0      118   7080      1      0   147.32.84.59   \n",
       "75  0.000     0      1    0        1     60      1      0   147.32.84.59   \n",
       "\n",
       "   Src_Port     Dst_IP_Addr Dst_Port                 Datetime  Disc_Packets  \n",
       "20       80    147.32.85.88    56949  2011-08-18 10:19:13.347             1  \n",
       "51    48102  74.125.232.214      443  2011-08-18 10:19:13.392             0  \n",
       "57    56949    147.32.80.13       80  2011-08-18 10:19:13.411             1  \n",
       "73     2768  74.125.108.208       80  2011-08-18 10:19:13.460             1  \n",
       "75    56058  74.125.232.215      443  2011-08-18 10:19:13.486             0  "
      ]
     },
     "execution_count": 26,
     "metadata": {},
     "output_type": "execute_result"
    }
   ],
   "source": [
    "data_nobground.head()"
   ]
  },
  {
   "cell_type": "markdown",
   "metadata": {},
   "source": [
    "Conversion of all features of object type to numeric."
   ]
  },
  {
   "cell_type": "code",
   "execution_count": 27,
   "metadata": {},
   "outputs": [],
   "source": [
    "# Storing the mapping used for the conversion, in case we want to revert back \n",
    "label_mapping = {}\n",
    "data_num = data_nobground.copy()\n",
    "\n",
    "# Convert currency code in order to 'amount' in a single code\n",
    "\n",
    "# Convert all the rest columns which are of type 'object'\n",
    "char_cols = data_nobground.dtypes.pipe(lambda x: x[x == 'object']).index\n",
    "\n",
    "for c in char_cols:\n",
    "    data_num[c], label_mapping[c] = pd.factorize(data_nobground[c])\n",
    "\n",
    "# Uncomment this line, if you want to see the mapppings for the conversion\n",
    "#label_mapping"
   ]
  },
  {
   "cell_type": "code",
   "execution_count": 28,
   "metadata": {},
   "outputs": [
    {
     "data": {
      "text/html": [
       "<div>\n",
       "<style scoped>\n",
       "    .dataframe tbody tr th:only-of-type {\n",
       "        vertical-align: middle;\n",
       "    }\n",
       "\n",
       "    .dataframe tbody tr th {\n",
       "        vertical-align: top;\n",
       "    }\n",
       "\n",
       "    .dataframe thead th {\n",
       "        text-align: right;\n",
       "    }\n",
       "</style>\n",
       "<table border=\"1\" class=\"dataframe\">\n",
       "  <thead>\n",
       "    <tr style=\"text-align: right;\">\n",
       "      <th></th>\n",
       "      <th>Durat</th>\n",
       "      <th>Prot</th>\n",
       "      <th>Flags</th>\n",
       "      <th>Tos</th>\n",
       "      <th>Packets</th>\n",
       "      <th>Bytes</th>\n",
       "      <th>Flows</th>\n",
       "      <th>Src_IP_Addr</th>\n",
       "      <th>Src_Port</th>\n",
       "      <th>Dst_IP_Addr</th>\n",
       "      <th>Dst_Port</th>\n",
       "      <th>Disc_Packets</th>\n",
       "    </tr>\n",
       "  </thead>\n",
       "  <tbody>\n",
       "    <tr>\n",
       "      <th>20</th>\n",
       "      <td>4.985</td>\n",
       "      <td>0</td>\n",
       "      <td>0</td>\n",
       "      <td>0</td>\n",
       "      <td>91</td>\n",
       "      <td>86277</td>\n",
       "      <td>1</td>\n",
       "      <td>0</td>\n",
       "      <td>0</td>\n",
       "      <td>0</td>\n",
       "      <td>0</td>\n",
       "      <td>1</td>\n",
       "    </tr>\n",
       "    <tr>\n",
       "      <th>51</th>\n",
       "      <td>0.000</td>\n",
       "      <td>0</td>\n",
       "      <td>1</td>\n",
       "      <td>0</td>\n",
       "      <td>1</td>\n",
       "      <td>66</td>\n",
       "      <td>1</td>\n",
       "      <td>1</td>\n",
       "      <td>1</td>\n",
       "      <td>1</td>\n",
       "      <td>1</td>\n",
       "      <td>0</td>\n",
       "    </tr>\n",
       "    <tr>\n",
       "      <th>57</th>\n",
       "      <td>4.921</td>\n",
       "      <td>0</td>\n",
       "      <td>1</td>\n",
       "      <td>0</td>\n",
       "      <td>49</td>\n",
       "      <td>3234</td>\n",
       "      <td>1</td>\n",
       "      <td>2</td>\n",
       "      <td>2</td>\n",
       "      <td>2</td>\n",
       "      <td>2</td>\n",
       "      <td>1</td>\n",
       "    </tr>\n",
       "    <tr>\n",
       "      <th>73</th>\n",
       "      <td>4.742</td>\n",
       "      <td>0</td>\n",
       "      <td>1</td>\n",
       "      <td>0</td>\n",
       "      <td>118</td>\n",
       "      <td>7080</td>\n",
       "      <td>1</td>\n",
       "      <td>3</td>\n",
       "      <td>3</td>\n",
       "      <td>3</td>\n",
       "      <td>2</td>\n",
       "      <td>1</td>\n",
       "    </tr>\n",
       "    <tr>\n",
       "      <th>75</th>\n",
       "      <td>0.000</td>\n",
       "      <td>0</td>\n",
       "      <td>1</td>\n",
       "      <td>0</td>\n",
       "      <td>1</td>\n",
       "      <td>60</td>\n",
       "      <td>1</td>\n",
       "      <td>3</td>\n",
       "      <td>4</td>\n",
       "      <td>4</td>\n",
       "      <td>1</td>\n",
       "      <td>0</td>\n",
       "    </tr>\n",
       "  </tbody>\n",
       "</table>\n",
       "</div>"
      ],
      "text/plain": [
       "    Durat  Prot  Flags  Tos  Packets  Bytes  Flows  Src_IP_Addr  Src_Port  \\\n",
       "20  4.985     0      0    0       91  86277      1            0         0   \n",
       "51  0.000     0      1    0        1     66      1            1         1   \n",
       "57  4.921     0      1    0       49   3234      1            2         2   \n",
       "73  4.742     0      1    0      118   7080      1            3         3   \n",
       "75  0.000     0      1    0        1     60      1            3         4   \n",
       "\n",
       "    Dst_IP_Addr  Dst_Port  Disc_Packets  \n",
       "20            0         0             1  \n",
       "51            1         1             0  \n",
       "57            2         2             1  \n",
       "73            3         2             1  \n",
       "75            4         1             0  "
      ]
     },
     "execution_count": 28,
     "metadata": {},
     "output_type": "execute_result"
    }
   ],
   "source": [
    "labels = data_num['Label'].values\n",
    "data_num.drop(labels=['Label', 'Datetime'], axis=1, inplace=True)\n",
    "X = data_num.values\n",
    "data_num.head()"
   ]
  },
  {
   "cell_type": "markdown",
   "metadata": {},
   "source": [
    "Demonstration of the class distribution. There is roughly equal representation of the two classes."
   ]
  },
  {
   "cell_type": "code",
   "execution_count": 29,
   "metadata": {},
   "outputs": [
    {
     "name": "stdout",
     "output_type": "stream",
     "text": [
      "Infected hosts:  323441\n",
      "Normal hosts:  321917\n",
      "Imbalance ratio:  0.5011807399923763\n"
     ]
    },
    {
     "data": {
      "text/plain": [
       "Text(0, 0.5, 'Counts')"
      ]
     },
     "execution_count": 29,
     "metadata": {},
     "output_type": "execute_result"
    },
    {
     "data": {
      "image/png": "[encoded data removed]",
      "text/plain": [
       "<Figure size 720x432 with 1 Axes>"
      ]
     },
     "metadata": {
      "needs_background": "light"
     },
     "output_type": "display_data"
    }
   ],
   "source": [
    "print(\"Infected hosts: \", np.sum(labels))\n",
    "print(\"Normal hosts: \", np.sum(labels==0))\n",
    "print(\"Imbalance ratio: \", np.sum(labels)/len(labels))\n",
    "plt.figure(figsize=(10,6))\n",
    "plt.bar(range(2), [np.sum(labels==1), np.sum(labels==0)], width=0.5, tick_label=['Infected', 'Normal'])\n",
    "plt.ylabel('Counts')"
   ]
  },
  {
   "cell_type": "markdown",
   "metadata": {},
   "source": [
    "10-fold stratified cross-validation used for evaluation."
   ]
  },
  {
   "cell_type": "code",
   "execution_count": 30,
   "metadata": {},
   "outputs": [],
   "source": [
    "num_splits = 10\n",
    "cv = StratifiedKFold(n_splits = num_splits, shuffle = True)"
   ]
  },
  {
   "cell_type": "code",
   "execution_count": 31,
   "metadata": {},
   "outputs": [],
   "source": [
    "from sklearn.naive_bayes import GaussianNB\n",
    "\n",
    "clf = GaussianNB()\n",
    "_, _, _, _, _, _, cm = roc_analysis(X, labels, clf, cv, False, False, False)"
   ]
  },
  {
   "cell_type": "code",
   "execution_count": 32,
   "metadata": {},
   "outputs": [
    {
     "name": "stdout",
     "output_type": "stream",
     "text": [
      "[[313581   4470]\n",
      " [  9860 317447]]\n",
      "Accuracy: 0.978\n",
      "Precision: 0.986\n",
      "Recall: 0.970\n",
      "F1_score: 0.978\n"
     ]
    }
   ],
   "source": [
    "print(cm)\n",
    "\n",
    "acc, prec, rec, F1 = performance_metrics(cm)\n",
    "\n",
    "print(\"Accuracy: %.3f\" %acc)\n",
    "print(\"Precision: %.3f\" %prec)\n",
    "print(\"Recall: %.3f\" %rec)\n",
    "print(\"F1_score: %.3f\" %F1)"
   ]
  },
  {
   "cell_type": "code",
   "execution_count": 33,
   "metadata": {},
   "outputs": [
    {
     "name": "stderr",
     "output_type": "stream",
     "text": [
      "/home/ilele/.conda/envs/cda/lib/python3.7/site-packages/sklearn/ensemble/forest.py:246: FutureWarning: The default value of n_estimators will change from 10 in version 0.20 to 100 in 0.22.\n",
      "  \"10 in version 0.20 to 100 in 0.22.\", FutureWarning)\n"
     ]
    }
   ],
   "source": [
    "from  sklearn.ensemble import RandomForestClassifier as RF\n",
    "\n",
    "clf = RF(n_estimators='warn', criterion='gini', min_samples_split=2, min_samples_leaf=1, \n",
    "         min_weight_fraction_leaf=0.0, max_features='auto', min_impurity_decrease=0.0, \n",
    "         bootstrap=True, n_jobs=-1, verbose=0, warm_start=False)\n",
    "\n",
    "_, _, _, _, _, _, cm = roc_analysis(X, labels, clf, cv, False, False, False)"
   ]
  },
  {
   "cell_type": "code",
   "execution_count": 34,
   "metadata": {},
   "outputs": [
    {
     "name": "stdout",
     "output_type": "stream",
     "text": [
      "[[323434      4]\n",
      " [     7 321913]]\n",
      "Accuracy: 1.000\n",
      "Precision: 1.000\n",
      "Recall: 1.000\n",
      "F1_score: 1.000\n"
     ]
    }
   ],
   "source": [
    "print(cm)\n",
    "\n",
    "acc, prec, rec, F1 = performance_metrics(cm)\n",
    "\n",
    "print(\"Accuracy: %.3f\" %acc)\n",
    "print(\"Precision: %.3f\" %prec)\n",
    "print(\"Recall: %.3f\" %rec)\n",
    "print(\"F1_score: %.3f\" %F1)"
   ]
  },
  {
   "cell_type": "markdown",
   "metadata": {},
   "source": [
    "Creating adversarial perturbations"
   ]
  },
  {
   "cell_type": "code",
   "execution_count": 35,
   "metadata": {},
   "outputs": [],
   "source": [
    "clf = GaussianNB()\n",
    "_, _, _, _, _, _, cm = roc_analysis(X, labels, clf, cv, False, False, True)"
   ]
  },
  {
   "cell_type": "code",
   "execution_count": 36,
   "metadata": {},
   "outputs": [
    {
     "name": "stdout",
     "output_type": "stream",
     "text": [
      "[[314638   4468]\n",
      " [  8803 317449]]\n",
      "Accuracy: 0.979\n",
      "Precision: 0.986\n",
      "Recall: 0.973\n",
      "F1_score: 0.979\n"
     ]
    }
   ],
   "source": [
    "print(cm)\n",
    "\n",
    "acc, prec, rec, F1 = performance_metrics(cm)\n",
    "\n",
    "print(\"Accuracy: %.3f\" %acc)\n",
    "print(\"Precision: %.3f\" %prec)\n",
    "print(\"Recall: %.3f\" %rec)\n",
    "print(\"F1_score: %.3f\" %F1)"
   ]
  },
  {
   "cell_type": "code",
   "execution_count": 37,
   "metadata": {},
   "outputs": [],
   "source": [
    "from  sklearn.ensemble import RandomForestClassifier as RF\n",
    "\n",
    "clf = RF(n_estimators=10, criterion='gini', min_samples_split=2, min_samples_leaf=1, \n",
    "         min_weight_fraction_leaf=0.0, max_features='auto', min_impurity_decrease=0.0, \n",
    "         bootstrap=True, n_jobs=-1, verbose=0, warm_start=False)\n",
    "\n",
    "_, _, _, _, _, _, cm = roc_analysis(X, labels, clf, cv, False, False, True)"
   ]
  },
  {
   "cell_type": "code",
   "execution_count": 38,
   "metadata": {},
   "outputs": [
    {
     "name": "stdout",
     "output_type": "stream",
     "text": [
      "[[321345      1]\n",
      " [  2096 321916]]\n",
      "Accuracy: 0.997\n",
      "Precision: 1.000\n",
      "Recall: 0.994\n",
      "F1_score: 0.997\n"
     ]
    }
   ],
   "source": [
    "print(cm)\n",
    "\n",
    "acc, prec, rec, F1 = performance_metrics(cm)\n",
    "\n",
    "print(\"Accuracy: %.3f\" %acc)\n",
    "print(\"Precision: %.3f\" %prec)\n",
    "print(\"Recall: %.3f\" %rec)\n",
    "print(\"F1_score: %.3f\" %F1)"
   ]
  },
  {
   "cell_type": "markdown",
   "metadata": {},
   "source": [
    "Same conclusions are extracted, as in the classification on host level"
   ]
  }
 ],
 "metadata": {
  "kernelspec": {
   "display_name": "Cyber Data Analytics",
   "language": "python",
   "name": "cda"
  },
  "language_info": {
   "codemirror_mode": {
    "name": "ipython",
    "version": 3
   },
   "file_extension": ".py",
   "mimetype": "text/x-python",
   "name": "python",
   "nbconvert_exporter": "python",
   "pygments_lexer": "ipython3",
   "version": "3.7.3"
  }
 },
 "nbformat": 4,
 "nbformat_minor": 2
}
