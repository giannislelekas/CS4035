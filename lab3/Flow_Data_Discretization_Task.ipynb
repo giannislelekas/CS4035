{
 "cells": [
  {
   "cell_type": "markdown",
   "metadata": {},
   "source": [
    "Initial loading of the data of the 10th scenario (https://mcfp.felk.cvut.cz/publicDatasets/CTU-Malware-Capture-Botnet-51/). As ma be seen data are not loaded correctly (misaligned features)."
   ]
  },
  {
   "cell_type": "code",
   "execution_count": 1,
   "metadata": {},
   "outputs": [
    {
     "data": {
      "text/html": [
       "<div>\n",
       "<style scoped>\n",
       "    .dataframe tbody tr th:only-of-type {\n",
       "        vertical-align: middle;\n",
       "    }\n",
       "\n",
       "    .dataframe tbody tr th {\n",
       "        vertical-align: top;\n",
       "    }\n",
       "\n",
       "    .dataframe thead th {\n",
       "        text-align: right;\n",
       "    }\n",
       "</style>\n",
       "<table border=\"1\" class=\"dataframe\">\n",
       "  <thead>\n",
       "    <tr style=\"text-align: right;\">\n",
       "      <th></th>\n",
       "      <th>Date</th>\n",
       "      <th>flow</th>\n",
       "      <th>start</th>\n",
       "      <th>Durat</th>\n",
       "      <th>Prot</th>\n",
       "      <th>Src</th>\n",
       "      <th>IP</th>\n",
       "      <th>Addr:Port</th>\n",
       "      <th>Dst</th>\n",
       "      <th>IP.1</th>\n",
       "      <th>Addr:Port.1</th>\n",
       "      <th>Flags</th>\n",
       "      <th>Tos</th>\n",
       "      <th>Packets</th>\n",
       "      <th>Bytes</th>\n",
       "      <th>Flows</th>\n",
       "      <th>Label</th>\n",
       "      <th>Labels</th>\n",
       "    </tr>\n",
       "  </thead>\n",
       "  <tbody>\n",
       "    <tr>\n",
       "      <th>0</th>\n",
       "      <td>2011-08-18</td>\n",
       "      <td>10:19:13.328</td>\n",
       "      <td>0.002</td>\n",
       "      <td>TCP</td>\n",
       "      <td>147.32.86.166:33426</td>\n",
       "      <td>-&gt;</td>\n",
       "      <td>212.24.150.110:25443</td>\n",
       "      <td>FRPA_</td>\n",
       "      <td>0</td>\n",
       "      <td>4</td>\n",
       "      <td>321</td>\n",
       "      <td>1</td>\n",
       "      <td>Background</td>\n",
       "      <td>NaN</td>\n",
       "      <td>NaN</td>\n",
       "      <td>NaN</td>\n",
       "      <td>NaN</td>\n",
       "      <td>NaN</td>\n",
       "    </tr>\n",
       "    <tr>\n",
       "      <th>1</th>\n",
       "      <td>2011-08-18</td>\n",
       "      <td>10:19:13.328</td>\n",
       "      <td>4.995</td>\n",
       "      <td>UDP</td>\n",
       "      <td>82.39.2.249:41915</td>\n",
       "      <td>-&gt;</td>\n",
       "      <td>147.32.84.59:43087</td>\n",
       "      <td>INT</td>\n",
       "      <td>0</td>\n",
       "      <td>617</td>\n",
       "      <td>40095</td>\n",
       "      <td>1</td>\n",
       "      <td>Background</td>\n",
       "      <td>NaN</td>\n",
       "      <td>NaN</td>\n",
       "      <td>NaN</td>\n",
       "      <td>NaN</td>\n",
       "      <td>NaN</td>\n",
       "    </tr>\n",
       "    <tr>\n",
       "      <th>2</th>\n",
       "      <td>2011-08-18</td>\n",
       "      <td>10:19:13.329</td>\n",
       "      <td>4.996</td>\n",
       "      <td>UDP</td>\n",
       "      <td>147.32.84.59:43087</td>\n",
       "      <td>-&gt;</td>\n",
       "      <td>82.39.2.249:41915</td>\n",
       "      <td>INT</td>\n",
       "      <td>0</td>\n",
       "      <td>1290</td>\n",
       "      <td>1909200</td>\n",
       "      <td>1</td>\n",
       "      <td>Background</td>\n",
       "      <td>NaN</td>\n",
       "      <td>NaN</td>\n",
       "      <td>NaN</td>\n",
       "      <td>NaN</td>\n",
       "      <td>NaN</td>\n",
       "    </tr>\n",
       "    <tr>\n",
       "      <th>3</th>\n",
       "      <td>2011-08-18</td>\n",
       "      <td>10:19:13.330</td>\n",
       "      <td>0.000</td>\n",
       "      <td>TCP</td>\n",
       "      <td>147.32.86.166:42020</td>\n",
       "      <td>-&gt;</td>\n",
       "      <td>147.32.192.34:993</td>\n",
       "      <td>A_</td>\n",
       "      <td>0</td>\n",
       "      <td>1</td>\n",
       "      <td>66</td>\n",
       "      <td>1</td>\n",
       "      <td>Background</td>\n",
       "      <td>NaN</td>\n",
       "      <td>NaN</td>\n",
       "      <td>NaN</td>\n",
       "      <td>NaN</td>\n",
       "      <td>NaN</td>\n",
       "    </tr>\n",
       "    <tr>\n",
       "      <th>4</th>\n",
       "      <td>2011-08-18</td>\n",
       "      <td>10:19:13.330</td>\n",
       "      <td>0.000</td>\n",
       "      <td>TCP</td>\n",
       "      <td>212.24.150.110:25443</td>\n",
       "      <td>-&gt;</td>\n",
       "      <td>147.32.86.166:33426</td>\n",
       "      <td>FPA_</td>\n",
       "      <td>0</td>\n",
       "      <td>2</td>\n",
       "      <td>169</td>\n",
       "      <td>1</td>\n",
       "      <td>Background</td>\n",
       "      <td>NaN</td>\n",
       "      <td>NaN</td>\n",
       "      <td>NaN</td>\n",
       "      <td>NaN</td>\n",
       "      <td>NaN</td>\n",
       "    </tr>\n",
       "  </tbody>\n",
       "</table>\n",
       "</div>"
      ],
      "text/plain": [
       "         Date          flow  start Durat                  Prot Src  \\\n",
       "0  2011-08-18  10:19:13.328  0.002   TCP   147.32.86.166:33426  ->   \n",
       "1  2011-08-18  10:19:13.328  4.995   UDP     82.39.2.249:41915  ->   \n",
       "2  2011-08-18  10:19:13.329  4.996   UDP    147.32.84.59:43087  ->   \n",
       "3  2011-08-18  10:19:13.330  0.000   TCP   147.32.86.166:42020  ->   \n",
       "4  2011-08-18  10:19:13.330  0.000   TCP  212.24.150.110:25443  ->   \n",
       "\n",
       "                     IP Addr:Port  Dst  IP.1  Addr:Port.1  Flags         Tos  \\\n",
       "0  212.24.150.110:25443     FRPA_    0     4          321      1  Background   \n",
       "1    147.32.84.59:43087       INT    0   617        40095      1  Background   \n",
       "2     82.39.2.249:41915       INT    0  1290      1909200      1  Background   \n",
       "3     147.32.192.34:993        A_    0     1           66      1  Background   \n",
       "4   147.32.86.166:33426      FPA_    0     2          169      1  Background   \n",
       "\n",
       "   Packets  Bytes  Flows  Label  Labels  \n",
       "0      NaN    NaN    NaN    NaN     NaN  \n",
       "1      NaN    NaN    NaN    NaN     NaN  \n",
       "2      NaN    NaN    NaN    NaN     NaN  \n",
       "3      NaN    NaN    NaN    NaN     NaN  \n",
       "4      NaN    NaN    NaN    NaN     NaN  "
      ]
     },
     "execution_count": 1,
     "metadata": {},
     "output_type": "execute_result"
    }
   ],
   "source": [
    "import numpy as np\n",
    "import pandas as pd\n",
    "from helper_functions.flow_data_discretization import *\n",
    "\n",
    "\n",
    "names = ['#Date_flow', 'start', 'Durat', 'Prot', 'Src_IP_Addr:Port', 'Dst_IP_Addr:Port', 'Flags', 'Tos', 'Packets', 'Bytes', 'Flows', 'Label']\n",
    "data = pd.read_csv('./data/capture20110818.pcap.netflow.labeled', header=0, sep='\\s+')\n",
    "data.head()"
   ]
  },
  {
   "cell_type": "markdown",
   "metadata": {},
   "source": [
    "Process the loaded dataframe to fix the alignment of data. Additionally, we do store the generated dataframe to use this immediately in following tasks, in order to avoid facing the loading issue again."
   ]
  },
  {
   "cell_type": "code",
   "execution_count": 2,
   "metadata": {},
   "outputs": [
    {
     "data": {
      "text/html": [
       "<div>\n",
       "<style scoped>\n",
       "    .dataframe tbody tr th:only-of-type {\n",
       "        vertical-align: middle;\n",
       "    }\n",
       "\n",
       "    .dataframe tbody tr th {\n",
       "        vertical-align: top;\n",
       "    }\n",
       "\n",
       "    .dataframe thead th {\n",
       "        text-align: right;\n",
       "    }\n",
       "</style>\n",
       "<table border=\"1\" class=\"dataframe\">\n",
       "  <thead>\n",
       "    <tr style=\"text-align: right;\">\n",
       "      <th></th>\n",
       "      <th>Date</th>\n",
       "      <th>flow</th>\n",
       "      <th>start</th>\n",
       "      <th>Durat</th>\n",
       "      <th>Prot</th>\n",
       "      <th>IP</th>\n",
       "      <th>Addr:Port</th>\n",
       "      <th>Dst</th>\n",
       "      <th>IP.1</th>\n",
       "      <th>Addr:Port.1</th>\n",
       "      <th>Flags</th>\n",
       "      <th>Tos</th>\n",
       "    </tr>\n",
       "  </thead>\n",
       "  <tbody>\n",
       "    <tr>\n",
       "      <th>0</th>\n",
       "      <td>2011-08-18</td>\n",
       "      <td>10:19:13.328</td>\n",
       "      <td>0.002</td>\n",
       "      <td>TCP</td>\n",
       "      <td>147.32.86.166:33426</td>\n",
       "      <td>212.24.150.110:25443</td>\n",
       "      <td>FRPA_</td>\n",
       "      <td>0</td>\n",
       "      <td>4</td>\n",
       "      <td>321</td>\n",
       "      <td>1</td>\n",
       "      <td>Background</td>\n",
       "    </tr>\n",
       "    <tr>\n",
       "      <th>1</th>\n",
       "      <td>2011-08-18</td>\n",
       "      <td>10:19:13.328</td>\n",
       "      <td>4.995</td>\n",
       "      <td>UDP</td>\n",
       "      <td>82.39.2.249:41915</td>\n",
       "      <td>147.32.84.59:43087</td>\n",
       "      <td>INT</td>\n",
       "      <td>0</td>\n",
       "      <td>617</td>\n",
       "      <td>40095</td>\n",
       "      <td>1</td>\n",
       "      <td>Background</td>\n",
       "    </tr>\n",
       "    <tr>\n",
       "      <th>2</th>\n",
       "      <td>2011-08-18</td>\n",
       "      <td>10:19:13.329</td>\n",
       "      <td>4.996</td>\n",
       "      <td>UDP</td>\n",
       "      <td>147.32.84.59:43087</td>\n",
       "      <td>82.39.2.249:41915</td>\n",
       "      <td>INT</td>\n",
       "      <td>0</td>\n",
       "      <td>1290</td>\n",
       "      <td>1909200</td>\n",
       "      <td>1</td>\n",
       "      <td>Background</td>\n",
       "    </tr>\n",
       "    <tr>\n",
       "      <th>3</th>\n",
       "      <td>2011-08-18</td>\n",
       "      <td>10:19:13.330</td>\n",
       "      <td>0.000</td>\n",
       "      <td>TCP</td>\n",
       "      <td>147.32.86.166:42020</td>\n",
       "      <td>147.32.192.34:993</td>\n",
       "      <td>A_</td>\n",
       "      <td>0</td>\n",
       "      <td>1</td>\n",
       "      <td>66</td>\n",
       "      <td>1</td>\n",
       "      <td>Background</td>\n",
       "    </tr>\n",
       "    <tr>\n",
       "      <th>4</th>\n",
       "      <td>2011-08-18</td>\n",
       "      <td>10:19:13.330</td>\n",
       "      <td>0.000</td>\n",
       "      <td>TCP</td>\n",
       "      <td>212.24.150.110:25443</td>\n",
       "      <td>147.32.86.166:33426</td>\n",
       "      <td>FPA_</td>\n",
       "      <td>0</td>\n",
       "      <td>2</td>\n",
       "      <td>169</td>\n",
       "      <td>1</td>\n",
       "      <td>Background</td>\n",
       "    </tr>\n",
       "  </tbody>\n",
       "</table>\n",
       "</div>"
      ],
      "text/plain": [
       "         Date          flow  start Durat                  Prot  \\\n",
       "0  2011-08-18  10:19:13.328  0.002   TCP   147.32.86.166:33426   \n",
       "1  2011-08-18  10:19:13.328  4.995   UDP     82.39.2.249:41915   \n",
       "2  2011-08-18  10:19:13.329  4.996   UDP    147.32.84.59:43087   \n",
       "3  2011-08-18  10:19:13.330  0.000   TCP   147.32.86.166:42020   \n",
       "4  2011-08-18  10:19:13.330  0.000   TCP  212.24.150.110:25443   \n",
       "\n",
       "                     IP Addr:Port  Dst  IP.1  Addr:Port.1  Flags         Tos  \n",
       "0  212.24.150.110:25443     FRPA_    0     4          321      1  Background  \n",
       "1    147.32.84.59:43087       INT    0   617        40095      1  Background  \n",
       "2     82.39.2.249:41915       INT    0  1290      1909200      1  Background  \n",
       "3     147.32.192.34:993        A_    0     1           66      1  Background  \n",
       "4   147.32.86.166:33426      FPA_    0     2          169      1  Background  "
      ]
     },
     "execution_count": 2,
     "metadata": {},
     "output_type": "execute_result"
    }
   ],
   "source": [
    "data.drop(labels=['Src', 'Packets', 'Bytes', 'Flows', 'Label', 'Labels'], axis=1, inplace=True)\n",
    "data.to_csv('./data/capture20110818.pcap.netflow.labeled.remastered', header=names, index=False)\n",
    "data.head()"
   ]
  },
  {
   "cell_type": "markdown",
   "metadata": {},
   "source": [
    "Separation of `Src_IP_Addr:Port` and `Dst_IP_Addr:Port` into separate features for IP addresses and corresponding ports. Concatenate `#Date_flow` and `start` into a single feature `Datetime` an converion to timestamp."
   ]
  },
  {
   "cell_type": "code",
   "execution_count": 3,
   "metadata": {},
   "outputs": [
    {
     "data": {
      "text/html": [
       "<div>\n",
       "<style scoped>\n",
       "    .dataframe tbody tr th:only-of-type {\n",
       "        vertical-align: middle;\n",
       "    }\n",
       "\n",
       "    .dataframe tbody tr th {\n",
       "        vertical-align: top;\n",
       "    }\n",
       "\n",
       "    .dataframe thead th {\n",
       "        text-align: right;\n",
       "    }\n",
       "</style>\n",
       "<table border=\"1\" class=\"dataframe\">\n",
       "  <thead>\n",
       "    <tr style=\"text-align: right;\">\n",
       "      <th></th>\n",
       "      <th>Durat</th>\n",
       "      <th>Prot</th>\n",
       "      <th>Flags</th>\n",
       "      <th>Tos</th>\n",
       "      <th>Packets</th>\n",
       "      <th>Bytes</th>\n",
       "      <th>Flows</th>\n",
       "      <th>Label</th>\n",
       "      <th>Src_IP_Addr</th>\n",
       "      <th>Src_Port</th>\n",
       "      <th>Dst_IP_Addr</th>\n",
       "      <th>Dst_Port</th>\n",
       "      <th>Datetime</th>\n",
       "    </tr>\n",
       "  </thead>\n",
       "  <tbody>\n",
       "    <tr>\n",
       "      <th>0</th>\n",
       "      <td>0.002</td>\n",
       "      <td>TCP</td>\n",
       "      <td>FRPA_</td>\n",
       "      <td>0</td>\n",
       "      <td>4</td>\n",
       "      <td>321</td>\n",
       "      <td>1</td>\n",
       "      <td>Background</td>\n",
       "      <td>147.32.86.166</td>\n",
       "      <td>33426</td>\n",
       "      <td>212.24.150.110</td>\n",
       "      <td>25443</td>\n",
       "      <td>2011-08-18 10:19:13.328</td>\n",
       "    </tr>\n",
       "    <tr>\n",
       "      <th>1</th>\n",
       "      <td>4.995</td>\n",
       "      <td>UDP</td>\n",
       "      <td>INT</td>\n",
       "      <td>0</td>\n",
       "      <td>617</td>\n",
       "      <td>40095</td>\n",
       "      <td>1</td>\n",
       "      <td>Background</td>\n",
       "      <td>82.39.2.249</td>\n",
       "      <td>41915</td>\n",
       "      <td>147.32.84.59</td>\n",
       "      <td>43087</td>\n",
       "      <td>2011-08-18 10:19:13.328</td>\n",
       "    </tr>\n",
       "    <tr>\n",
       "      <th>2</th>\n",
       "      <td>4.996</td>\n",
       "      <td>UDP</td>\n",
       "      <td>INT</td>\n",
       "      <td>0</td>\n",
       "      <td>1290</td>\n",
       "      <td>1909200</td>\n",
       "      <td>1</td>\n",
       "      <td>Background</td>\n",
       "      <td>147.32.84.59</td>\n",
       "      <td>43087</td>\n",
       "      <td>82.39.2.249</td>\n",
       "      <td>41915</td>\n",
       "      <td>2011-08-18 10:19:13.329</td>\n",
       "    </tr>\n",
       "    <tr>\n",
       "      <th>3</th>\n",
       "      <td>0.000</td>\n",
       "      <td>TCP</td>\n",
       "      <td>A_</td>\n",
       "      <td>0</td>\n",
       "      <td>1</td>\n",
       "      <td>66</td>\n",
       "      <td>1</td>\n",
       "      <td>Background</td>\n",
       "      <td>147.32.86.166</td>\n",
       "      <td>42020</td>\n",
       "      <td>147.32.192.34</td>\n",
       "      <td>993</td>\n",
       "      <td>2011-08-18 10:19:13.330</td>\n",
       "    </tr>\n",
       "    <tr>\n",
       "      <th>4</th>\n",
       "      <td>0.000</td>\n",
       "      <td>TCP</td>\n",
       "      <td>FPA_</td>\n",
       "      <td>0</td>\n",
       "      <td>2</td>\n",
       "      <td>169</td>\n",
       "      <td>1</td>\n",
       "      <td>Background</td>\n",
       "      <td>212.24.150.110</td>\n",
       "      <td>25443</td>\n",
       "      <td>147.32.86.166</td>\n",
       "      <td>33426</td>\n",
       "      <td>2011-08-18 10:19:13.330</td>\n",
       "    </tr>\n",
       "  </tbody>\n",
       "</table>\n",
       "</div>"
      ],
      "text/plain": [
       "   Durat Prot  Flags  Tos  Packets    Bytes  Flows       Label  \\\n",
       "0  0.002  TCP  FRPA_    0        4      321      1  Background   \n",
       "1  4.995  UDP    INT    0      617    40095      1  Background   \n",
       "2  4.996  UDP    INT    0     1290  1909200      1  Background   \n",
       "3  0.000  TCP     A_    0        1       66      1  Background   \n",
       "4  0.000  TCP   FPA_    0        2      169      1  Background   \n",
       "\n",
       "      Src_IP_Addr Src_Port     Dst_IP_Addr Dst_Port                Datetime  \n",
       "0   147.32.86.166    33426  212.24.150.110    25443 2011-08-18 10:19:13.328  \n",
       "1     82.39.2.249    41915    147.32.84.59    43087 2011-08-18 10:19:13.328  \n",
       "2    147.32.84.59    43087     82.39.2.249    41915 2011-08-18 10:19:13.329  \n",
       "3   147.32.86.166    42020   147.32.192.34      993 2011-08-18 10:19:13.330  \n",
       "4  212.24.150.110    25443   147.32.86.166    33426 2011-08-18 10:19:13.330  "
      ]
     },
     "execution_count": 3,
     "metadata": {},
     "output_type": "execute_result"
    }
   ],
   "source": [
    "data = pd.read_csv('./data/capture20110818.pcap.netflow.labeled.remastered')\n",
    "data[['Src_IP_Addr', 'Src_Port']] = data['Src_IP_Addr:Port'].str.split(':', n=1, expand=True)\n",
    "data[['Dst_IP_Addr', 'Dst_Port']] = data['Dst_IP_Addr:Port'].str.split(':', n=1, expand=True)\n",
    "\n",
    "data['Datetime'] = data['#Date_flow'].str.cat(data['start'], sep=' ')\n",
    "data['Datetime'] = pd.to_datetime(data['Datetime'], infer_datetime_format=True)\n",
    "\n",
    "data.drop(labels=['#Date_flow', 'start', 'Src_IP_Addr:Port', 'Dst_IP_Addr:Port'], axis=1, inplace=True)\n",
    "data.head()"
   ]
  },
  {
   "cell_type": "markdown",
   "metadata": {},
   "source": [
    "NaNs do occur in features `Src_Port` and `Dst_Port` which will not be further utilized for this taks. Hence, no further action is taken."
   ]
  },
  {
   "cell_type": "code",
   "execution_count": 4,
   "metadata": {},
   "outputs": [
    {
     "data": {
      "text/plain": [
       "array([     0,      0,      0,      0,      0,      0,      0,      0,\n",
       "            0, 374017,      0, 375948,      0])"
      ]
     },
     "execution_count": 4,
     "metadata": {},
     "output_type": "execute_result"
    }
   ],
   "source": [
    "nans = data.isna().values\n",
    "np.sum(nans, axis=0)"
   ]
  },
  {
   "cell_type": "markdown",
   "metadata": {},
   "source": [
    "Hosts documented as infected and normal in the documentation of the scenario 51 (https://mcfp.felk.cvut.cz/publicDatasets/CTU-Malware-Capture-Botnet-51/) "
   ]
  },
  {
   "cell_type": "code",
   "execution_count": 5,
   "metadata": {},
   "outputs": [],
   "source": [
    "infected_hosts = ['147.32.84.165','147.32.84.191','147.32.84.192','147.32.84.193','147.32.84.204',\n",
    "                  '147.32.84.205','147.32.84.206''147.32.84.207','147.32.84.208','147.32.84.209']\n",
    "\n",
    "normal_hosts = ['147.32.84.170', '147.32.84.134', '147.32.84.164', '147.32.87.36, 147.32.80.9', '147.32.87.11']"
   ]
  },
  {
   "cell_type": "markdown",
   "metadata": {},
   "source": [
    "Initial conversion of features `Prot` and `Flags` to numeric, based on an enumeration of their unique values."
   ]
  },
  {
   "cell_type": "code",
   "execution_count": 6,
   "metadata": {},
   "outputs": [
    {
     "name": "stdout",
     "output_type": "stream",
     "text": [
      "['Prot', 'Flags']\n"
     ]
    },
    {
     "data": {
      "text/plain": [
       "{'Prot': Index(['TCP', 'UDP', 'ICMP', 'PIM', 'RTP', 'ARP', 'IPX/SPX', 'RTCP', 'IGMP',\n",
       "        'IPV6-ICMP', 'IPV6', 'ESP', 'LLC', 'UDT'],\n",
       "       dtype='object'),\n",
       " 'Flags': Index(['FRPA_', 'INT', 'A_', 'FPA_', 'PA_', 'URP', '_FSPA', 'S_', 'SPA_',\n",
       "        'RA_', 'FA_', 'SRPA_', 'R_', 'FSPA_', 'RED', 'SA_', 'URN', 'ECO',\n",
       "        '_FSA', 'FSRPA_', 'URFIL', 'URH', 'FRA_', 'CON', 'FSA_', 'RPA_',\n",
       "        '_FSRPA', 'ECR', 'FS_', 'TXD', 'SEC_', 'SR_', 'FSRA_', 'F_', 'URHPRO',\n",
       "        'NNS', 'SRA_', 'SRC', '_FSRA', 'AC_', 'NRA', 'SPAC_', 'PAC_', 'FSAU_',\n",
       "        'FSRPAC_', 'URO', 'FRPAC_', 'RC_', 'URNPRO', 'FSPAC_', 'URF', 'FPAC_',\n",
       "        'FSR_', '_FSPAC', 'FSPAEC_', 'FAU_', 'MAS', 'TST', 'IRR', 'RTS', 'RTA',\n",
       "        'IRQ', 'UNK', 'MSR', 'TSR', 'SEC', 'ROB', 'MRQ', 'IAH', 'DNQ', 'PTB',\n",
       "        'PAR', 'WAY', 'PHO', '___', 'AHA', 'NRS', 'MHR', 'UR', 'NNA', 'MRP',\n",
       "        'TRC', 'DCE', 'SKP', 'DNP', 'URPRE', 'URS', 'URNU', 'URCUT', 'URISO',\n",
       "        'URHTOS', 'URHU', 'FRAC_', 'SRC_', 'RPA_FRPA'],\n",
       "       dtype='object')}"
      ]
     },
     "execution_count": 6,
     "metadata": {},
     "output_type": "execute_result"
    }
   ],
   "source": [
    "# Storing the mapping used for the conversion, in case we want to revert back \n",
    "label_mapping = {}\n",
    "\n",
    "# Convert currency code in order to 'amount' in a single code\n",
    "\n",
    "# Convert all the rest columns which are of type 'object'\n",
    "char_cols = ['Prot', 'Flags']\n",
    "print(char_cols)\n",
    "\n",
    "for c in char_cols:\n",
    "    data[c], label_mapping[c] = pd.factorize(data[c])\n",
    "\n",
    "# Uncomment this line, if you want to see the mapppings for the conversion\n",
    "label_mapping"
   ]
  },
  {
   "cell_type": "markdown",
   "metadata": {},
   "source": [
    "Initially drop all background flows. Then two dataframes are extracted, `data_infected` where the `Src_IP_Addr` or `Dst_IP_Addr` is equal to the first infected host (147.32.84.165). On the other hand, `data_clean` corresponds to flows where a normal host appears in either `Src_IP_Addr` or the `Dst_IP_Addr` and no infected host appears in the other end."
   ]
  },
  {
   "cell_type": "code",
   "execution_count": 7,
   "metadata": {},
   "outputs": [
    {
     "name": "stderr",
     "output_type": "stream",
     "text": [
      "/home/ilele/.conda/envs/cda/lib/python3.7/site-packages/ipykernel_launcher.py:3: SettingWithCopyWarning: \n",
      "A value is trying to be set on a copy of a slice from a DataFrame.\n",
      "Try using .loc[row_indexer,col_indexer] = value instead\n",
      "\n",
      "See the caveats in the documentation: http://pandas.pydata.org/pandas-docs/stable/indexing.html#indexing-view-versus-copy\n",
      "  This is separate from the ipykernel package so we can avoid doing imports until\n"
     ]
    },
    {
     "name": "stdout",
     "output_type": "stream",
     "text": [
      "Number of infected Netflows:  29526\n",
      "Number of non-infected Netflows:  43510\n"
     ]
    }
   ],
   "source": [
    "data_nobground = data[data['Label']!= 'Background']\n",
    "\n",
    "data_nobground['Infected'] = np.logical_or(data_nobground['Src_IP_Addr']==infected_hosts[0], data_nobground['Dst_IP_Addr']==infected_hosts[0])\n",
    "data_infected = data_nobground[data_nobground['Infected']==1]\n",
    "data_infected.dtypes\n",
    "\n",
    "data_clean = data_nobground[np.logical_and(np.isin(data_nobground['Src_IP_Addr'], infected_hosts, invert=True), np.isin(data_nobground['Dst_IP_Addr'], infected_hosts, invert=True))]\n",
    "data_clean = data_clean[np.logical_or(np.isin(data_clean['Src_IP_Addr'], normal_hosts), np.isin(data_clean['Dst_IP_Addr'], normal_hosts))]\n",
    "\n",
    "print(\"Number of infected Netflows: \", len(data_infected))\n",
    "print(\"Number of non-infected Netflows: \", len(data_clean))"
   ]
  },
  {
   "cell_type": "markdown",
   "metadata": {},
   "source": [
    "## Evaluating representativeness of features"
   ]
  },
  {
   "cell_type": "markdown",
   "metadata": {},
   "source": [
    "First evaluate mean values and corresponding standard deviations for the various features for `data_infected` and `data_clean`."
   ]
  },
  {
   "cell_type": "code",
   "execution_count": 8,
   "metadata": {},
   "outputs": [],
   "source": [
    "cols = ['Durat', 'Prot', 'Flags', 'Tos', 'Flows', 'Packets', 'Bytes']\n",
    "\n",
    "mean_infected = np.mean(data_infected[cols].values, axis=0)\n",
    "std_infected = np.std(data_infected[cols].values, axis=0)\n",
    "\n",
    "mean_clean = np.mean(data_clean[cols].values, axis=0)\n",
    "std_clean = np.std(data_clean[cols].values, axis=0)"
   ]
  },
  {
   "cell_type": "markdown",
   "metadata": {},
   "source": [
    "Features `Tos` and `Flows` show no variance (they also have the same values for the two classes), hence they will not be considered further henceforth."
   ]
  },
  {
   "cell_type": "code",
   "execution_count": 9,
   "metadata": {},
   "outputs": [
    {
     "name": "stdout",
     "output_type": "stream",
     "text": [
      "Mean infected:  [6.08945201e-01 1.93205988e+00 3.70170020e+01 0.00000000e+00\n",
      " 1.00000000e+00 1.20380343e+01 1.09386793e+04]\n",
      "Mean clean:  [3.06241186e-01 2.54033556e-01 5.24058837e+00 0.00000000e+00\n",
      " 1.00000000e+00 5.93966904e+00 1.02202052e+03]\n",
      "Std infected:  [1.47541145e+00 3.45067729e-01 2.10488166e+01 0.00000000e+00\n",
      " 0.00000000e+00 8.42916358e+01 6.97088738e+04]\n",
      "Std clean: [9.50754774e-01 4.71460055e-01 5.78795125e+00 0.00000000e+00\n",
      " 0.00000000e+00 8.28331328e+01 9.44530142e+03]\n"
     ]
    }
   ],
   "source": [
    "print(\"Mean infected: \", mean_infected)\n",
    "print(\"Mean clean: \", mean_clean)\n",
    "\n",
    "print(\"Std infected: \", std_infected)\n",
    "print(\"Std clean:\", std_clean)"
   ]
  },
  {
   "cell_type": "markdown",
   "metadata": {},
   "source": [
    "2 subplots have been used due to different scale of features. Features `Prot`, `Flags`,`Packets` and `Bytes` seem to be good choices; `Bytes` is not presented in this plot as its scale supress the other features, but is going to be presented in the next plot. "
   ]
  },
  {
   "cell_type": "code",
   "execution_count": 11,
   "metadata": {},
   "outputs": [
    {
     "data": {
      "text/plain": [
       "<matplotlib.legend.Legend at 0x7feaac0b3c50>"
      ]
     },
     "execution_count": 11,
     "metadata": {},
     "output_type": "execute_result"
    },
    {
     "data": {
      "image/png": "[encoded data removed]",
      "text/plain": [
       "<Figure size 1080x720 with 2 Axes>"
      ]
     },
     "metadata": {
      "needs_background": "light"
     },
     "output_type": "display_data"
    }
   ],
   "source": [
    "from matplotlib import pyplot as plt\n",
    "\n",
    "f, ax = plt.subplots(nrows=2, ncols=1, figsize=(15,10))\n",
    "\n",
    "ax[0].plot(mean_infected[:-3], color='r', marker='o', label='infected')\n",
    "ax[0].fill_between(range(len(mean_infected[:-3])), mean_infected[:-3]-std_infected[:-3], \n",
    "                 mean_infected[:-3]+std_infected[:-3], color='r', alpha=0.2)\n",
    "\n",
    "ax[0].plot(mean_clean[:-3], color='g', marker='o', label='clean')\n",
    "ax[0].fill_between(range(len(mean_clean[:-3])), mean_clean[:-3]-std_clean[:-3], \n",
    "                 mean_clean[:-3]+std_clean[:-3], color='g', alpha=0.2)\n",
    "\n",
    "ax[0].set_xticks(range(len(cols[:-3]))) \n",
    "ax[0].set_xticklabels(cols[:-3], fontsize=12)\n",
    "ax[0].set_ylabel('Mean value')\n",
    "ax[0].legend()\n",
    "\n",
    "ax[1].plot(mean_infected[-3:-1], color='r', marker='o', label='infected')\n",
    "ax[1].fill_between(range(len(mean_infected[-3:-1])), mean_infected[-3:-1]-std_infected[-3:-1], \n",
    "                 mean_infected[-3:-1]+std_infected[-3:-1], color='r', alpha=0.2)\n",
    "\n",
    "ax[1].plot(mean_clean[-3:-1], color='g', marker='o', label='clean')\n",
    "ax[1].fill_between(range(len(mean_clean[-3:-1])), mean_clean[-3:-1]-std_clean[-3:-1], \n",
    "                 mean_clean[-3:-1]+std_clean[-3:-1], color='g', alpha=0.2)\n",
    "\n",
    "ax[1].set_xticks(range(len(cols[-3:-1]))) \n",
    "ax[1].set_xticklabels(cols[-3:-1], fontsize=12)\n",
    "ax[1].set_ylabel('Mean value')\n",
    "ax[1].legend()"
   ]
  },
  {
   "cell_type": "code",
   "execution_count": 12,
   "metadata": {},
   "outputs": [
    {
     "data": {
      "text/plain": [
       "Text(0, 0.5, 'Mean value')"
      ]
     },
     "execution_count": 12,
     "metadata": {},
     "output_type": "execute_result"
    },
    {
     "data": {
      "image/png": "[encoded data removed]",
      "text/plain": [
       "<Figure size 1080x720 with 2 Axes>"
      ]
     },
     "metadata": {
      "needs_background": "light"
     },
     "output_type": "display_data"
    }
   ],
   "source": [
    "n = len(cols)\n",
    "\n",
    "f, ax = plt.subplots(nrows=2, ncols=1, figsize=(15,10))\n",
    "\n",
    "ax[0].bar(np.subtract(range(n-3), 0.15), height=mean_infected[:-3], yerr=std_infected[:-3],\n",
    "          width=0.3, color='r', label='infected')\n",
    "ax[0].bar(np.add(range(n-3), 0.15), height=mean_clean[:-3], yerr=std_clean[:-3], \n",
    "          width=0.3, color='g', label='clean')\n",
    "ax[0].legend()\n",
    "ax[0].set_xticks(range(len(cols[:-3]))) \n",
    "ax[0].set_xticklabels(cols[:-3], fontsize=12)\n",
    "ax[0].set_ylabel('Mean value')\n",
    "\n",
    "ax[1].bar(np.subtract(range(3), 0.15), height=mean_infected[-3:], yerr=std_infected[-3:],\n",
    "          width=0.3, color='r', label='infected')\n",
    "ax[1].bar(np.add(range(3), 0.15), height=mean_clean[-3:], yerr=std_clean[-3:], \n",
    "          width=0.3, color='g', label='clean')\n",
    "ax[1].legend()\n",
    "ax[1].set_xticks(range(3)) \n",
    "ax[1].set_xticklabels(cols[-3:], fontsize=12)\n",
    "ax[1].set_ylabel('Mean value')"
   ]
  },
  {
   "cell_type": "markdown",
   "metadata": {},
   "source": [
    "Feature `Prot` is going to be our first choice. The following figure demonstrates the distribution of the protocol feature `Prot` regarding `infected_data` and `clean_data`. Clearly the majority of 'infected' flows correspond to the *'ICMP'* protocol, whereas the *'TCP'* protocol is by far the most frequent one in clean flows. Hence, `Prot` will definitely be one of the two features we will utilise further."
   ]
  },
  {
   "cell_type": "code",
   "execution_count": 13,
   "metadata": {},
   "outputs": [
    {
     "data": {
      "text/plain": [
       "Text(0.5, 1.0, 'Clean')"
      ]
     },
     "execution_count": 13,
     "metadata": {},
     "output_type": "execute_result"
    },
    {
     "data": {
      "image/png": "[encoded data removed]",
      "text/plain": [
       "<Figure size 1080x504 with 2 Axes>"
      ]
     },
     "metadata": {
      "needs_background": "light"
     },
     "output_type": "display_data"
    }
   ],
   "source": [
    "import seaborn as sns\n",
    "\n",
    "f, ax = plt.subplots(nrows=1, ncols=2, figsize=(15,7))\n",
    "cols = list(label_mapping['Prot'])[:3]\n",
    "\n",
    "inf_prot = data_infected['Prot'].value_counts()\n",
    "clean_prot = data_clean['Prot'].value_counts()\n",
    "\n",
    "# plt.title('Chargeback transactions vs Settled')\n",
    "sns.barplot(x=inf_prot.index, y=inf_prot, ax=ax[0])\n",
    "sns.barplot(x=clean_prot.index, y=clean_prot, ax=ax[1])\n",
    "\n",
    "ax[0].set_xticks(range(3)) \n",
    "ax[0].set_xticklabels(cols, fontsize=12)\n",
    "ax[0].set_ylabel('Count')\n",
    "ax[0].set_title('Infected')\n",
    "\n",
    "ax[1].set_xticks(range(3)) \n",
    "ax[1].set_xticklabels(cols, fontsize=12)\n",
    "ax[1].set_ylabel('Count')\n",
    "ax[1].set_title('Clean')"
   ]
  },
  {
   "cell_type": "markdown",
   "metadata": {},
   "source": [
    "Combined visualization for two features [`Prot`, `Packets`], [`Prot`, `Bytes`] and [`Prot`, Flags]. Results are quite good for all these combinations, so we need another way to choose the best two features."
   ]
  },
  {
   "cell_type": "code",
   "execution_count": 14,
   "metadata": {},
   "outputs": [
    {
     "data": {
      "text/plain": [
       "<matplotlib.legend.Legend at 0x7feab1588d68>"
      ]
     },
     "execution_count": 14,
     "metadata": {},
     "output_type": "execute_result"
    },
    {
     "data": {
      "image/png": "[encoded data removed]",
      "text/plain": [
       "<Figure size 720x720 with 1 Axes>"
      ]
     },
     "metadata": {
      "needs_background": "light"
     },
     "output_type": "display_data"
    }
   ],
   "source": [
    "plt.figure(figsize=(10,10))\n",
    "plt.scatter(data_clean['Prot'].values-0.01, data_clean['Packets'].values, color='g', label='clean')\n",
    "plt.scatter(data_infected['Prot'].values+0.01, data_infected['Packets'].values, color='r', label='infected')\n",
    "plt.xlabel('Prot')\n",
    "plt.ylabel('Packets')\n",
    "plt.xticks(range(3), ['TCP', 'UDP', 'ICMP'])\n",
    "plt.legend()"
   ]
  },
  {
   "cell_type": "code",
   "execution_count": 15,
   "metadata": {},
   "outputs": [
    {
     "data": {
      "text/plain": [
       "<matplotlib.legend.Legend at 0x7feabec89be0>"
      ]
     },
     "execution_count": 15,
     "metadata": {},
     "output_type": "execute_result"
    },
    {
     "data": {
      "image/png": "[encoded data removed]",
      "text/plain": [
       "<Figure size 720x720 with 1 Axes>"
      ]
     },
     "metadata": {
      "needs_background": "light"
     },
     "output_type": "display_data"
    }
   ],
   "source": [
    "plt.figure(figsize=(10,10))\n",
    "plt.scatter(data_clean['Prot'].values-0.01, data_clean['Bytes'].values, color='g', label='clean')\n",
    "plt.scatter(data_infected['Prot'].values+0.01, data_infected['Bytes'].values, color='r', label='infected')\n",
    "plt.xlabel('Prot')\n",
    "plt.ylabel('Bytes')\n",
    "plt.xticks(range(3), ['TCP', 'UDP', 'ICMP'])\n",
    "plt.legend()"
   ]
  },
  {
   "cell_type": "code",
   "execution_count": 16,
   "metadata": {},
   "outputs": [
    {
     "data": {
      "text/plain": [
       "<matplotlib.legend.Legend at 0x7fea6e174cc0>"
      ]
     },
     "execution_count": 16,
     "metadata": {},
     "output_type": "execute_result"
    },
    {
     "data": {
      "image/png": "[encoded data removed]",
      "text/plain": [
       "<Figure size 720x720 with 1 Axes>"
      ]
     },
     "metadata": {
      "needs_background": "light"
     },
     "output_type": "display_data"
    }
   ],
   "source": [
    "plt.figure(figsize=(10,10))\n",
    "plt.scatter(data_clean['Prot'].values-0.01, data_clean['Flags'].values, color='g', label='clean')\n",
    "plt.scatter(data_infected['Prot'].values+0.01, data_infected['Flags'].values, color='r', label='infected')\n",
    "plt.xlabel('Prot')\n",
    "plt.ylabel('Flags')\n",
    "plt.xticks(range(3), ['TCP', 'UDP', 'ICMP'])\n",
    "plt.legend()"
   ]
  },
  {
   "cell_type": "markdown",
   "metadata": {},
   "source": [
    "To make our final choice we utilized silhouette scores, in order to detect the set of two features yielding the most separable clusters for classes `Infected` and `Normal`. For further info please refer to https://scikit-learn.org/stable/modules/generated/sklearn.metrics.silhouette_score.html. **NOTE**: this method takes quite some time to run (roughly 10 mins), thus we do save and provide the results in a dictionary.\n",
    "\n",
    "For this approach to be utilized feature scaling is applied. Scaling is essential for applying the clustering step of the method."
   ]
  },
  {
   "cell_type": "code",
   "execution_count": 17,
   "metadata": {},
   "outputs": [],
   "source": [
    "from sklearn.preprocessing import StandardScaler\n",
    "from sklearn.metrics import silhouette_score\n",
    "\n",
    "cols = ['Durat', 'Prot', 'Flags', 'Packets', 'Bytes']\n",
    "n = len(cols)\n",
    "values_infected = data_infected[cols].values\n",
    "values_clean = data_clean[cols].values\n",
    "\n",
    "ss = StandardScaler()\n",
    "X = np.append(values_infected, values_clean, axis=0)\n",
    "X = ss.fit_transform(X)\n",
    "\n",
    "data_infected_norm = data_infected.copy()\n",
    "data_clean_norm = data_clean.copy()\n",
    "\n",
    "data_infected_norm[cols] = X[:len(values_infected), :]\n",
    "data_clean_norm[cols] = X[len(values_infected):, :]\n",
    "\n",
    "\n",
    "labels = np.append(np.ones(len(values_infected), dtype=int), np.zeros(len(data_clean), dtype=int), axis=0)\n",
    "\n",
    "# Uncomment if you want to run silhouette scores\n",
    "# sil = {}\n",
    "# for i in range(n):\n",
    "#     for j in range(i+1, n):\n",
    "#         s = silhouette_score(X[:, [i,j]], labels)\n",
    "#         sil[f'{cols[i]}-{cols[j]}'] = s"
   ]
  },
  {
   "cell_type": "markdown",
   "metadata": {},
   "source": [
    "Store and print results.\n",
    "\n",
    "Silhouette scores are in range [-1, 1], with a zero score indicating complete overlap of clusters. A score of -1 siggests samples assigned to the wrong cluster and finally a score of 1 is the perfect score, revealing totally separable clusters. Hence, we look for the highest score here."
   ]
  },
  {
   "cell_type": "code",
   "execution_count": 18,
   "metadata": {},
   "outputs": [
    {
     "name": "stdout",
     "output_type": "stream",
     "text": [
      "{'Durat-Prot': 0.5970932734812077, 'Durat-Flags': 0.4056669343658516, 'Durat-Packets': 0.09614643220944022, 'Durat-Bytes': 0.12430163962950921, 'Prot-Flags': 0.6494916693381535, 'Prot-Packets': 0.739340555879058, 'Prot-Bytes': 0.7369597437793928, 'Flags-Packets': 0.5021040832367231, 'Flags-Bytes': 0.4960996545040146, 'Packets-Bytes': 0.1691410539848547}\n"
     ]
    }
   ],
   "source": [
    "import json\n",
    "\n",
    "with open('./data/silhouette_scores.json', 'w') as f:\n",
    "    json.dump(sil, f)\n",
    "\n",
    "print(sil)"
   ]
  },
  {
   "cell_type": "markdown",
   "metadata": {},
   "source": [
    "So a verdict has been reached. The two features we will use are `Prot` and `Packets`!"
   ]
  },
  {
   "cell_type": "code",
   "execution_count": 19,
   "metadata": {},
   "outputs": [
    {
     "name": "stdout",
     "output_type": "stream",
     "text": [
      "Max: 0.739340555879058, for Prot-Packets\n"
     ]
    }
   ],
   "source": [
    "with open('./data/silhouette_scores.json') as f:\n",
    "    sil = json.load(f)\n",
    "\n",
    "scores= list(sil.values())\n",
    "max_ind = np.argmax(scores)\n",
    "print(f'Max: {scores[max_ind]}, for {list(sil.keys())[max_ind]}')"
   ]
  },
  {
   "cell_type": "markdown",
   "metadata": {},
   "source": [
    "### Discretization\n",
    "For discretizing the feature `Packets` we made use of clustering and the elbow method. The elbow reveals the number of clusters to be utilized, where a big change occurs in the inertia (sum of squared distances). Since a single feature is considered, scaling is not necessary.\n",
    "\n",
    "From the following plot, clearly the number of clusters should be 2 or 3. Actually, setting the number of clusters to 3 does not have an actual impact to the subsequent ordinal discretization (ordinal values are 1 and [1,1] for 2 and 3 clusters respectively). Hence, we will set the number of clusters to 2."
   ]
  },
  {
   "cell_type": "code",
   "execution_count": 17,
   "metadata": {},
   "outputs": [
    {
     "data": {
      "text/plain": [
       "Text(0, 0.5, 'Sum of squared distances')"
      ]
     },
     "execution_count": 17,
     "metadata": {},
     "output_type": "execute_result"
    },
    {
     "data": {
      "image/png": "[encoded data removed]",
      "text/plain": [
       "<Figure size 720x720 with 1 Axes>"
      ]
     },
     "metadata": {
      "needs_background": "light"
     },
     "output_type": "display_data"
    }
   ],
   "source": [
    "from sklearn.cluster import KMeans\n",
    "from sklearn.preprocessing import StandardScaler\n",
    "from matplotlib import pyplot as plt\n",
    "\n",
    "num_clusters = np.arange(1,10, dtype=int)\n",
    "val = data_nobground['Packets'].values\n",
    "\n",
    "inertia = []\n",
    "for n in num_clusters:\n",
    "    km = KMeans(n, n_jobs=-1)\n",
    "    km.fit(val[...,np.newaxis])\n",
    "    inertia.append(km.inertia_)\n",
    "\n",
    "plt.figure(figsize=(10,10))\n",
    "plt.plot(num_clusters, inertia)\n",
    "plt.xlabel('Number of clusters')\n",
    "plt.ylabel('Sum of squared distances')"
   ]
  },
  {
   "cell_type": "markdown",
   "metadata": {},
   "source": [
    "Discretize packets and add the new feature `Disc_Packets` to the dataframe. Ordinal discretization is performed as in https://ieeexplore.ieee.org/abstract/document/7987293.\n",
    "\n",
    "For further info on the used helper functions, please refer to `helper_functions/flow_data_discretization.py`."
   ]
  },
  {
   "cell_type": "code",
   "execution_count": 18,
   "metadata": {},
   "outputs": [
    {
     "name": "stderr",
     "output_type": "stream",
     "text": [
      "/home/ilele/.conda/envs/cda/lib/python3.7/site-packages/ipykernel_launcher.py:2: SettingWithCopyWarning: \n",
      "A value is trying to be set on a copy of a slice from a DataFrame.\n",
      "Try using .loc[row_indexer,col_indexer] = value instead\n",
      "\n",
      "See the caveats in the documentation: http://pandas.pydata.org/pandas-docs/stable/indexing.html#indexing-view-versus-copy\n",
      "  \n"
     ]
    }
   ],
   "source": [
    "pack_disc = discretize_ordinal(val, 2)\n",
    "data_nobground['Disc_Packets'] = pack_disc"
   ]
  },
  {
   "cell_type": "markdown",
   "metadata": {},
   "source": [
    "Using the features `Prot` and `Disc_Packets` we next extract the respective code values as done in https://ieeexplore.ieee.org/abstract/document/7987293, for data from the first infected and normal host. We will look into for potential differences in the extracted codes."
   ]
  },
  {
   "cell_type": "code",
   "execution_count": 19,
   "metadata": {},
   "outputs": [],
   "source": [
    "feat = ['Prot', 'Disc_Packets']\n",
    "\n",
    "infected_data = data_nobground[np.logical_or(data_nobground['Src_IP_Addr']==infected_hosts[0], data_nobground['Dst_IP_Addr']==infected_hosts[0])]\n",
    "infected_data = infected_data[feat].values\n",
    "infected_code, _ = extract_code(infected_data)\n",
    "\n",
    "clean_data = data_nobground[np.logical_or(data_nobground['Src_IP_Addr']==normal_hosts[0], data_nobground['Dst_IP_Addr']==normal_hosts[0])][feat].values\n",
    "test_code,_ = extract_code(clean_data)"
   ]
  },
  {
   "cell_type": "markdown",
   "metadata": {},
   "source": [
    "As seen in the following plot malicious-infected data yield higher code values, hence this could be exploited for classifying unseen host data as malicious or normal. This is part of the following, Botnet profiling task."
   ]
  },
  {
   "cell_type": "code",
   "execution_count": 20,
   "metadata": {},
   "outputs": [
    {
     "data": {
      "text/plain": [
       "Text(0, 0.5, 'Extracted code')"
      ]
     },
     "execution_count": 20,
     "metadata": {},
     "output_type": "execute_result"
    },
    {
     "data": {
      "image/png": "[encoded data removed]",
      "text/plain": [
       "<Figure size 1440x720 with 1 Axes>"
      ]
     },
     "metadata": {
      "needs_background": "light"
     },
     "output_type": "display_data"
    }
   ],
   "source": [
    "plt.figure(figsize=(20,10))\n",
    "plt.plot(infected_code, color='r', label='infected')\n",
    "plt.plot(test_code, color='g', label='clean')\n",
    "plt.legend()\n",
    "plt.xlabel(\"Index\")\n",
    "plt.ylabel(\"Extracted code\")"
   ]
  },
  {
   "cell_type": "code",
   "execution_count": null,
   "metadata": {},
   "outputs": [],
   "source": []
  }
 ],
 "metadata": {
  "kernelspec": {
   "display_name": "Cyber Data Analytics",
   "language": "python",
   "name": "cda"
  },
  "language_info": {
   "codemirror_mode": {
    "name": "ipython",
    "version": 3
   },
   "file_extension": ".py",
   "mimetype": "text/x-python",
   "name": "python",
   "nbconvert_exporter": "python",
   "pygments_lexer": "ipython3",
   "version": "3.7.3"
  }
 },
 "nbformat": 4,
 "nbformat_minor": 2
}
