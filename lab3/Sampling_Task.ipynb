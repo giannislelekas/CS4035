{
 "cells": [
  {
   "cell_type": "markdown",
   "metadata": {},
   "source": [
    "For this task we used CTU scenario 43 (https://mcfp.felk.cvut.cz/publicDatasets/CTU-Malware-Capture-Botnet-43/)"
   ]
  },
  {
   "cell_type": "code",
   "execution_count": 1,
   "metadata": {
    "scrolled": true
   },
   "outputs": [],
   "source": [
    "import pandas as pd \n",
    "import matplotlib.pyplot as plt \n",
    "import numpy as np\n",
    "import time\n",
    "from helper_functions.sampling import *\n",
    "\n",
    "df = pd.read_csv('./data/capture20110811.pcap.netflow.labeled', sep ='\\s+')\n",
    "df.head()\n",
    "\n",
    "infected_host = '147.32.84.165'"
   ]
  },
  {
   "cell_type": "markdown",
   "metadata": {},
   "source": [
    "Some preprocessing; separating features `Src_IP_Addr:Port` and `Dst_IP_Addr:Port` into separate features for tuilized IP addresses and ports. Additioanally, discarding of some not-used features (e.g. `->` is discarded as we only considering unidirectional netflows)."
   ]
  },
  {
   "cell_type": "code",
   "execution_count": 2,
   "metadata": {},
   "outputs": [
    {
     "data": {
      "text/html": [
       "<div>\n",
       "<style scoped>\n",
       "    .dataframe tbody tr th:only-of-type {\n",
       "        vertical-align: middle;\n",
       "    }\n",
       "\n",
       "    .dataframe tbody tr th {\n",
       "        vertical-align: top;\n",
       "    }\n",
       "\n",
       "    .dataframe thead th {\n",
       "        text-align: right;\n",
       "    }\n",
       "</style>\n",
       "<table border=\"1\" class=\"dataframe\">\n",
       "  <thead>\n",
       "    <tr style=\"text-align: right;\">\n",
       "      <th></th>\n",
       "      <th>#Date_flow</th>\n",
       "      <th>start</th>\n",
       "      <th>Durat</th>\n",
       "      <th>Prot</th>\n",
       "      <th>Flags</th>\n",
       "      <th>Tos</th>\n",
       "      <th>Packets</th>\n",
       "      <th>Bytes</th>\n",
       "      <th>Flows</th>\n",
       "      <th>Src_IP_Addr</th>\n",
       "      <th>Src_Port</th>\n",
       "      <th>Dst_IP_Addr</th>\n",
       "      <th>Dst_Port</th>\n",
       "      <th>Label</th>\n",
       "    </tr>\n",
       "  </thead>\n",
       "  <tbody>\n",
       "    <tr>\n",
       "      <th>0</th>\n",
       "      <td>2011-08-11</td>\n",
       "      <td>10:10:00.003</td>\n",
       "      <td>0.967</td>\n",
       "      <td>UDP</td>\n",
       "      <td>INT</td>\n",
       "      <td>0</td>\n",
       "      <td>2</td>\n",
       "      <td>135</td>\n",
       "      <td>1</td>\n",
       "      <td>89.31.8.11</td>\n",
       "      <td>23929</td>\n",
       "      <td>147.32.84.229</td>\n",
       "      <td>13363</td>\n",
       "      <td>Background</td>\n",
       "    </tr>\n",
       "    <tr>\n",
       "      <th>1</th>\n",
       "      <td>2011-08-11</td>\n",
       "      <td>10:10:00.003</td>\n",
       "      <td>0.967</td>\n",
       "      <td>UDP</td>\n",
       "      <td>INT</td>\n",
       "      <td>0</td>\n",
       "      <td>2</td>\n",
       "      <td>276</td>\n",
       "      <td>1</td>\n",
       "      <td>147.32.84.229</td>\n",
       "      <td>13363</td>\n",
       "      <td>89.31.8.11</td>\n",
       "      <td>23929</td>\n",
       "      <td>Background</td>\n",
       "    </tr>\n",
       "    <tr>\n",
       "      <th>2</th>\n",
       "      <td>2011-08-11</td>\n",
       "      <td>10:10:00.006</td>\n",
       "      <td>0.000</td>\n",
       "      <td>UDP</td>\n",
       "      <td>INT</td>\n",
       "      <td>0</td>\n",
       "      <td>1</td>\n",
       "      <td>62</td>\n",
       "      <td>1</td>\n",
       "      <td>208.88.186.6</td>\n",
       "      <td>34042</td>\n",
       "      <td>147.32.84.229</td>\n",
       "      <td>13363</td>\n",
       "      <td>Background</td>\n",
       "    </tr>\n",
       "    <tr>\n",
       "      <th>3</th>\n",
       "      <td>2011-08-11</td>\n",
       "      <td>10:10:00.008</td>\n",
       "      <td>0.000</td>\n",
       "      <td>UDP</td>\n",
       "      <td>INT</td>\n",
       "      <td>0</td>\n",
       "      <td>1</td>\n",
       "      <td>78</td>\n",
       "      <td>1</td>\n",
       "      <td>92.118.218.77</td>\n",
       "      <td>55246</td>\n",
       "      <td>147.32.84.229</td>\n",
       "      <td>13363</td>\n",
       "      <td>Background</td>\n",
       "    </tr>\n",
       "    <tr>\n",
       "      <th>4</th>\n",
       "      <td>2011-08-11</td>\n",
       "      <td>10:10:00.009</td>\n",
       "      <td>0.000</td>\n",
       "      <td>UDP</td>\n",
       "      <td>INT</td>\n",
       "      <td>0</td>\n",
       "      <td>1</td>\n",
       "      <td>72</td>\n",
       "      <td>1</td>\n",
       "      <td>182.185.139.181</td>\n",
       "      <td>10223</td>\n",
       "      <td>147.32.84.229</td>\n",
       "      <td>13363</td>\n",
       "      <td>Background</td>\n",
       "    </tr>\n",
       "  </tbody>\n",
       "</table>\n",
       "</div>"
      ],
      "text/plain": [
       "   #Date_flow         start  Durat Prot Flags  Tos  Packets  Bytes  Flows  \\\n",
       "0  2011-08-11  10:10:00.003  0.967  UDP   INT    0        2    135      1   \n",
       "1  2011-08-11  10:10:00.003  0.967  UDP   INT    0        2    276      1   \n",
       "2  2011-08-11  10:10:00.006  0.000  UDP   INT    0        1     62      1   \n",
       "3  2011-08-11  10:10:00.008  0.000  UDP   INT    0        1     78      1   \n",
       "4  2011-08-11  10:10:00.009  0.000  UDP   INT    0        1     72      1   \n",
       "\n",
       "       Src_IP_Addr Src_Port    Dst_IP_Addr Dst_Port       Label  \n",
       "0       89.31.8.11    23929  147.32.84.229    13363  Background  \n",
       "1    147.32.84.229    13363     89.31.8.11    23929  Background  \n",
       "2     208.88.186.6    34042  147.32.84.229    13363  Background  \n",
       "3    92.118.218.77    55246  147.32.84.229    13363  Background  \n",
       "4  182.185.139.181    10223  147.32.84.229    13363  Background  "
      ]
     },
     "execution_count": 2,
     "metadata": {},
     "output_type": "execute_result"
    }
   ],
   "source": [
    "df[['Src_IP_Addr', 'Src_Port']] = df['Src_IP_Addr:Port'].str.split(':', n=1, expand=True)\n",
    "df[['Dst_IP_Addr', 'Dst_Port']] = df['Dst_IP_Addr:Port'].str.split(':', n=1, expand=True)\n",
    "\n",
    "df['Label'] = df['Label(LEGITIMATE:Botnet:Background)']\n",
    "\n",
    "df = df.drop(labels=['->', 'Label(LEGITIMATE:Botnet:Background)', 'Src_IP_Addr:Port', 'Dst_IP_Addr:Port'], axis=1)\n",
    "\n",
    "df.head()"
   ]
  },
  {
   "cell_type": "markdown",
   "metadata": {},
   "source": [
    "The infected host documented in the dataset (https://mcfp.felk.cvut.cz/publicDatasets/CTU-Malware-Capture-Botnet-43/) is 147.32.84.165. We want now to examine the hosts, that host connects with; we are thus going to consider netflows where this host appears either as source or destination."
   ]
  },
  {
   "cell_type": "code",
   "execution_count": 3,
   "metadata": {},
   "outputs": [
    {
     "data": {
      "text/plain": [
       "IP_Addr\n",
       "193.23.181.44      0.118347\n",
       "174.128.246.102    0.075340\n",
       "174.37.196.55      0.068102\n",
       "173.236.31.226     0.062646\n",
       "184.154.89.154     0.061433\n",
       "67.19.72.206       0.059229\n",
       "46.4.36.120        0.057869\n",
       "72.20.15.61        0.057153\n",
       "147.32.80.9        0.028898\n",
       "212.117.171.138    0.017765\n",
       "dtype: float64"
      ]
     },
     "execution_count": 3,
     "metadata": {},
     "output_type": "execute_result"
    }
   ],
   "source": [
    "comm_hosts = []\n",
    "\n",
    "hosts = df[df['Src_IP_Addr']==infected_host]['Dst_IP_Addr'].values\n",
    "comm_hosts.append(hosts)\n",
    "\n",
    "hosts = df[df['Dst_IP_Addr']==infected_host]['Src_IP_Addr'].values\n",
    "comm_hosts.append(hosts)\n",
    "comm_hosts = [x for sublist in comm_hosts for x in sublist]\n",
    "total_count = len(comm_hosts)\n",
    "\n",
    "ground_truth = pd.DataFrame(comm_hosts, columns=['IP_Addr'])\n",
    "ground_truth = ground_truth.groupby('IP_Addr').size()\n",
    "ground_truth = ground_truth/total_count\n",
    "ground_truth = ground_truth.sort_values(ascending=False)\n",
    "unique_comm_hosts = np.array(ground_truth.index)\n",
    "\n",
    "ground_truth.head(10)"
   ]
  },
  {
   "cell_type": "markdown",
   "metadata": {},
   "source": [
    "Here we have an \"interactive visualizer\". You can adjust `topN` and the counts of the topN most frequent hosts will be visualized. Here we present the distribution for `topN=10`."
   ]
  },
  {
   "cell_type": "code",
   "execution_count": 4,
   "metadata": {},
   "outputs": [
    {
     "data": {
      "text/plain": [
       "Text(0, 0.5, 'Frequency')"
      ]
     },
     "execution_count": 4,
     "metadata": {},
     "output_type": "execute_result"
    },
    {
     "data": {
      "image/png": "[encoded data removed]",
      "text/plain": [
       "<Figure size 1080x504 with 1 Axes>"
      ]
     },
     "metadata": {
      "needs_background": "light"
     },
     "output_type": "display_data"
    }
   ],
   "source": [
    "import seaborn as sns\n",
    "\n",
    "topN=10\n",
    "\n",
    "plt.figure(figsize=(15,7))\n",
    "plt.bar(range(topN), ground_truth.head(topN).values)\n",
    "plt.xticks(range(topN), ground_truth.head(topN).index, rotation=45)\n",
    "\n",
    "plt.xlabel('Host')\n",
    "plt.ylabel('Frequency')"
   ]
  },
  {
   "cell_type": "code",
   "execution_count": 12,
   "metadata": {
    "scrolled": false
   },
   "outputs": [
    {
     "data": {
      "text/plain": [
       "IP_Addr\n",
       "193.23.181.44      6442\n",
       "174.128.246.102    4101\n",
       "174.37.196.55      3707\n",
       "173.236.31.226     3410\n",
       "184.154.89.154     3344\n",
       "67.19.72.206       3224\n",
       "46.4.36.120        3150\n",
       "72.20.15.61        3111\n",
       "147.32.80.9        1573\n",
       "212.117.171.138     967\n",
       "dtype: int64"
      ]
     },
     "execution_count": 12,
     "metadata": {},
     "output_type": "execute_result"
    }
   ],
   "source": [
    "df_r = sample(comm_hosts, 10000000)\n",
    "df_r = pd.DataFrame(data=df_r, columns=['IP_Addr']).groupby('IP_Addr').size()\n",
    "df_r = df_r.sort_values(ascending=False)\n",
    "df_r.head(10)"
   ]
  },
  {
   "cell_type": "code",
   "execution_count": 15,
   "metadata": {},
   "outputs": [
    {
     "data": {
      "text/plain": [
       "IP_Addr\n",
       "193.23.181.44      6442\n",
       "174.128.246.102    4101\n",
       "174.37.196.55      3707\n",
       "173.236.31.226     3410\n",
       "184.154.89.154     3344\n",
       "67.19.72.206       3224\n",
       "46.4.36.120        3150\n",
       "72.20.15.61        3111\n",
       "147.32.80.9        1573\n",
       "212.117.171.138     967\n",
       "dtype: int64"
      ]
     },
     "execution_count": 15,
     "metadata": {},
     "output_type": "execute_result"
    }
   ],
   "source": [
    "df_r = sample2(comm_hosts, 1000000)\n",
    "df_r = pd.DataFrame(data=df_r, columns=['IP_Addr']).groupby('IP_Addr').size()\n",
    "df_r = df_r.sort_values(ascending=False)\n",
    "df_r.head(10)"
   ]
  },
  {
   "cell_type": "markdown",
   "metadata": {},
   "source": [
    "Here RESERVOIR sampling is performed for various values of reservoir size `k`. For more information about the used helper functions please refer to `helper_functions/sampling.py`.\n",
    "\n",
    "Extracted results are stored into dictionaries; for each value of `k` the IPs with the respective frequencies are stored in `dic`, the respective execution time in `dur_dic`. The dictionary `enum` is just an enumeration of the tested combinations, for easier access of the aforementioned dictionaries."
   ]
  },
  {
   "cell_type": "code",
   "execution_count": 5,
   "metadata": {},
   "outputs": [],
   "source": [
    "reservoir_sizes = [10,50,100,500,1000,10000,50000,100000]\n",
    "\n",
    "enum = {}\n",
    "dic = {}\n",
    "dur_dic = {}\n",
    "i=0\n",
    "for k in reservoir_sizes:\n",
    "    \n",
    "    # Start timer \n",
    "    start_time = time.time()\n",
    "    \n",
    "    res = sample(comm_hosts, k)\n",
    "    unique_hosts, counts = np.unique(res, return_counts=True)\n",
    "    counts = counts/np.sum(counts)\n",
    "    sorted_ind = np.flip(np.argsort(counts))\n",
    "    \n",
    "    # Stop timer\n",
    "    dur = time.time() - start_time\n",
    "    \n",
    "    enum[i] = reservoir_sizes[i]\n",
    "    dic[k] = {'IP_Addr':unique_hosts[sorted_ind], 'Frequency':counts[sorted_ind]}\n",
    "    dur_dic[k] = dur\n",
    "    \n",
    "    i=i+1"
   ]
  },
  {
   "cell_type": "markdown",
   "metadata": {},
   "source": [
    "Now in order to compare the results we repeat our ground truth here, that is the top-10 IPs with their repsective counts."
   ]
  },
  {
   "cell_type": "code",
   "execution_count": 6,
   "metadata": {},
   "outputs": [
    {
     "data": {
      "text/plain": [
       "IP_Addr\n",
       "193.23.181.44      0.118347\n",
       "174.128.246.102    0.075340\n",
       "174.37.196.55      0.068102\n",
       "173.236.31.226     0.062646\n",
       "184.154.89.154     0.061433\n",
       "67.19.72.206       0.059229\n",
       "46.4.36.120        0.057869\n",
       "72.20.15.61        0.057153\n",
       "147.32.80.9        0.028898\n",
       "212.117.171.138    0.017765\n",
       "dtype: float64"
      ]
     },
     "execution_count": 6,
     "metadata": {},
     "output_type": "execute_result"
    }
   ],
   "source": [
    "ground_truth.head(10)"
   ]
  },
  {
   "cell_type": "markdown",
   "metadata": {},
   "source": [
    "As expected, for low value of `k` the top-10 is far away from ground-truth!"
   ]
  },
  {
   "cell_type": "code",
   "execution_count": 6,
   "metadata": {},
   "outputs": [
    {
     "data": {
      "text/html": [
       "<div>\n",
       "<style scoped>\n",
       "    .dataframe tbody tr th:only-of-type {\n",
       "        vertical-align: middle;\n",
       "    }\n",
       "\n",
       "    .dataframe tbody tr th {\n",
       "        vertical-align: top;\n",
       "    }\n",
       "\n",
       "    .dataframe thead th {\n",
       "        text-align: right;\n",
       "    }\n",
       "</style>\n",
       "<table border=\"1\" class=\"dataframe\">\n",
       "  <thead>\n",
       "    <tr style=\"text-align: right;\">\n",
       "      <th></th>\n",
       "      <th>Frequency</th>\n",
       "    </tr>\n",
       "    <tr>\n",
       "      <th>IP_Addr</th>\n",
       "      <th></th>\n",
       "    </tr>\n",
       "  </thead>\n",
       "  <tbody>\n",
       "    <tr>\n",
       "      <th>173.236.31.226</th>\n",
       "      <td>0.2</td>\n",
       "    </tr>\n",
       "    <tr>\n",
       "      <th>147.32.80.9</th>\n",
       "      <td>0.2</td>\n",
       "    </tr>\n",
       "    <tr>\n",
       "      <th>72.20.15.61</th>\n",
       "      <td>0.1</td>\n",
       "    </tr>\n",
       "    <tr>\n",
       "      <th>64.12.90.98</th>\n",
       "      <td>0.1</td>\n",
       "    </tr>\n",
       "    <tr>\n",
       "      <th>46.4.36.120</th>\n",
       "      <td>0.1</td>\n",
       "    </tr>\n",
       "    <tr>\n",
       "      <th>217.163.21.35</th>\n",
       "      <td>0.1</td>\n",
       "    </tr>\n",
       "    <tr>\n",
       "      <th>193.23.181.44</th>\n",
       "      <td>0.1</td>\n",
       "    </tr>\n",
       "    <tr>\n",
       "      <th>184.154.89.154</th>\n",
       "      <td>0.1</td>\n",
       "    </tr>\n",
       "  </tbody>\n",
       "</table>\n",
       "</div>"
      ],
      "text/plain": [
       "                Frequency\n",
       "IP_Addr                  \n",
       "173.236.31.226        0.2\n",
       "147.32.80.9           0.2\n",
       "72.20.15.61           0.1\n",
       "64.12.90.98           0.1\n",
       "46.4.36.120           0.1\n",
       "217.163.21.35         0.1\n",
       "193.23.181.44         0.1\n",
       "184.154.89.154        0.1"
      ]
     },
     "execution_count": 6,
     "metadata": {},
     "output_type": "execute_result"
    }
   ],
   "source": [
    "df = pd.DataFrame(data=dic[enum[0]])\n",
    "df.set_index('IP_Addr', inplace=True)\n",
    "df.head(10)"
   ]
  },
  {
   "cell_type": "markdown",
   "metadata": {},
   "source": [
    "As `k` increases the performed sampling converges to ground-truth."
   ]
  },
  {
   "cell_type": "code",
   "execution_count": 7,
   "metadata": {},
   "outputs": [
    {
     "data": {
      "text/html": [
       "<div>\n",
       "<style scoped>\n",
       "    .dataframe tbody tr th:only-of-type {\n",
       "        vertical-align: middle;\n",
       "    }\n",
       "\n",
       "    .dataframe tbody tr th {\n",
       "        vertical-align: top;\n",
       "    }\n",
       "\n",
       "    .dataframe thead th {\n",
       "        text-align: right;\n",
       "    }\n",
       "</style>\n",
       "<table border=\"1\" class=\"dataframe\">\n",
       "  <thead>\n",
       "    <tr style=\"text-align: right;\">\n",
       "      <th></th>\n",
       "      <th>Frequency</th>\n",
       "    </tr>\n",
       "    <tr>\n",
       "      <th>IP_Addr</th>\n",
       "      <th></th>\n",
       "    </tr>\n",
       "  </thead>\n",
       "  <tbody>\n",
       "    <tr>\n",
       "      <th>193.23.181.44</th>\n",
       "      <td>0.1177</td>\n",
       "    </tr>\n",
       "    <tr>\n",
       "      <th>174.128.246.102</th>\n",
       "      <td>0.0756</td>\n",
       "    </tr>\n",
       "    <tr>\n",
       "      <th>174.37.196.55</th>\n",
       "      <td>0.0685</td>\n",
       "    </tr>\n",
       "    <tr>\n",
       "      <th>173.236.31.226</th>\n",
       "      <td>0.0650</td>\n",
       "    </tr>\n",
       "    <tr>\n",
       "      <th>184.154.89.154</th>\n",
       "      <td>0.0609</td>\n",
       "    </tr>\n",
       "    <tr>\n",
       "      <th>67.19.72.206</th>\n",
       "      <td>0.0606</td>\n",
       "    </tr>\n",
       "    <tr>\n",
       "      <th>72.20.15.61</th>\n",
       "      <td>0.0578</td>\n",
       "    </tr>\n",
       "    <tr>\n",
       "      <th>46.4.36.120</th>\n",
       "      <td>0.0535</td>\n",
       "    </tr>\n",
       "    <tr>\n",
       "      <th>147.32.80.9</th>\n",
       "      <td>0.0296</td>\n",
       "    </tr>\n",
       "    <tr>\n",
       "      <th>212.117.171.138</th>\n",
       "      <td>0.0167</td>\n",
       "    </tr>\n",
       "  </tbody>\n",
       "</table>\n",
       "</div>"
      ],
      "text/plain": [
       "                 Frequency\n",
       "IP_Addr                   \n",
       "193.23.181.44       0.1177\n",
       "174.128.246.102     0.0756\n",
       "174.37.196.55       0.0685\n",
       "173.236.31.226      0.0650\n",
       "184.154.89.154      0.0609\n",
       "67.19.72.206        0.0606\n",
       "72.20.15.61         0.0578\n",
       "46.4.36.120         0.0535\n",
       "147.32.80.9         0.0296\n",
       "212.117.171.138     0.0167"
      ]
     },
     "execution_count": 7,
     "metadata": {},
     "output_type": "execute_result"
    }
   ],
   "source": [
    "df = pd.DataFrame(data=dic[enum[5]])\n",
    "df.set_index('IP_Addr', inplace=True)\n",
    "df.head(10)"
   ]
  },
  {
   "cell_type": "markdown",
   "metadata": {},
   "source": [
    "Finally, we see that for the case `k=100000` we got a perfect match for IPs and corresponding frequencies!"
   ]
  },
  {
   "cell_type": "code",
   "execution_count": 8,
   "metadata": {},
   "outputs": [
    {
     "data": {
      "text/html": [
       "<div>\n",
       "<style scoped>\n",
       "    .dataframe tbody tr th:only-of-type {\n",
       "        vertical-align: middle;\n",
       "    }\n",
       "\n",
       "    .dataframe tbody tr th {\n",
       "        vertical-align: top;\n",
       "    }\n",
       "\n",
       "    .dataframe thead th {\n",
       "        text-align: right;\n",
       "    }\n",
       "</style>\n",
       "<table border=\"1\" class=\"dataframe\">\n",
       "  <thead>\n",
       "    <tr style=\"text-align: right;\">\n",
       "      <th></th>\n",
       "      <th>Frequency</th>\n",
       "    </tr>\n",
       "    <tr>\n",
       "      <th>IP_Addr</th>\n",
       "      <th></th>\n",
       "    </tr>\n",
       "  </thead>\n",
       "  <tbody>\n",
       "    <tr>\n",
       "      <th>193.23.181.44</th>\n",
       "      <td>0.118347</td>\n",
       "    </tr>\n",
       "    <tr>\n",
       "      <th>174.128.246.102</th>\n",
       "      <td>0.075340</td>\n",
       "    </tr>\n",
       "    <tr>\n",
       "      <th>174.37.196.55</th>\n",
       "      <td>0.068102</td>\n",
       "    </tr>\n",
       "    <tr>\n",
       "      <th>173.236.31.226</th>\n",
       "      <td>0.062646</td>\n",
       "    </tr>\n",
       "    <tr>\n",
       "      <th>184.154.89.154</th>\n",
       "      <td>0.061433</td>\n",
       "    </tr>\n",
       "    <tr>\n",
       "      <th>67.19.72.206</th>\n",
       "      <td>0.059229</td>\n",
       "    </tr>\n",
       "    <tr>\n",
       "      <th>46.4.36.120</th>\n",
       "      <td>0.057869</td>\n",
       "    </tr>\n",
       "    <tr>\n",
       "      <th>72.20.15.61</th>\n",
       "      <td>0.057153</td>\n",
       "    </tr>\n",
       "    <tr>\n",
       "      <th>147.32.80.9</th>\n",
       "      <td>0.028898</td>\n",
       "    </tr>\n",
       "    <tr>\n",
       "      <th>212.117.171.138</th>\n",
       "      <td>0.017765</td>\n",
       "    </tr>\n",
       "  </tbody>\n",
       "</table>\n",
       "</div>"
      ],
      "text/plain": [
       "                 Frequency\n",
       "IP_Addr                   \n",
       "193.23.181.44     0.118347\n",
       "174.128.246.102   0.075340\n",
       "174.37.196.55     0.068102\n",
       "173.236.31.226    0.062646\n",
       "184.154.89.154    0.061433\n",
       "67.19.72.206      0.059229\n",
       "46.4.36.120       0.057869\n",
       "72.20.15.61       0.057153\n",
       "147.32.80.9       0.028898\n",
       "212.117.171.138   0.017765"
      ]
     },
     "execution_count": 8,
     "metadata": {},
     "output_type": "execute_result"
    }
   ],
   "source": [
    "df = pd.DataFrame(data=dic[enum[7]])\n",
    "df.set_index('IP_Addr', inplace=True)\n",
    "df.head(10)"
   ]
  },
  {
   "cell_type": "markdown",
   "metadata": {},
   "source": [
    "Here we evaluate the samoling performed for various values of `k`; we extract recall values, that is how many IPs of the top-10 ground-truth are found in the extracted top-10 sampling. Additionally, we compute the divergence of frequencies computed; for each IP of ground-truth top-10 occuring also at the top-10 sampling we compute the absolute difference of the frequencies; in case the IP is missing from the top-10 sampling only the respective ground-truth frequency is added.\n",
    "\n",
    "For `k=500,1000,10000,50000,100000` all IPs are correctly identified. As `k` increase the frequency distance also decrease and finally for `k=100000` we got a perfect match!"
   ]
  },
  {
   "cell_type": "code",
   "execution_count": 9,
   "metadata": {},
   "outputs": [
    {
     "name": "stdout",
     "output_type": "stream",
     "text": [
      "Recall values:  [0.5 0.7 0.7 0.9 0.9 1.  1.  1. ]\n",
      "Divergence:  [0.70254074 0.31974868 0.27269487 0.1091665  0.09157366 0.01234718\n",
      " 0.00228298 0.        ]\n"
     ]
    }
   ],
   "source": [
    "n = len(dic)\n",
    "rec = np.zeros(n)\n",
    "dis = np.zeros(n)\n",
    "for i in range(len(dic)):\n",
    "    df = pd.DataFrame(data=dic[enum[i]])\n",
    "    df.set_index('IP_Addr', inplace=True)\n",
    "    \n",
    "    rec[i], dis[i] = evaluate(ground_truth.head(10), df.head(10))\n",
    "    \n",
    "print(\"Recall values: \", rec)\n",
    "print(\"Divergence: \", dis)"
   ]
  },
  {
   "cell_type": "markdown",
   "metadata": {},
   "source": [
    "Finally a visualization for the execution time versus `depth` and `width`. In the following visualization rows correspond to depth values and columns to width values."
   ]
  },
  {
   "cell_type": "code",
   "execution_count": 10,
   "metadata": {},
   "outputs": [
    {
     "data": {
      "text/plain": [
       "Text(0, 0.5, 'Frequency distance')"
      ]
     },
     "execution_count": 10,
     "metadata": {},
     "output_type": "execute_result"
    },
    {
     "data": {
      "image/png": "[encoded data removed]",
      "text/plain": [
       "<Figure size 1080x504 with 1 Axes>"
      ]
     },
     "metadata": {
      "needs_background": "light"
     },
     "output_type": "display_data"
    }
   ],
   "source": [
    "plt.figure(figsize=(15,7))\n",
    "plt.plot(list(dur_dic.values()))\n",
    "plt.xticks(range(len(dic)), reservoir_sizes)\n",
    "plt.xlabel('Reservoir size k')\n",
    "plt.ylabel('Frequency distance')"
   ]
  }
 ],
 "metadata": {
  "kernelspec": {
   "display_name": "Cyber Data Analytics",
   "language": "python",
   "name": "cda"
  },
  "language_info": {
   "codemirror_mode": {
    "name": "ipython",
    "version": 3
   },
   "file_extension": ".py",
   "mimetype": "text/x-python",
   "name": "python",
   "nbconvert_exporter": "python",
   "pygments_lexer": "ipython3",
   "version": "3.7.3"
  }
 },
 "nbformat": 4,
 "nbformat_minor": 2
}
