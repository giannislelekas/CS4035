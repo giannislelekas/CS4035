{
 "cells": [
  {
   "cell_type": "markdown",
   "metadata": {},
   "source": [
    "## Flow Classification Task \n",
    "\n",
    "For this task we perform classification first on packet level and the on host level for scenario 10 in the CTU-13 dataset."
   ]
  },
  {
   "cell_type": "code",
   "execution_count": 1,
   "metadata": {},
   "outputs": [],
   "source": [
    "%matplotlib inline\n",
    "import pandas as pd\n",
    "from matplotlib import pyplot as plt\n",
    "import numpy as np\n",
    "from sklearn.model_selection import StratifiedKFold\n",
    "from sklearn.metrics import roc_curve, auc\n",
    "from imblearn.over_sampling import SMOTE, BorderlineSMOTE \n",
    "import seaborn as sns\n",
    "import warnings\n",
    "from helper_functions.classification import *\n",
    "warnings.filterwarnings(\"ignore\")"
   ]
  },
  {
   "cell_type": "markdown",
   "metadata": {},
   "source": [
    "Keep the number of infected and normal ips given by the scenario."
   ]
  },
  {
   "cell_type": "code",
   "execution_count": 2,
   "metadata": {},
   "outputs": [],
   "source": [
    "infected_hosts = ['147.32.84.165','147.32.84.191','147.32.84.192','147.32.84.193','147.32.84.204',\n",
    "                  '147.32.84.205','147.32.84.206', '147.32.84.207','147.32.84.208','147.32.84.209']\n",
    "\n",
    "normal_hosts = ['147.32.84.170', '147.32.84.134', '147.32.84.164', '147.32.87.36, 147.32.80.9', '147.32.87.11']\n"
   ]
  },
  {
   "cell_type": "markdown",
   "metadata": {},
   "source": [
    "Load the preprocessed data from the task 4."
   ]
  },
  {
   "cell_type": "code",
   "execution_count": 3,
   "metadata": {},
   "outputs": [
    {
     "data": {
      "text/html": [
       "<div>\n",
       "<style scoped>\n",
       "    .dataframe tbody tr th:only-of-type {\n",
       "        vertical-align: middle;\n",
       "    }\n",
       "\n",
       "    .dataframe tbody tr th {\n",
       "        vertical-align: top;\n",
       "    }\n",
       "\n",
       "    .dataframe thead th {\n",
       "        text-align: right;\n",
       "    }\n",
       "</style>\n",
       "<table border=\"1\" class=\"dataframe\">\n",
       "  <thead>\n",
       "    <tr style=\"text-align: right;\">\n",
       "      <th></th>\n",
       "      <th>Durat</th>\n",
       "      <th>Prot</th>\n",
       "      <th>Flags</th>\n",
       "      <th>Tos</th>\n",
       "      <th>Packets</th>\n",
       "      <th>Bytes</th>\n",
       "      <th>Flows</th>\n",
       "      <th>Label</th>\n",
       "      <th>Src_IP_Addr</th>\n",
       "      <th>Src_Port</th>\n",
       "      <th>Dst_IP_Addr</th>\n",
       "      <th>Dst_Port</th>\n",
       "      <th>Datetime</th>\n",
       "    </tr>\n",
       "  </thead>\n",
       "  <tbody>\n",
       "    <tr>\n",
       "      <th>0</th>\n",
       "      <td>0.002</td>\n",
       "      <td>TCP</td>\n",
       "      <td>FRPA_</td>\n",
       "      <td>0</td>\n",
       "      <td>4</td>\n",
       "      <td>321</td>\n",
       "      <td>1</td>\n",
       "      <td>Background</td>\n",
       "      <td>147.32.86.166</td>\n",
       "      <td>33426</td>\n",
       "      <td>212.24.150.110</td>\n",
       "      <td>25443</td>\n",
       "      <td>2011-08-18 10:19:13.328</td>\n",
       "    </tr>\n",
       "    <tr>\n",
       "      <th>1</th>\n",
       "      <td>4.995</td>\n",
       "      <td>UDP</td>\n",
       "      <td>INT</td>\n",
       "      <td>0</td>\n",
       "      <td>617</td>\n",
       "      <td>40095</td>\n",
       "      <td>1</td>\n",
       "      <td>Background</td>\n",
       "      <td>82.39.2.249</td>\n",
       "      <td>41915</td>\n",
       "      <td>147.32.84.59</td>\n",
       "      <td>43087</td>\n",
       "      <td>2011-08-18 10:19:13.328</td>\n",
       "    </tr>\n",
       "    <tr>\n",
       "      <th>2</th>\n",
       "      <td>4.996</td>\n",
       "      <td>UDP</td>\n",
       "      <td>INT</td>\n",
       "      <td>0</td>\n",
       "      <td>1290</td>\n",
       "      <td>1909200</td>\n",
       "      <td>1</td>\n",
       "      <td>Background</td>\n",
       "      <td>147.32.84.59</td>\n",
       "      <td>43087</td>\n",
       "      <td>82.39.2.249</td>\n",
       "      <td>41915</td>\n",
       "      <td>2011-08-18 10:19:13.329</td>\n",
       "    </tr>\n",
       "    <tr>\n",
       "      <th>3</th>\n",
       "      <td>0.000</td>\n",
       "      <td>TCP</td>\n",
       "      <td>A_</td>\n",
       "      <td>0</td>\n",
       "      <td>1</td>\n",
       "      <td>66</td>\n",
       "      <td>1</td>\n",
       "      <td>Background</td>\n",
       "      <td>147.32.86.166</td>\n",
       "      <td>42020</td>\n",
       "      <td>147.32.192.34</td>\n",
       "      <td>993</td>\n",
       "      <td>2011-08-18 10:19:13.330</td>\n",
       "    </tr>\n",
       "    <tr>\n",
       "      <th>4</th>\n",
       "      <td>0.000</td>\n",
       "      <td>TCP</td>\n",
       "      <td>FPA_</td>\n",
       "      <td>0</td>\n",
       "      <td>2</td>\n",
       "      <td>169</td>\n",
       "      <td>1</td>\n",
       "      <td>Background</td>\n",
       "      <td>212.24.150.110</td>\n",
       "      <td>25443</td>\n",
       "      <td>147.32.86.166</td>\n",
       "      <td>33426</td>\n",
       "      <td>2011-08-18 10:19:13.330</td>\n",
       "    </tr>\n",
       "  </tbody>\n",
       "</table>\n",
       "</div>"
      ],
      "text/plain": [
       "   Durat Prot  Flags  Tos  Packets    Bytes  Flows       Label  \\\n",
       "0  0.002  TCP  FRPA_    0        4      321      1  Background   \n",
       "1  4.995  UDP    INT    0      617    40095      1  Background   \n",
       "2  4.996  UDP    INT    0     1290  1909200      1  Background   \n",
       "3  0.000  TCP     A_    0        1       66      1  Background   \n",
       "4  0.000  TCP   FPA_    0        2      169      1  Background   \n",
       "\n",
       "      Src_IP_Addr Src_Port     Dst_IP_Addr Dst_Port                 Datetime  \n",
       "0   147.32.86.166    33426  212.24.150.110    25443  2011-08-18 10:19:13.328  \n",
       "1     82.39.2.249    41915    147.32.84.59    43087  2011-08-18 10:19:13.328  \n",
       "2    147.32.84.59    43087     82.39.2.249    41915  2011-08-18 10:19:13.329  \n",
       "3   147.32.86.166    42020   147.32.192.34      993  2011-08-18 10:19:13.330  \n",
       "4  212.24.150.110    25443   147.32.86.166    33426  2011-08-18 10:19:13.330  "
      ]
     },
     "execution_count": 3,
     "metadata": {},
     "output_type": "execute_result"
    }
   ],
   "source": [
    "data = pd.read_csv('./capture20110818.pcap.netflow.labeled.remastered')\n",
    "data[['Src_IP_Addr', 'Src_Port']] = data['Src_IP_Addr:Port'].str.split(':', n=1, expand=True)\n",
    "data[['Dst_IP_Addr', 'Dst_Port']] = data['Dst_IP_Addr:Port'].str.split(':', n=1, expand=True)\n",
    "\n",
    "data['Datetime'] = data['#Date_flow'].str.cat(data['start'], sep=' ')\n",
    "#data['Datetime'] = pd.to_datetime(data['Datetime'], infer_datetime_format=True)\n",
    "\n",
    "data.drop(labels=['#Date_flow', 'start', 'Src_IP_Addr:Port', 'Dst_IP_Addr:Port'], axis=1, inplace=True)\n",
    "data.head()"
   ]
  },
  {
   "cell_type": "code",
   "execution_count": 4,
   "metadata": {},
   "outputs": [
    {
     "data": {
      "text/plain": [
       "(645358, 13)"
      ]
     },
     "execution_count": 4,
     "metadata": {},
     "output_type": "execute_result"
    }
   ],
   "source": [
    "# remove background \n",
    "data_nobground = data[ data['Label'] != 'Background']\n",
    "data_nobground.shape"
   ]
  },
  {
   "cell_type": "code",
   "execution_count": 5,
   "metadata": {},
   "outputs": [
    {
     "data": {
      "text/html": [
       "<div>\n",
       "<style scoped>\n",
       "    .dataframe tbody tr th:only-of-type {\n",
       "        vertical-align: middle;\n",
       "    }\n",
       "\n",
       "    .dataframe tbody tr th {\n",
       "        vertical-align: top;\n",
       "    }\n",
       "\n",
       "    .dataframe thead th {\n",
       "        text-align: right;\n",
       "    }\n",
       "</style>\n",
       "<table border=\"1\" class=\"dataframe\">\n",
       "  <thead>\n",
       "    <tr style=\"text-align: right;\">\n",
       "      <th></th>\n",
       "      <th>Durat</th>\n",
       "      <th>Prot</th>\n",
       "      <th>Flags</th>\n",
       "      <th>Tos</th>\n",
       "      <th>Packets</th>\n",
       "      <th>Bytes</th>\n",
       "      <th>Flows</th>\n",
       "      <th>Label</th>\n",
       "      <th>Src_IP_Addr</th>\n",
       "      <th>Src_Port</th>\n",
       "      <th>Dst_IP_Addr</th>\n",
       "      <th>Dst_Port</th>\n",
       "      <th>Datetime</th>\n",
       "    </tr>\n",
       "  </thead>\n",
       "  <tbody>\n",
       "    <tr>\n",
       "      <th>20</th>\n",
       "      <td>4.985</td>\n",
       "      <td>TCP</td>\n",
       "      <td>PA_</td>\n",
       "      <td>0</td>\n",
       "      <td>91</td>\n",
       "      <td>86277</td>\n",
       "      <td>1</td>\n",
       "      <td>LEGITIMATE</td>\n",
       "      <td>147.32.80.13</td>\n",
       "      <td>80</td>\n",
       "      <td>147.32.85.88</td>\n",
       "      <td>56949</td>\n",
       "      <td>2011-08-18 10:19:13.347</td>\n",
       "    </tr>\n",
       "    <tr>\n",
       "      <th>51</th>\n",
       "      <td>0.000</td>\n",
       "      <td>TCP</td>\n",
       "      <td>A_</td>\n",
       "      <td>0</td>\n",
       "      <td>1</td>\n",
       "      <td>66</td>\n",
       "      <td>1</td>\n",
       "      <td>LEGITIMATE</td>\n",
       "      <td>147.32.86.110</td>\n",
       "      <td>48102</td>\n",
       "      <td>74.125.232.214</td>\n",
       "      <td>443</td>\n",
       "      <td>2011-08-18 10:19:13.392</td>\n",
       "    </tr>\n",
       "    <tr>\n",
       "      <th>57</th>\n",
       "      <td>4.921</td>\n",
       "      <td>TCP</td>\n",
       "      <td>A_</td>\n",
       "      <td>0</td>\n",
       "      <td>49</td>\n",
       "      <td>3234</td>\n",
       "      <td>1</td>\n",
       "      <td>LEGITIMATE</td>\n",
       "      <td>147.32.85.88</td>\n",
       "      <td>56949</td>\n",
       "      <td>147.32.80.13</td>\n",
       "      <td>80</td>\n",
       "      <td>2011-08-18 10:19:13.411</td>\n",
       "    </tr>\n",
       "    <tr>\n",
       "      <th>73</th>\n",
       "      <td>4.742</td>\n",
       "      <td>TCP</td>\n",
       "      <td>A_</td>\n",
       "      <td>0</td>\n",
       "      <td>118</td>\n",
       "      <td>7080</td>\n",
       "      <td>1</td>\n",
       "      <td>LEGITIMATE</td>\n",
       "      <td>147.32.84.59</td>\n",
       "      <td>2768</td>\n",
       "      <td>74.125.108.208</td>\n",
       "      <td>80</td>\n",
       "      <td>2011-08-18 10:19:13.460</td>\n",
       "    </tr>\n",
       "    <tr>\n",
       "      <th>75</th>\n",
       "      <td>0.000</td>\n",
       "      <td>TCP</td>\n",
       "      <td>A_</td>\n",
       "      <td>0</td>\n",
       "      <td>1</td>\n",
       "      <td>60</td>\n",
       "      <td>1</td>\n",
       "      <td>LEGITIMATE</td>\n",
       "      <td>147.32.84.59</td>\n",
       "      <td>56058</td>\n",
       "      <td>74.125.232.215</td>\n",
       "      <td>443</td>\n",
       "      <td>2011-08-18 10:19:13.486</td>\n",
       "    </tr>\n",
       "  </tbody>\n",
       "</table>\n",
       "</div>"
      ],
      "text/plain": [
       "    Durat Prot Flags  Tos  Packets  Bytes  Flows       Label    Src_IP_Addr  \\\n",
       "20  4.985  TCP   PA_    0       91  86277      1  LEGITIMATE   147.32.80.13   \n",
       "51  0.000  TCP    A_    0        1     66      1  LEGITIMATE  147.32.86.110   \n",
       "57  4.921  TCP    A_    0       49   3234      1  LEGITIMATE   147.32.85.88   \n",
       "73  4.742  TCP    A_    0      118   7080      1  LEGITIMATE   147.32.84.59   \n",
       "75  0.000  TCP    A_    0        1     60      1  LEGITIMATE   147.32.84.59   \n",
       "\n",
       "   Src_Port     Dst_IP_Addr Dst_Port                 Datetime  \n",
       "20       80    147.32.85.88    56949  2011-08-18 10:19:13.347  \n",
       "51    48102  74.125.232.214      443  2011-08-18 10:19:13.392  \n",
       "57    56949    147.32.80.13       80  2011-08-18 10:19:13.411  \n",
       "73     2768  74.125.108.208       80  2011-08-18 10:19:13.460  \n",
       "75    56058  74.125.232.215      443  2011-08-18 10:19:13.486  "
      ]
     },
     "execution_count": 5,
     "metadata": {},
     "output_type": "execute_result"
    }
   ],
   "source": [
    "data_nobground.head()"
   ]
  },
  {
   "cell_type": "code",
   "execution_count": 6,
   "metadata": {},
   "outputs": [],
   "source": [
    "# We keep a copy of the data set to used for the host level.\n",
    "new_nobground = data_nobground.copy()"
   ]
  },
  {
   "cell_type": "code",
   "execution_count": 7,
   "metadata": {},
   "outputs": [
    {
     "data": {
      "image/png": "[encoded data removed]",
      "text/plain": [
       "<Figure size 432x288 with 1 Axes>"
      ]
     },
     "metadata": {
      "needs_background": "light"
     },
     "output_type": "display_data"
    },
    {
     "name": "stdout",
     "output_type": "stream",
     "text": [
      "Number of Botnet:  323441\n",
      "Number of Legitimate:  321917\n",
      "Ratio:  1.0047341395452865\n"
     ]
    }
   ],
   "source": [
    "# Check for imbalance\n",
    "ax = data_nobground['Label'].value_counts()\n",
    "plt.title('BOTNET vs LEGITIMATE')\n",
    "sns.barplot(x=ax.index, y= ax)  \n",
    "plt.xlabel('Types of Flows')\n",
    "plt.ylabel('Number of Packets')\n",
    "plt.show()\n",
    "\n",
    "val_1 = len(data_nobground[data_nobground['Label'] == 'Botnet'])\n",
    "val_2 = len(data_nobground[data_nobground['Label'] == 'LEGITIMATE'])\n",
    "print(\"Number of Botnet: \", val_1)\n",
    "print(\"Number of Legitimate: \", val_2)\n",
    "print(\"Ratio: \", val_1/val_2)"
   ]
  },
  {
   "cell_type": "code",
   "execution_count": 8,
   "metadata": {
    "scrolled": false
   },
   "outputs": [],
   "source": [
    "# Produce labels \n",
    "label_mapping={}\n",
    "label_mapping['Label'] = {'LEGITIMATE': 0, 'Botnet' : 1}\n",
    "data_nobground.replace({'Label' : label_mapping['Label']}, inplace=True)\n",
    "\n",
    "# Keep the labels \n",
    "labels= data_nobground['Label'].values\n"
   ]
  },
  {
   "cell_type": "markdown",
   "metadata": {},
   "source": [
    "### Convesion of categorical data to numeric\n",
    "\n",
    "Each column of type \"object\" is converted, based on an enumeration of its unique values. We did not use one-hot encoding for the conversion, as this would lead to unnecessary creation of extra columns, thus to the increase of the dimensionality of feature space."
   ]
  },
  {
   "cell_type": "code",
   "execution_count": 9,
   "metadata": {},
   "outputs": [],
   "source": [
    "char_cols =  data_nobground.dtypes.pipe(lambda x: x[x == 'object']).index\n",
    "for c in char_cols:\n",
    "    data_nobground[c], label_mapping[c] = pd.factorize( data_nobground[c])"
   ]
  },
  {
   "cell_type": "code",
   "execution_count": 10,
   "metadata": {},
   "outputs": [
    {
     "name": "stdout",
     "output_type": "stream",
     "text": [
      "Dataset shape:  (645358, 11)\n"
     ]
    }
   ],
   "source": [
    "# Drop the labels\n",
    "X = data_nobground.drop(['Label','Datetime'], axis = 1).values\n",
    "print(\"Dataset shape: \", X.shape)"
   ]
  },
  {
   "cell_type": "markdown",
   "metadata": {},
   "source": [
    "### Classification on packet level\n",
    "We used the following classifiers:\n",
    "- Naive Bayes\n",
    "- Random Forrest \n",
    "- Logistic Reggresion"
   ]
  },
  {
   "cell_type": "code",
   "execution_count": 11,
   "metadata": {},
   "outputs": [],
   "source": [
    "# 10-Fold stratified cross validation with shuffling of the dataset before extracting the stratified splits,\n",
    "# used for estimating performance\n",
    "num_splits = 10\n",
    "cv = StratifiedKFold(n_splits = num_splits, shuffle = True)"
   ]
  },
  {
   "cell_type": "code",
   "execution_count": 12,
   "metadata": {},
   "outputs": [
    {
     "name": "stdout",
     "output_type": "stream",
     "text": [
      "[[313582   4472]\n",
      " [  9859 317445]]\n",
      "Accuracy: 0.978\n",
      "Precision: 0.986\n",
      "Recall: 0.970\n",
      "F1_score: 0.978\n"
     ]
    }
   ],
   "source": [
    "from sklearn.naive_bayes import GaussianNB\n",
    "\n",
    "clf = GaussianNB()\n",
    "nb_mean_tpr, nb_std_tpr, nb_mean_auc, nb_std_auc, mean_F1, std_F1, cm =roc_analysis(X, labels, clf, cv, False, False, False)\n",
    "\n",
    "print(cm)\n",
    "acc, prec, rec, F1 = performance_metrics(cm)\n",
    "print(\"Accuracy: %.3f\" %acc)\n",
    "print(\"Precision: %.3f\" %prec)\n",
    "print(\"Recall: %.3f\" %rec)\n",
    "print(\"F1_score: %.3f\" %F1)"
   ]
  },
  {
   "cell_type": "code",
   "execution_count": 13,
   "metadata": {
    "scrolled": true
   },
   "outputs": [
    {
     "name": "stdout",
     "output_type": "stream",
     "text": [
      "[[313876  58370]\n",
      " [  9565 263547]]\n",
      "Accuracy: 0.895\n",
      "Precision: 0.843\n",
      "Recall: 0.970\n",
      "F1_score: 0.902\n"
     ]
    }
   ],
   "source": [
    "from  sklearn.linear_model import LogisticRegression as LR\n",
    "\n",
    "clf = LR(C = 1, solver = 'lbfgs', multi_class = 'ovr', n_jobs=-1)\n",
    "nb_mean_tpr, nb_std_tpr, nb_mean_auc, nb_std_auc, mean_F1, std_F1, cm =roc_analysis(X, labels, clf, cv, False, False, False)\n",
    "\n",
    "print(cm)\n",
    "acc, prec, rec, F1 = performance_metrics(cm)\n",
    "print(\"Accuracy: %.3f\" %acc)\n",
    "print(\"Precision: %.3f\" %prec)\n",
    "print(\"Recall: %.3f\" %rec)\n",
    "print(\"F1_score: %.3f\" %F1)"
   ]
  },
  {
   "cell_type": "code",
   "execution_count": 14,
   "metadata": {
    "scrolled": true
   },
   "outputs": [
    {
     "name": "stdout",
     "output_type": "stream",
     "text": [
      "[[313936  59834]\n",
      " [  9505 262083]]\n",
      "Accuracy: 0.893\n",
      "Precision: 0.840\n",
      "Recall: 0.971\n",
      "F1_score: 0.901\n"
     ]
    }
   ],
   "source": [
    "from  sklearn.ensemble import RandomForestClassifier as RF\n",
    "\n",
    "clf = RF(n_estimators='warn', criterion='gini', min_samples_split=2, min_samples_leaf=1, \n",
    "         min_weight_fraction_leaf=0.0, max_features='auto', min_impurity_decrease=0.0, \n",
    "         bootstrap=True, n_jobs=-1, verbose=0, warm_start=False)\n",
    "clf = LR(C = 1, solver = 'lbfgs', multi_class = 'ovr', n_jobs=-1)\n",
    "\n",
    "nb_mean_tpr, nb_std_tpr, nb_mean_auc, nb_std_auc, mean_F1, std_F1, cm =roc_analysis(X, labels, clf, cv, False, False, False)\n",
    "\n",
    "print(cm)\n",
    "acc, prec, rec, F1 = performance_metrics(cm)\n",
    "print(\"Accuracy: %.3f\" %acc)\n",
    "print(\"Precision: %.3f\" %prec)\n",
    "print(\"Recall: %.3f\" %rec)\n",
    "print(\"F1_score: %.3f\" %F1)"
   ]
  },
  {
   "cell_type": "markdown",
   "metadata": {},
   "source": [
    "### Classification on Host Level \n",
    "write more"
   ]
  },
  {
   "cell_type": "code",
   "execution_count": 22,
   "metadata": {},
   "outputs": [],
   "source": [
    "''''\n",
    "Group by Src ip \n",
    "constuct new features: \n",
    "the amount dst ips per unique src. \n",
    "the amount of src ports per unique src. \n",
    "the amount of dst ports per unique src.\n",
    "'''''\n",
    "\n",
    "data_perhost = data_nobground.groupby(by='Src_IP_Addr').agg({'Durat':'sum', 'Prot':'sum', 'Flags':'sum', 'Tos':'sum', 'Packets':'sum', 'Bytes':'sum', 'Flows':'sum', 'Label':'max'})\n",
    "data_perhost['Dst_IPs'] = data_nobground.groupby('Src_IP_Addr')['Dst_IP_Addr'].nunique()\n",
    "data_perhost['Src_Ports'] = data_nobground.groupby('Src_IP_Addr')['Src_Port'].nunique()\n",
    "data_perhost['Dst_Ports'] = data_nobground.groupby('Src_IP_Addr')['Dst_Port'].nunique()\n",
    "\n",
    "hosts = data_perhost.index\n"
   ]
  },
  {
   "cell_type": "code",
   "execution_count": 23,
   "metadata": {},
   "outputs": [
    {
     "data": {
      "text/html": [
       "<div>\n",
       "<style scoped>\n",
       "    .dataframe tbody tr th:only-of-type {\n",
       "        vertical-align: middle;\n",
       "    }\n",
       "\n",
       "    .dataframe tbody tr th {\n",
       "        vertical-align: top;\n",
       "    }\n",
       "\n",
       "    .dataframe thead th {\n",
       "        text-align: right;\n",
       "    }\n",
       "</style>\n",
       "<table border=\"1\" class=\"dataframe\">\n",
       "  <thead>\n",
       "    <tr style=\"text-align: right;\">\n",
       "      <th></th>\n",
       "      <th>Durat</th>\n",
       "      <th>Prot</th>\n",
       "      <th>Flags</th>\n",
       "      <th>Tos</th>\n",
       "      <th>Packets</th>\n",
       "      <th>Bytes</th>\n",
       "      <th>Flows</th>\n",
       "      <th>Label</th>\n",
       "      <th>Dst_IPs</th>\n",
       "      <th>Src_Ports</th>\n",
       "      <th>Dst_Ports</th>\n",
       "    </tr>\n",
       "    <tr>\n",
       "      <th>Src_IP_Addr</th>\n",
       "      <th></th>\n",
       "      <th></th>\n",
       "      <th></th>\n",
       "      <th></th>\n",
       "      <th></th>\n",
       "      <th></th>\n",
       "      <th></th>\n",
       "      <th></th>\n",
       "      <th></th>\n",
       "      <th></th>\n",
       "      <th></th>\n",
       "    </tr>\n",
       "  </thead>\n",
       "  <tbody>\n",
       "    <tr>\n",
       "      <th>0</th>\n",
       "      <td>36118.226</td>\n",
       "      <td>0</td>\n",
       "      <td>67083</td>\n",
       "      <td>0</td>\n",
       "      <td>3057764</td>\n",
       "      <td>4113893358</td>\n",
       "      <td>36949</td>\n",
       "      <td>0</td>\n",
       "      <td>53</td>\n",
       "      <td>16</td>\n",
       "      <td>6104</td>\n",
       "    </tr>\n",
       "    <tr>\n",
       "      <th>1</th>\n",
       "      <td>2433.508</td>\n",
       "      <td>0</td>\n",
       "      <td>3672</td>\n",
       "      <td>0</td>\n",
       "      <td>10667</td>\n",
       "      <td>4287341</td>\n",
       "      <td>2921</td>\n",
       "      <td>0</td>\n",
       "      <td>43</td>\n",
       "      <td>325</td>\n",
       "      <td>2</td>\n",
       "    </tr>\n",
       "    <tr>\n",
       "      <th>2</th>\n",
       "      <td>14737.020</td>\n",
       "      <td>0</td>\n",
       "      <td>76580</td>\n",
       "      <td>0</td>\n",
       "      <td>233738</td>\n",
       "      <td>59270611</td>\n",
       "      <td>11801</td>\n",
       "      <td>0</td>\n",
       "      <td>4</td>\n",
       "      <td>4640</td>\n",
       "      <td>2</td>\n",
       "    </tr>\n",
       "    <tr>\n",
       "      <th>3</th>\n",
       "      <td>45904.780</td>\n",
       "      <td>194</td>\n",
       "      <td>287231</td>\n",
       "      <td>0</td>\n",
       "      <td>710691</td>\n",
       "      <td>312132150</td>\n",
       "      <td>90560</td>\n",
       "      <td>0</td>\n",
       "      <td>208</td>\n",
       "      <td>14179</td>\n",
       "      <td>11</td>\n",
       "    </tr>\n",
       "    <tr>\n",
       "      <th>4</th>\n",
       "      <td>6585.936</td>\n",
       "      <td>3452</td>\n",
       "      <td>36352</td>\n",
       "      <td>0</td>\n",
       "      <td>50649</td>\n",
       "      <td>10206525</td>\n",
       "      <td>10910</td>\n",
       "      <td>0</td>\n",
       "      <td>155</td>\n",
       "      <td>2856</td>\n",
       "      <td>22</td>\n",
       "    </tr>\n",
       "  </tbody>\n",
       "</table>\n",
       "</div>"
      ],
      "text/plain": [
       "                 Durat  Prot   Flags  Tos  Packets       Bytes  Flows  Label  \\\n",
       "Src_IP_Addr                                                                    \n",
       "0            36118.226     0   67083    0  3057764  4113893358  36949      0   \n",
       "1             2433.508     0    3672    0    10667     4287341   2921      0   \n",
       "2            14737.020     0   76580    0   233738    59270611  11801      0   \n",
       "3            45904.780   194  287231    0   710691   312132150  90560      0   \n",
       "4             6585.936  3452   36352    0    50649    10206525  10910      0   \n",
       "\n",
       "             Dst_IPs  Src_Ports  Dst_Ports  \n",
       "Src_IP_Addr                                 \n",
       "0                 53         16       6104  \n",
       "1                 43        325          2  \n",
       "2                  4       4640          2  \n",
       "3                208      14179         11  \n",
       "4                155       2856         22  "
      ]
     },
     "execution_count": 23,
     "metadata": {},
     "output_type": "execute_result"
    }
   ],
   "source": [
    "data_perhost.head()"
   ]
  },
  {
   "cell_type": "code",
   "execution_count": 24,
   "metadata": {
    "scrolled": true
   },
   "outputs": [
    {
     "name": "stdout",
     "output_type": "stream",
     "text": [
      "(522, 10)\n",
      "Imbalance ratio:  0.14725274725274726\n"
     ]
    }
   ],
   "source": [
    "labels = data_perhost['Label'].values\n",
    "data_perhost.drop(labels='Label', axis=1, inplace=True)\n",
    "X = data_perhost.values\n",
    "\n",
    "print(X.shape)\n",
    "print(\"Imbalance ratio: \", np.sum(labels)/np.sum(labels==0))"
   ]
  },
  {
   "cell_type": "code",
   "execution_count": 38,
   "metadata": {},
   "outputs": [
    {
     "data": {
      "image/png": "[encoded data removed]",
      "text/plain": [
       "<Figure size 432x288 with 1 Axes>"
      ]
     },
     "metadata": {
      "needs_background": "light"
     },
     "output_type": "display_data"
    },
    {
     "name": "stdout",
     "output_type": "stream",
     "text": [
      "Number of infected: 67\n",
      "Number of normal: 455\n"
     ]
    }
   ],
   "source": [
    "ax, counts = np.unique(labels, return_counts=True)\n",
    "plt.title('BOTNET vs LEGITIMATE')\n",
    "sns.barplot(x= ax, y=counts)  \n",
    "plt.xlabel('Types of Flows')\n",
    "plt.ylabel('Number of Packets')\n",
    "plt.show()\n",
    "\n",
    "print('Number of infected:', counts[1])\n",
    "print('Number of normal:', counts[0])"
   ]
  },
  {
   "cell_type": "code",
   "execution_count": 60,
   "metadata": {
    "scrolled": false
   },
   "outputs": [
    {
     "data": {
      "image/png": "[encoded data removed]",
      "text/plain": [
       "<Figure size 576x720 with 1 Axes>"
      ]
     },
     "metadata": {
      "needs_background": "light"
     },
     "output_type": "display_data"
    },
    {
     "name": "stdout",
     "output_type": "stream",
     "text": [
      "[[ 11   5]\n",
      " [ 56 450]]\n",
      "Accuracy: 0.883\n",
      "Precision: 0.688\n",
      "Recall: 0.164\n",
      "F1_score: 0.265\n"
     ]
    }
   ],
   "source": [
    "from sklearn.naive_bayes import GaussianNB\n",
    "\n",
    "clf = GaussianNB()\n",
    "nb_mean_tpr, nb_std_tpr, nb_mean_auc, nb_std_auc, mean_F1, std_F1, cm =roc_analysis(X, labels, clf, cv, False, True, False)\n",
    "\n",
    "print(cm)\n",
    "acc, prec, rec, F1 = performance_metrics(cm)\n",
    "print(\"Accuracy: %.3f\" %acc)\n",
    "print(\"Precision: %.3f\" %prec)\n",
    "print(\"Recall: %.3f\" %rec)\n",
    "print(\"F1_score: %.3f\" %F1)"
   ]
  },
  {
   "cell_type": "code",
   "execution_count": 46,
   "metadata": {
    "scrolled": true
   },
   "outputs": [
    {
     "name": "stdout",
     "output_type": "stream",
     "text": [
      "Mean AUC:\n",
      " [[0.47104377 0.45701605 0.4817023  0.4508986 ]\n",
      " [0.46877432 0.45590319 0.45269579 0.4553617 ]\n",
      " [0.46863658 0.45820907 0.4673182  0.47818371]\n",
      " [0.45601907 0.4552123  0.45538502 0.4567996 ]]\n",
      "Mean F1:\n",
      " [[0.23106061 0.22388889 0.24277778 0.22634921]\n",
      " [0.2402381  0.24968254 0.24166667 0.2465873 ]\n",
      " [0.25025253 0.24666667 0.23787879 0.26096681]\n",
      " [0.24166667 0.2602381  0.2452381  0.25825397]]\n"
     ]
    }
   ],
   "source": [
    "# Use cross-validation to determine the best overasmpling ratio\n",
    "ratios = np.array([ 0.2, 0.5, 0.8, 1])\n",
    "num_neighbours = np.array([1,2,3,5])\n",
    "\n",
    "m_auc_cv = np.zeros((len(ratios), len(num_neighbours)))\n",
    "std_auc_cv = np.zeros_like(m_auc_cv)\n",
    "m_F1_cv = np.zeros_like(m_auc_cv)\n",
    "std_F1_cv = np.zeros_like(m_auc_cv)\n",
    "\n",
    "\n",
    "i = 0\n",
    "for r in ratios: \n",
    "    j = 0\n",
    "    for n in num_neighbours:\n",
    "        sm = SMOTE(sampling_strategy=r, k_neighbors=n)\n",
    "        _, _, m_auc_cv[i,j], std_auc_cv[i,j], m_F1_cv[i,j], std_F1_cv[i,j],_ = roc_analysis(X, labels, clf, cv, \n",
    "                                                                                False, False, False, sm)\n",
    "        j = j+1\n",
    "    i = i+1\n",
    "\n",
    "# Output the mean metrics extracted; rows correspond to over-sampling ratio and columns to number of neighbours\n",
    "print(\"Mean AUC:\\n\", m_auc_cv)\n",
    "# print(\"std AUC:\\n\", std_auc_cv)\n",
    "print(\"Mean F1:\\n\", m_F1_cv)\n",
    "# print(\"std F1:\\n\", std_F1_cv)"
   ]
  },
  {
   "cell_type": "code",
   "execution_count": 65,
   "metadata": {},
   "outputs": [
    {
     "data": {
      "image/png": "[encoded data removed]",
      "text/plain": [
       "<Figure size 576x720 with 1 Axes>"
      ]
     },
     "metadata": {
      "needs_background": "light"
     },
     "output_type": "display_data"
    },
    {
     "name": "stdout",
     "output_type": "stream",
     "text": [
      "[[ 11   4]\n",
      " [ 56 451]]\n",
      "Accuracy: 0.885\n",
      "Precision: 0.733\n",
      "Recall: 0.164\n",
      "F1_score: 0.268\n"
     ]
    }
   ],
   "source": [
    "sm = SMOTE(sampling_strategy=0.8, k_neighbors=5)\n",
    "\n",
    "clf = GaussianNB()\n",
    "nb_mean_tpr, nb_std_tpr, nb_mean_auc, nb_std_auc, mean_F1, std_F1, cm =roc_analysis(X, labels, clf, cv, False, True, False,sm)\n",
    "\n",
    "print(cm)\n",
    "acc, prec, rec, F1 = performance_metrics(cm)\n",
    "print(\"Accuracy: %.3f\" %acc)\n",
    "print(\"Precision: %.3f\" %prec)\n",
    "print(\"Recall: %.3f\" %rec)\n",
    "print(\"F1_score: %.3f\" %F1)\n"
   ]
  },
  {
   "cell_type": "code",
   "execution_count": 28,
   "metadata": {
    "scrolled": true
   },
   "outputs": [
    {
     "name": "stdout",
     "output_type": "stream",
     "text": [
      "[[ 34  24]\n",
      " [ 33 431]]\n",
      "Accuracy: 0.891\n",
      "Precision: 0.586\n",
      "Recall: 0.507\n",
      "F1_score: 0.544\n"
     ]
    }
   ],
   "source": [
    "from  sklearn.linear_model import LogisticRegression as LR\n",
    "\n",
    "clf = LR(C = 1, solver = 'lbfgs', multi_class = 'ovr', n_jobs=-1)\n",
    "nb_mean_tpr, nb_std_tpr, nb_mean_auc, nb_std_auc, mean_F1, std_F1, cm =roc_analysis(X, labels, clf, cv, False, False, False)\n",
    "\n",
    "print(cm)\n",
    "acc, prec, rec, F1 = performance_metrics(cm)\n",
    "print(\"Accuracy: %.3f\" %acc)\n",
    "print(\"Precision: %.3f\" %prec)\n",
    "print(\"Recall: %.3f\" %rec)\n",
    "print(\"F1_score: %.3f\" %F1)"
   ]
  },
  {
   "cell_type": "code",
   "execution_count": 66,
   "metadata": {
    "scrolled": true
   },
   "outputs": [
    {
     "data": {
      "image/png": "[encoded data removed]",
      "text/plain": [
       "<Figure size 576x720 with 1 Axes>"
      ]
     },
     "metadata": {
      "needs_background": "light"
     },
     "output_type": "display_data"
    },
    {
     "name": "stdout",
     "output_type": "stream",
     "text": [
      "[[ 45  11]\n",
      " [ 22 444]]\n",
      "Accuracy: 0.937\n",
      "Precision: 0.804\n",
      "Recall: 0.672\n",
      "F1_score: 0.732\n"
     ]
    }
   ],
   "source": [
    "from  sklearn.ensemble import RandomForestClassifier as RF\n",
    "\n",
    "clf = RF(n_estimators='warn', criterion='gini', min_samples_split=2, min_samples_leaf=1, \n",
    "         min_weight_fraction_leaf=0.0, max_features='auto', min_impurity_decrease=0.0, \n",
    "         bootstrap=True, n_jobs=-1, verbose=0, warm_start=False)\n",
    "nb_mean_tpr, nb_std_tpr, nb_mean_auc, nb_std_auc, mean_F1, std_F1, cm =roc_analysis(X, labels, clf, cv, False, True, False)\n",
    "\n",
    "print(cm)\n",
    "acc, prec, rec, F1 = performance_metrics(cm)\n",
    "print(\"Accuracy: %.3f\" %acc)\n",
    "print(\"Precision: %.3f\" %prec)\n",
    "print(\"Recall: %.3f\" %rec)\n",
    "print(\"F1_score: %.3f\" %F1)"
   ]
  }
 ],
 "metadata": {
  "kernelspec": {
   "display_name": "Python 3",
   "language": "python",
   "name": "python3"
  },
  "language_info": {
   "codemirror_mode": {
    "name": "ipython",
    "version": 3
   },
   "file_extension": ".py",
   "mimetype": "text/x-python",
   "name": "python",
   "nbconvert_exporter": "python",
   "pygments_lexer": "ipython3",
   "version": "3.7.3"
  }
 },
 "nbformat": 4,
 "nbformat_minor": 2
}
